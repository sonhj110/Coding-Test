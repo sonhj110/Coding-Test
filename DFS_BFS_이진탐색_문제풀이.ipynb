{
  "nbformat": 4,
  "nbformat_minor": 0,
  "metadata": {
    "colab": {
      "provenance": [],
      "toc_visible": true,
      "authorship_tag": "ABX9TyOY7gqDwy5mZYSmdUmJgUFl",
      "include_colab_link": true
    },
    "kernelspec": {
      "name": "python3",
      "display_name": "Python 3"
    },
    "language_info": {
      "name": "python"
    }
  },
  "cells": [
    {
      "cell_type": "markdown",
      "metadata": {
        "id": "view-in-github",
        "colab_type": "text"
      },
      "source": [
        "<a href=\"https://colab.research.google.com/github/sonhj110/Coding-Test/blob/main/DFS_BFS_%EC%9D%B4%EC%A7%84%ED%83%90%EC%83%89_%EB%AC%B8%EC%A0%9C%ED%92%80%EC%9D%B4.ipynb\" target=\"_parent\"><img src=\"https://colab.research.google.com/assets/colab-badge.svg\" alt=\"Open In Colab\"/></a>"
      ]
    },
    {
      "cell_type": "markdown",
      "source": [
        "# (DFS) 교재 23번-백준 11724번\n",
        "https://www.acmicpc.net/problem/11724\n",
        "\n"
      ],
      "metadata": {
        "id": "siJz5hurutyr"
      }
    },
    {
      "cell_type": "code",
      "execution_count": 37,
      "metadata": {
        "id": "Zcw7y962gV7H"
      },
      "outputs": [],
      "source": [
        "def dfs(graph, v, visited) :\n",
        "\n",
        "  visited[v] = True\n",
        "  # print(visited)\n",
        "  # print(v, end=' ')\n",
        "  for i in graph[v] :\n",
        "    if not visited[i] : # visited[i]가 False이면\n",
        "      dfs(graph, i, visited) # i 노드에 연결된 다른 노드를 재귀적으로 방문"
      ]
    },
    {
      "cell_type": "code",
      "source": [
        "n, m = map(int, input().split())\n",
        "array = []\n",
        "graph = [[] for i in range(n)]"
      ],
      "metadata": {
        "colab": {
          "base_uri": "https://localhost:8080/",
          "height": 223
        },
        "id": "3U-q4Xmuv-gs",
        "outputId": "af8d6894-5370-4208-e559-dfa98d9295bb"
      },
      "execution_count": 34,
      "outputs": [
        {
          "output_type": "error",
          "ename": "ValueError",
          "evalue": "ignored",
          "traceback": [
            "\u001b[0;31m---------------------------------------------------------------------------\u001b[0m",
            "\u001b[0;31mValueError\u001b[0m                                Traceback (most recent call last)",
            "\u001b[0;32m<ipython-input-34-4e65e517a631>\u001b[0m in \u001b[0;36m<cell line: 1>\u001b[0;34m()\u001b[0m\n\u001b[0;32m----> 1\u001b[0;31m \u001b[0mn\u001b[0m\u001b[0;34m,\u001b[0m \u001b[0mm\u001b[0m \u001b[0;34m=\u001b[0m \u001b[0mmap\u001b[0m\u001b[0;34m(\u001b[0m\u001b[0mint\u001b[0m\u001b[0;34m,\u001b[0m \u001b[0minput\u001b[0m\u001b[0;34m(\u001b[0m\u001b[0;34m)\u001b[0m\u001b[0;34m.\u001b[0m\u001b[0msplit\u001b[0m\u001b[0;34m(\u001b[0m\u001b[0;34m)\u001b[0m\u001b[0;34m)\u001b[0m\u001b[0;34m\u001b[0m\u001b[0;34m\u001b[0m\u001b[0m\n\u001b[0m\u001b[1;32m      2\u001b[0m \u001b[0marray\u001b[0m \u001b[0;34m=\u001b[0m \u001b[0;34m[\u001b[0m\u001b[0;34m]\u001b[0m\u001b[0;34m\u001b[0m\u001b[0;34m\u001b[0m\u001b[0m\n\u001b[1;32m      3\u001b[0m \u001b[0mgraph\u001b[0m \u001b[0;34m=\u001b[0m \u001b[0;34m[\u001b[0m\u001b[0;34m[\u001b[0m\u001b[0;34m]\u001b[0m \u001b[0;32mfor\u001b[0m \u001b[0mi\u001b[0m \u001b[0;32min\u001b[0m \u001b[0mrange\u001b[0m\u001b[0;34m(\u001b[0m\u001b[0mn\u001b[0m\u001b[0;34m)\u001b[0m\u001b[0;34m]\u001b[0m\u001b[0;34m\u001b[0m\u001b[0;34m\u001b[0m\u001b[0m\n",
            "\u001b[0;31mValueError\u001b[0m: not enough values to unpack (expected 2, got 0)"
          ]
        }
      ]
    },
    {
      "cell_type": "code",
      "source": [
        "# 그래프 구현\n",
        "for index in range(m) :\n",
        "  array.append(list(map(int, input().split())))\n",
        "\n",
        "arraysave = array\n",
        "print(array)\n",
        "\n",
        "for node in range(n) :\n",
        "\n",
        "  for edge in array :\n",
        "    array = arraysave\n",
        "\n",
        "    if node in edge :\n",
        "      edge.remove(node)\n",
        "      graph[node-1].extend(edge)\n",
        "\n",
        "print(graph)"
      ],
      "metadata": {
        "colab": {
          "base_uri": "https://localhost:8080/",
          "height": 434
        },
        "id": "bjO81cHehZeL",
        "outputId": "4a22f7d2-7bb4-4f69-d396-e60463a87eb6"
      },
      "execution_count": 25,
      "outputs": [
        {
          "output_type": "error",
          "ename": "KeyboardInterrupt",
          "evalue": "ignored",
          "traceback": [
            "\u001b[0;31m---------------------------------------------------------------------------\u001b[0m",
            "\u001b[0;31mKeyboardInterrupt\u001b[0m                         Traceback (most recent call last)",
            "\u001b[0;32m<ipython-input-25-3e71e2855fee>\u001b[0m in \u001b[0;36m<cell line: 2>\u001b[0;34m()\u001b[0m\n\u001b[1;32m      1\u001b[0m \u001b[0;31m# 그래프 구현\u001b[0m\u001b[0;34m\u001b[0m\u001b[0;34m\u001b[0m\u001b[0m\n\u001b[1;32m      2\u001b[0m \u001b[0;32mfor\u001b[0m \u001b[0mindex\u001b[0m \u001b[0;32min\u001b[0m \u001b[0mrange\u001b[0m\u001b[0;34m(\u001b[0m\u001b[0mm\u001b[0m\u001b[0;34m)\u001b[0m \u001b[0;34m:\u001b[0m\u001b[0;34m\u001b[0m\u001b[0;34m\u001b[0m\u001b[0m\n\u001b[0;32m----> 3\u001b[0;31m   \u001b[0marray\u001b[0m\u001b[0;34m.\u001b[0m\u001b[0mappend\u001b[0m\u001b[0;34m(\u001b[0m\u001b[0mlist\u001b[0m\u001b[0;34m(\u001b[0m\u001b[0mmap\u001b[0m\u001b[0;34m(\u001b[0m\u001b[0mint\u001b[0m\u001b[0;34m,\u001b[0m \u001b[0minput\u001b[0m\u001b[0;34m(\u001b[0m\u001b[0;34m)\u001b[0m\u001b[0;34m.\u001b[0m\u001b[0msplit\u001b[0m\u001b[0;34m(\u001b[0m\u001b[0;34m)\u001b[0m\u001b[0;34m)\u001b[0m\u001b[0;34m)\u001b[0m\u001b[0;34m)\u001b[0m\u001b[0;34m\u001b[0m\u001b[0;34m\u001b[0m\u001b[0m\n\u001b[0m\u001b[1;32m      4\u001b[0m \u001b[0;34m\u001b[0m\u001b[0m\n\u001b[1;32m      5\u001b[0m \u001b[0marraysave\u001b[0m \u001b[0;34m=\u001b[0m \u001b[0marray\u001b[0m\u001b[0;34m\u001b[0m\u001b[0;34m\u001b[0m\u001b[0m\n",
            "\u001b[0;32m/usr/local/lib/python3.10/dist-packages/ipykernel/kernelbase.py\u001b[0m in \u001b[0;36mraw_input\u001b[0;34m(self, prompt)\u001b[0m\n\u001b[1;32m    849\u001b[0m                 \u001b[0;34m\"raw_input was called, but this frontend does not support input requests.\"\u001b[0m\u001b[0;34m\u001b[0m\u001b[0;34m\u001b[0m\u001b[0m\n\u001b[1;32m    850\u001b[0m             )\n\u001b[0;32m--> 851\u001b[0;31m         return self._input_request(str(prompt),\n\u001b[0m\u001b[1;32m    852\u001b[0m             \u001b[0mself\u001b[0m\u001b[0;34m.\u001b[0m\u001b[0m_parent_ident\u001b[0m\u001b[0;34m,\u001b[0m\u001b[0;34m\u001b[0m\u001b[0;34m\u001b[0m\u001b[0m\n\u001b[1;32m    853\u001b[0m             \u001b[0mself\u001b[0m\u001b[0;34m.\u001b[0m\u001b[0m_parent_header\u001b[0m\u001b[0;34m,\u001b[0m\u001b[0;34m\u001b[0m\u001b[0;34m\u001b[0m\u001b[0m\n",
            "\u001b[0;32m/usr/local/lib/python3.10/dist-packages/ipykernel/kernelbase.py\u001b[0m in \u001b[0;36m_input_request\u001b[0;34m(self, prompt, ident, parent, password)\u001b[0m\n\u001b[1;32m    893\u001b[0m             \u001b[0;32mexcept\u001b[0m \u001b[0mKeyboardInterrupt\u001b[0m\u001b[0;34m:\u001b[0m\u001b[0;34m\u001b[0m\u001b[0;34m\u001b[0m\u001b[0m\n\u001b[1;32m    894\u001b[0m                 \u001b[0;31m# re-raise KeyboardInterrupt, to truncate traceback\u001b[0m\u001b[0;34m\u001b[0m\u001b[0;34m\u001b[0m\u001b[0m\n\u001b[0;32m--> 895\u001b[0;31m                 \u001b[0;32mraise\u001b[0m \u001b[0mKeyboardInterrupt\u001b[0m\u001b[0;34m(\u001b[0m\u001b[0;34m\"Interrupted by user\"\u001b[0m\u001b[0;34m)\u001b[0m \u001b[0;32mfrom\u001b[0m \u001b[0;32mNone\u001b[0m\u001b[0;34m\u001b[0m\u001b[0;34m\u001b[0m\u001b[0m\n\u001b[0m\u001b[1;32m    896\u001b[0m             \u001b[0;32mexcept\u001b[0m \u001b[0mException\u001b[0m \u001b[0;32mas\u001b[0m \u001b[0me\u001b[0m\u001b[0;34m:\u001b[0m\u001b[0;34m\u001b[0m\u001b[0;34m\u001b[0m\u001b[0m\n\u001b[1;32m    897\u001b[0m                 \u001b[0mself\u001b[0m\u001b[0;34m.\u001b[0m\u001b[0mlog\u001b[0m\u001b[0;34m.\u001b[0m\u001b[0mwarning\u001b[0m\u001b[0;34m(\u001b[0m\u001b[0;34m\"Invalid Message:\"\u001b[0m\u001b[0;34m,\u001b[0m \u001b[0mexc_info\u001b[0m\u001b[0;34m=\u001b[0m\u001b[0;32mTrue\u001b[0m\u001b[0;34m)\u001b[0m\u001b[0;34m\u001b[0m\u001b[0;34m\u001b[0m\u001b[0m\n",
            "\u001b[0;31mKeyboardInterrupt\u001b[0m: Interrupted by user"
          ]
        }
      ]
    },
    {
      "cell_type": "code",
      "source": [
        "import copy\n",
        "\n",
        "n, m = 6, 5\n",
        "array = [[], [1, 2], [2, 5], [5, 1], [3, 4], [4, 6]]\n",
        "graph = [[] for i in range(n+1)]\n",
        "\n",
        "for node in range(1, n+1) :\n",
        "  # print('노드번호', node)\n",
        "\n",
        "  for edge in array :\n",
        "    edgetemp = copy.deepcopy(edge)\n",
        "\n",
        "    if node in edge :\n",
        "      edgetemp.remove(node)\n",
        "      graph[node].extend(edgetemp)\n",
        "\n",
        "print(graph)"
      ],
      "metadata": {
        "colab": {
          "base_uri": "https://localhost:8080/"
        },
        "id": "22ZPJvrPiQZ0",
        "outputId": "bcc99f59-c5a5-4d43-c745-ed478ecbc641"
      },
      "execution_count": 26,
      "outputs": [
        {
          "output_type": "stream",
          "name": "stdout",
          "text": [
            "[[], [2, 5], [1, 5], [4], [3, 6], [2, 1], [4]]\n"
          ]
        }
      ]
    },
    {
      "cell_type": "code",
      "source": [
        "visited = [False for i in range(n+1)]\n",
        "count = 0\n",
        "for i in range(1, n+1) :\n",
        "  if visited[i] :\n",
        "    continue\n",
        "  if False in visited[1:] :\n",
        "    # print(i)\n",
        "    dfs(graph, i, visited)\n",
        "    count += 1\n",
        "\n",
        "print(count)"
      ],
      "metadata": {
        "colab": {
          "base_uri": "https://localhost:8080/"
        },
        "id": "VYLCOXz1nQ0o",
        "outputId": "0023f314-b07f-424d-ad83-8f64284a6a57"
      },
      "execution_count": 38,
      "outputs": [
        {
          "output_type": "stream",
          "name": "stdout",
          "text": [
            "2\n"
          ]
        }
      ]
    },
    {
      "cell_type": "markdown",
      "source": [
        "## 교재보고 푼 최종제출답안"
      ],
      "metadata": {
        "id": "yd7YhiLE3q4c"
      }
    },
    {
      "cell_type": "code",
      "source": [
        "import sys\n",
        "sys.setrecursionlimit(10000)\n",
        "input = sys.stdin.readline\n",
        "\n",
        "n, m = map(int, input().split())\n",
        "array = []\n",
        "graph = [[] for i in range(n+1)]\n",
        "\n",
        "\n",
        "for i in range(m) :\n",
        "  u, j = map(int, input().split())\n",
        "  graph[u].append(j)\n",
        "  graph[j].append(u)\n",
        "\n",
        "\n",
        "def dfs(graph, v, visited) :\n",
        "  visited[v] = True\n",
        "  for i in graph[v] :\n",
        "    if not visited[i] :\n",
        "      dfs(graph, i, visited)\n",
        "\n",
        "\n",
        "visited = [False for i in range(n+1)]\n",
        "count = 0\n",
        "\n",
        "\n",
        "for i in range(1, n+1) :\n",
        "  if visited[i] :\n",
        "    continue\n",
        "  if False in visited[1:] :\n",
        "    dfs(graph, i, visited)\n",
        "    count += 1\n",
        "\n",
        "\n",
        "print(count)"
      ],
      "metadata": {
        "id": "tm2AOnH53t6w"
      },
      "execution_count": null,
      "outputs": []
    },
    {
      "cell_type": "markdown",
      "source": [
        "## 교재답안"
      ],
      "metadata": {
        "id": "Ezx0JdmH4XQ7"
      }
    },
    {
      "cell_type": "code",
      "source": [
        "import sys\n",
        "sys.setrecursionlimit(10000)\n",
        "input = sys.stdin.readline\n",
        "\n",
        "n, m = map(int, input().split())\n",
        "array = []\n",
        "graph = [[] for i in range(n+1)]\n",
        "\n",
        "\n",
        "for i in range(m) :\n",
        "  u, j = map(int, input().split())\n",
        "  graph[u].append(j)\n",
        "  graph[j].append(u)\n",
        "\n",
        "\n",
        "def dfs(graph, v, visited) :\n",
        "\n",
        "  visited[v] = True\n",
        "\n",
        "  for i in graph[v] :\n",
        "    if not visited[i] : # visited[i]가 False이면\n",
        "      dfs(graph, i, visited) # i 노드에 연결된 다른 노드를 재귀적으로 방문\n",
        "\n",
        "\n",
        "visited = [False for i in range(n+1)]\n",
        "count = 0\n",
        "\n",
        "\n",
        "for i in range(1, n+1) :\n",
        "  if not visited[i] :\n",
        "    count += 1\n",
        "    dfs(graph, i, visited)\n",
        "\n",
        "print(count)"
      ],
      "metadata": {
        "colab": {
          "base_uri": "https://localhost:8080/",
          "height": 429
        },
        "id": "jmYaosQj3vp-",
        "outputId": "f24f6670-df69-49f1-d4b5-a279d691591d"
      },
      "execution_count": 1,
      "outputs": [
        {
          "name": "stdout",
          "output_type": "stream",
          "text": [
            "6 8\n",
            "1 2\n",
            "2 5\n",
            "5 1\n",
            "3 4\n",
            "4 6\n",
            "5 4\n",
            "2 4\n",
            "2 3\n"
          ]
        },
        {
          "output_type": "error",
          "ename": "NameError",
          "evalue": "ignored",
          "traceback": [
            "\u001b[0;31m---------------------------------------------------------------------------\u001b[0m",
            "\u001b[0;31mNameError\u001b[0m                                 Traceback (most recent call last)",
            "\u001b[0;32m<ipython-input-1-3c4d1fb5b3fc>\u001b[0m in \u001b[0;36m<cell line: 17>\u001b[0;34m()\u001b[0m\n\u001b[1;32m     18\u001b[0m   \u001b[0;32mif\u001b[0m \u001b[0;32mnot\u001b[0m \u001b[0mvisited\u001b[0m\u001b[0;34m[\u001b[0m\u001b[0mi\u001b[0m\u001b[0;34m]\u001b[0m \u001b[0;34m:\u001b[0m\u001b[0;34m\u001b[0m\u001b[0;34m\u001b[0m\u001b[0m\n\u001b[1;32m     19\u001b[0m     \u001b[0mcount\u001b[0m \u001b[0;34m+=\u001b[0m \u001b[0;36m1\u001b[0m\u001b[0;34m\u001b[0m\u001b[0;34m\u001b[0m\u001b[0m\n\u001b[0;32m---> 20\u001b[0;31m     \u001b[0mdfs\u001b[0m\u001b[0;34m(\u001b[0m\u001b[0mgraph\u001b[0m\u001b[0;34m,\u001b[0m \u001b[0mi\u001b[0m\u001b[0;34m,\u001b[0m \u001b[0mvisited\u001b[0m\u001b[0;34m)\u001b[0m\u001b[0;34m\u001b[0m\u001b[0;34m\u001b[0m\u001b[0m\n\u001b[0m\u001b[1;32m     21\u001b[0m \u001b[0;34m\u001b[0m\u001b[0m\n\u001b[1;32m     22\u001b[0m \u001b[0mprint\u001b[0m\u001b[0;34m(\u001b[0m\u001b[0mcount\u001b[0m\u001b[0;34m)\u001b[0m\u001b[0;34m\u001b[0m\u001b[0;34m\u001b[0m\u001b[0m\n",
            "\u001b[0;31mNameError\u001b[0m: name 'dfs' is not defined"
          ]
        }
      ]
    },
    {
      "cell_type": "markdown",
      "source": [
        "# (BFS) 교재 26번-백준 1260번\n",
        "https://www.acmicpc.net/problem/1260"
      ],
      "metadata": {
        "id": "SKXQgYLcundn"
      }
    },
    {
      "cell_type": "code",
      "source": [
        "n, m, v = map(int, input().split())\n",
        "graph = [[] for i in range(n+1)]\n",
        "\n",
        "for i in range(m) :\n",
        "  u, j = map(int, input().split())\n",
        "  graph[u].append(j)\n",
        "  graph[j].append(u)\n",
        "\n",
        "print(graph)"
      ],
      "metadata": {
        "colab": {
          "base_uri": "https://localhost:8080/"
        },
        "id": "g1SM4ddAtpp_",
        "outputId": "fc29cec0-9b1c-4057-f08d-64cd70a0dd93"
      },
      "execution_count": 4,
      "outputs": [
        {
          "output_type": "stream",
          "name": "stdout",
          "text": [
            "4 5 1\n",
            "1 2\n",
            "1 3\n",
            "1 4\n",
            "2 4\n",
            "3 4\n",
            "[[], [2, 3, 4], [1, 4], [1, 4], [1, 2, 3]]\n"
          ]
        }
      ]
    },
    {
      "cell_type": "code",
      "source": [
        "def dfs(graph, v, visited) :\n",
        "\n",
        "  visited[v] = True\n",
        "  print(v, end=' ')\n",
        "\n",
        "  for i in graph[v] :\n",
        "    if not visited[i] : # visited[i]가 False이면\n",
        "      dfs(graph, i, visited) # i 노드에 연결된 다른 노드를 재귀적으로 방문"
      ],
      "metadata": {
        "id": "64MOCdWxv4CV"
      },
      "execution_count": 5,
      "outputs": []
    },
    {
      "cell_type": "code",
      "source": [
        "visited_d = [False for i in range(n+1)]\n",
        "\n",
        "dfs(graph, v, visited_d)"
      ],
      "metadata": {
        "colab": {
          "base_uri": "https://localhost:8080/"
        },
        "id": "FGXo9BWGwgS8",
        "outputId": "8cbc0478-6609-48c3-9c82-3fb57af32310"
      },
      "execution_count": 7,
      "outputs": [
        {
          "output_type": "stream",
          "name": "stdout",
          "text": [
            "1 2 4 3 "
          ]
        }
      ]
    },
    {
      "cell_type": "code",
      "source": [
        "from collections import deque\n",
        "\n",
        "def bfs(graph, start, visited) : # 인자로 탐색할 그래프와 시작점을 받는다\n",
        "\n",
        "  # 시작 노드 큐에 저장\n",
        "  queue = deque([start])\n",
        "\n",
        "  # 시작 노드 방문처리\n",
        "  visited[start] = True\n",
        "\n",
        "  # 큐가 빌 때까지 반복\n",
        "  while queue:\n",
        "\n",
        "    # 큐에서 하나의 원소를 뽑기\n",
        "    v = queue.popleft()\n",
        "\n",
        "    # 탐색 순서 출력\n",
        "    print(v, end = \" \")\n",
        "\n",
        "    # 인접한 원소 중 작은 숫자부터 방문하기 위해 오름차순으로 정렬\n",
        "    graph[v].sort()\n",
        "\n",
        "    # 해당 원소에 인접한 노드 구하기\n",
        "    for i in graph[v]:\n",
        "\n",
        "      # 인접한 노드가 방문한적 없는 노드일때 큐에 추가하고 방문처리하기\n",
        "      if not visited[i]:\n",
        "          queue.append(i)\n",
        "          visited[i] = True"
      ],
      "metadata": {
        "id": "DOC5y3wowmQw"
      },
      "execution_count": 10,
      "outputs": []
    },
    {
      "cell_type": "code",
      "source": [
        "visited_b = [False for i in range(n+1)]\n",
        "bfs(graph, v, visited_b)"
      ],
      "metadata": {
        "colab": {
          "base_uri": "https://localhost:8080/"
        },
        "id": "m39TiESoxR4U",
        "outputId": "735c5638-5835-444d-8f98-ed22ac7ab8e3"
      },
      "execution_count": 11,
      "outputs": [
        {
          "output_type": "stream",
          "name": "stdout",
          "text": [
            "1 2 3 4 "
          ]
        }
      ]
    },
    {
      "cell_type": "markdown",
      "source": [
        "## 최종제출답안"
      ],
      "metadata": {
        "id": "HtB8dxewz7N9"
      }
    },
    {
      "cell_type": "code",
      "source": [
        "n, m, v = map(int, input().split())\n",
        "graph = [[] for i in range(n+1)]\n",
        "\n",
        "# 그래프 구현\n",
        "for i in range(m) :\n",
        "  u, j = map(int, input().split())\n",
        "  graph[u].append(j)\n",
        "  graph[j].append(u)\n",
        "\n",
        "# 깊이 우선 탐색 정의\n",
        "def dfs(graph, v, visited) :\n",
        "\n",
        "  visited[v] = True\n",
        "  print(v, end=' ')\n",
        "  graph[v].sort()\n",
        "\n",
        "  for i in graph[v] :\n",
        "    if not visited[i] : # visited[i]가 False이면\n",
        "      dfs(graph, i, visited) # i 노드에 연결된 다른 노드를 재귀적으로 방문\n",
        "\n",
        "\n",
        "# 너비 우선 탐색 정의\n",
        "def bfs(graph, start, visited) :\n",
        "  from collections import deque\n",
        "\n",
        "  queue = deque([start])\n",
        "  visited[start] = True\n",
        "\n",
        "  while queue:\n",
        "    v = queue.popleft()\n",
        "    print(v, end = \" \")\n",
        "    graph[v].sort()\n",
        "\n",
        "    for i in graph[v]:\n",
        "      if not visited[i]:\n",
        "          queue.append(i)\n",
        "          visited[i] = True\n",
        "\n",
        "visited_d = [False for i in range(n+1)]\n",
        "visited_b = [False for i in range(n+1)]\n",
        "\n",
        "# 출력\n",
        "dfs(graph, v, visited_d)\n",
        "print()\n",
        "bfs(graph, v, visited_b)"
      ],
      "metadata": {
        "colab": {
          "base_uri": "https://localhost:8080/"
        },
        "id": "ZBAw6R0ZxVhS",
        "outputId": "075cd958-330f-4b77-eaec-b0dee7850e8a"
      },
      "execution_count": 17,
      "outputs": [
        {
          "output_type": "stream",
          "name": "stdout",
          "text": [
            "5 5 3\n",
            "5 4\n",
            "5 2\n",
            "1 2\n",
            "3 4\n",
            "3 1\n",
            "3 4 5 2 1 \n",
            "3 1 4 2 5 "
          ]
        }
      ]
    },
    {
      "cell_type": "markdown",
      "source": [
        "# (이진탐색) 교재 29번-백준 1920번\n",
        "https://www.acmicpc.net/problem/1920"
      ],
      "metadata": {
        "id": "R2vkm9Zx4w_S"
      }
    },
    {
      "cell_type": "code",
      "source": [
        "def binary_search(array, target, start, end):\n",
        "\n",
        "    while start <= end:\n",
        "        mid = (start + end)  // 2 # 반으로 가를 기준점\n",
        "        # print('mid: ', mid)\n",
        "\n",
        "        # 원하는 값을 찾은 경우 인덱스 반환\n",
        "        if array[mid] == target:\n",
        "            return 1\n",
        "\n",
        "        # 원하는 값이 중간점의 값보다 작은 경우 왼쪽 부분(절반의 왼쪽 부분) 확인\n",
        "        elif array[mid] > target:\n",
        "            end = mid - 1\n",
        "\n",
        "        # 원하는 값이 중간점의 값보다 큰 경우 오른쪽 부분(절반의 오른쪽 부분) 확인\n",
        "        else:\n",
        "            start = mid + 1\n",
        "\n",
        "    if target == array[mid] :\n",
        "      return 1\n",
        "\n",
        "    else :\n",
        "      return 0"
      ],
      "metadata": {
        "id": "bN8F2Kdw48Xv"
      },
      "execution_count": 12,
      "outputs": []
    },
    {
      "cell_type": "code",
      "source": [
        "n = 10\n",
        "target = 7\n",
        "array = [1, 3, 5, 7, 9, 11, 13, 15, 17, 19]"
      ],
      "metadata": {
        "id": "ztE3lDB65yrL"
      },
      "execution_count": 42,
      "outputs": []
    },
    {
      "cell_type": "code",
      "source": [
        "result = binary_search(array, target, 0, n-1)\n",
        "\n",
        "if result is None:\n",
        "    print('원소가 존재하지 않는다.')\n",
        "else:\n",
        "    print(result)"
      ],
      "metadata": {
        "colab": {
          "base_uri": "https://localhost:8080/"
        },
        "id": "60U6dKZF6IVQ",
        "outputId": "1a4dbc67-8bd5-4115-9b36-6e9bb961cb50"
      },
      "execution_count": 46,
      "outputs": [
        {
          "output_type": "stream",
          "name": "stdout",
          "text": [
            "3\n"
          ]
        }
      ]
    },
    {
      "cell_type": "code",
      "source": [
        "n = int(input()) # 데이터 개수\n",
        "a = list(map(int, input().split())) # 탐색할 리스트\n",
        "m = int(input()) # 찾아야할 숫자 개수\n",
        "ls = list(map(int, input().split())) # 찾아야할 숫자들"
      ],
      "metadata": {
        "colab": {
          "base_uri": "https://localhost:8080/"
        },
        "id": "itrwBmT66MsY",
        "outputId": "2fbcc60e-ca0f-498c-8ebd-aa3a0e79198b"
      },
      "execution_count": 1,
      "outputs": [
        {
          "name": "stdout",
          "output_type": "stream",
          "text": [
            "5\n",
            "4 1 5 2 3\n",
            "5\n",
            "1 3 7 9 5\n"
          ]
        }
      ]
    },
    {
      "cell_type": "code",
      "source": [
        "n = 5\n",
        "a = [4, 1, 5, 2, 3]\n",
        "m = 5\n",
        "ls =[1, 3, 7, 9, 5]"
      ],
      "metadata": {
        "id": "E4DXyZQ76tJa"
      },
      "execution_count": 2,
      "outputs": []
    },
    {
      "cell_type": "code",
      "source": [
        "a.sort()\n",
        "a"
      ],
      "metadata": {
        "colab": {
          "base_uri": "https://localhost:8080/"
        },
        "id": "en3Qx2k_7B0O",
        "outputId": "ce2b11e6-6d43-4c94-ffa5-940042349342"
      },
      "execution_count": 4,
      "outputs": [
        {
          "output_type": "execute_result",
          "data": {
            "text/plain": [
              "[1, 2, 3, 4, 5]"
            ]
          },
          "metadata": {},
          "execution_count": 4
        }
      ]
    },
    {
      "cell_type": "code",
      "source": [
        "binary_search(a, 5, 0, len(a)-1)"
      ],
      "metadata": {
        "colab": {
          "base_uri": "https://localhost:8080/"
        },
        "id": "kk9iWDI_7ISI",
        "outputId": "72656aa0-1ca8-4b6a-87be-34d7ab71f212"
      },
      "execution_count": 13,
      "outputs": [
        {
          "output_type": "execute_result",
          "data": {
            "text/plain": [
              "1"
            ]
          },
          "metadata": {},
          "execution_count": 13
        }
      ]
    },
    {
      "cell_type": "code",
      "source": [
        "for value in ls :\n",
        "  print(binary_search(a, value, 0, len(a)-1))"
      ],
      "metadata": {
        "colab": {
          "base_uri": "https://localhost:8080/"
        },
        "id": "Q6XAbO9C7VbJ",
        "outputId": "0822a13e-dacb-4fde-883b-4d87b09dae03"
      },
      "execution_count": 15,
      "outputs": [
        {
          "output_type": "stream",
          "name": "stdout",
          "text": [
            "1\n",
            "1\n",
            "0\n",
            "0\n",
            "1\n"
          ]
        }
      ]
    },
    {
      "cell_type": "markdown",
      "source": [
        "## 최종제출답안"
      ],
      "metadata": {
        "id": "iPPM5vMD9QBX"
      }
    },
    {
      "cell_type": "code",
      "source": [
        "n = int(input()) # 데이터 개수\n",
        "a = list(map(int, input().split())) # 탐색할 리스트\n",
        "m = int(input()) # 찾아야할 숫자 개수\n",
        "ls = list(map(int, input().split())) # 찾아야할 숫자들\n",
        "\n",
        "a.sort()\n",
        "\n",
        "\n",
        "def binary_search(array, target, start, end):\n",
        "\n",
        "    while start <= end:\n",
        "        mid = (start + end)  // 2\n",
        "\n",
        "        if array[mid] == target:\n",
        "            return 1\n",
        "        elif array[mid] > target:\n",
        "            end = mid - 1\n",
        "        else:\n",
        "            start = mid + 1\n",
        "\n",
        "    if target == array[mid] :\n",
        "      return 1\n",
        "    else :\n",
        "      return 0\n",
        "\n",
        "\n",
        "for value in ls :\n",
        "  print(binary_search(a, value, 0, len(a)-1))"
      ],
      "metadata": {
        "id": "gMBqyVHN88ue"
      },
      "execution_count": null,
      "outputs": []
    }
  ]
}