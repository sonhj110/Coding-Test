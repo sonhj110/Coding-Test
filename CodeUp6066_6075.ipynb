{
  "nbformat": 4,
  "nbformat_minor": 0,
  "metadata": {
    "colab": {
      "provenance": [],
      "authorship_tag": "ABX9TyNC3rzoORcZnDm5tCKu3Igp",
      "include_colab_link": true
    },
    "kernelspec": {
      "name": "python3",
      "display_name": "Python 3"
    },
    "language_info": {
      "name": "python"
    }
  },
  "cells": [
    {
      "cell_type": "markdown",
      "metadata": {
        "id": "view-in-github",
        "colab_type": "text"
      },
      "source": [
        "<a href=\"https://colab.research.google.com/github/sonhj110/Coding-Test/blob/main/CodeUp6066_6075.ipynb\" target=\"_parent\"><img src=\"https://colab.research.google.com/assets/colab-badge.svg\" alt=\"Open In Colab\"/></a>"
      ]
    },
    {
      "cell_type": "markdown",
      "source": [
        "# 6066 : [기초-조건/선택실행구조] 정수 3개 입력받아 짝/홀 출력하기(설명)(py)\n",
        "3개의 정수(a, b, c)가 입력되었을 때, 짝(even)/홀(odd)을 출력해보자."
      ],
      "metadata": {
        "id": "uFEK5kMK17lO"
      }
    },
    {
      "cell_type": "code",
      "execution_count": 3,
      "metadata": {
        "colab": {
          "base_uri": "https://localhost:8080/"
        },
        "id": "LLOjLQkr1xmk",
        "outputId": "15478efb-2f38-49cc-f2e0-8e605fe1d82b"
      },
      "outputs": [
        {
          "output_type": "stream",
          "name": "stdout",
          "text": [
            "3 8 10\n",
            "odd\n",
            "even\n",
            "even\n"
          ]
        }
      ],
      "source": [
        "ls = list(map(int, input().split()))\n",
        "\n",
        "for num in ls :\n",
        "  if num % 2 == 0 :\n",
        "    print('even')\n",
        "  else :\n",
        "    print('odd')"
      ]
    },
    {
      "cell_type": "markdown",
      "source": [
        "# 6067 : [기초-조건/선택실행구조] 정수 1개 입력받아 분류하기(설명)(py)\n",
        "0이 아닌 정수 1개가 입력되었을 때, 음(-)/양(+)과 짝(even)/홀(odd)을 구분해 분류해보자. <br/>\n",
        "음수이면서 짝수이면, A<br/>\n",
        "음수이면서 홀수이면, B<br/>\n",
        "양수이면서 짝수이면, C<br/>\n",
        "양수이면서 홀수이면, D<br/>\n",
        "를 출력한다."
      ],
      "metadata": {
        "id": "Kf3qbebm2cAy"
      }
    },
    {
      "cell_type": "code",
      "source": [
        "num = int(input())\n",
        "att = [0, 0]\n",
        "\n",
        "if num > 0 : # 양수면 0번 인덱스가 1\n",
        "  att[0] = 1\n",
        "if num % 2 == 0 : # 짝수면 1번 인덱스가 1\n",
        "  att[1] = 1\n",
        "\n",
        "if att == [0, 1] :\n",
        "  print('A')\n",
        "elif att == [0, 0] :\n",
        "  print('B')\n",
        "elif att == [1, 1] :\n",
        "  print('C')\n",
        "elif att == [1, 0] :\n",
        "  print('D')"
      ],
      "metadata": {
        "colab": {
          "base_uri": "https://localhost:8080/"
        },
        "id": "lSqEOaSh2K6r",
        "outputId": "cbcbd609-78d6-4c54-9ab9-91fcd50d021a"
      },
      "execution_count": 4,
      "outputs": [
        {
          "output_type": "stream",
          "name": "stdout",
          "text": [
            "-9\n",
            "B\n"
          ]
        }
      ]
    },
    {
      "cell_type": "markdown",
      "source": [
        "# 6068 : [기초-조건/선택실행구조] 점수 입력받아 평가 출력하기(설명)(py)\n",
        "점수(정수, 0 ~ 100)를 입력받아 평가를 출력해보자.<br/>\n",
        "평가 기준<br/>\n",
        "점수 범위 : 평가<br/>\n",
        " 90 ~ 100 : A<br/>\n",
        " 70 ~   89 : B<br/>\n",
        " 40 ~   69 : C<br/>\n",
        "   0 ~   39 : D<br/>\n",
        "로 평가되어야 한다.<br/>"
      ],
      "metadata": {
        "id": "OUG1jtfK3tgq"
      }
    },
    {
      "cell_type": "code",
      "source": [
        "num = int(input())\n",
        "\n",
        "if num >= 90 :\n",
        "  print('A')\n",
        "elif num >= 70 :\n",
        "  print('B')\n",
        "elif num >= 40 :\n",
        "  print('C')\n",
        "else :\n",
        "  print('D')"
      ],
      "metadata": {
        "colab": {
          "base_uri": "https://localhost:8080/"
        },
        "id": "pArss4lH3o24",
        "outputId": "1e55fba3-effb-4315-d35f-41a886880d4c"
      },
      "execution_count": 5,
      "outputs": [
        {
          "output_type": "stream",
          "name": "stdout",
          "text": [
            "50\n",
            "C\n"
          ]
        }
      ]
    },
    {
      "cell_type": "markdown",
      "source": [
        "# 6069 : [기초-조건/선택실행구조] 평가 입력받아 다르게 출력하기(py)\n",
        "평가를 문자(A, B, C, D, ...)로 입력받아 내용을 다르게 출력해보자. <br/>\n",
        "평가 내용 <br/>\n",
        "평가 : 내용 <br/>\n",
        "A : best!!! <br/>\n",
        "B : good!! <br/>\n",
        "C : run! <br/>\n",
        "D : slowly~ <br/>\n",
        "나머지 문자들 : what? <br/>\n"
      ],
      "metadata": {
        "id": "CXIko3Ss4Ply"
      }
    },
    {
      "cell_type": "code",
      "source": [
        "x = input()\n",
        "\n",
        "if x == 'A' :\n",
        "  print('best!!!')\n",
        "elif x == 'B' :\n",
        "  print('good!!')\n",
        "elif x == 'C' :\n",
        "  print('run!')\n",
        "elif x == 'D' :\n",
        "  print('slowly~')\n",
        "else :\n",
        "  print('what?')"
      ],
      "metadata": {
        "colab": {
          "base_uri": "https://localhost:8080/"
        },
        "id": "Aw4x4PLj4OOH",
        "outputId": "41243adb-51e4-4d26-8df9-6bdf53bc8d64"
      },
      "execution_count": 6,
      "outputs": [
        {
          "output_type": "stream",
          "name": "stdout",
          "text": [
            "1000\n",
            "what?\n"
          ]
        }
      ]
    },
    {
      "cell_type": "markdown",
      "source": [
        "# 6070 : [기초-조건/선택실행구조] 월 입력받아 계절 출력하기(설명)(py)\n",
        "월이 입력될 때 계절 이름이 출력되도록 해보자. <br/>\n",
        "월 : 계절 이름 <br/>\n",
        "12, 1, 2 : winter <br/>\n",
        "  3, 4, 5 : spring <br/>\n",
        "  6, 7, 8 : summer <br/>\n",
        "  9, 10, 11 : fall <br/>"
      ],
      "metadata": {
        "id": "8wsoB9Um4yZQ"
      }
    },
    {
      "cell_type": "code",
      "source": [
        "x = int(input())\n",
        "\n",
        "if x in [12, 1, 2] :\n",
        "  print('winter')\n",
        "elif x in [3, 4, 5] :\n",
        "  print('spring')\n",
        "elif x in [6, 7, 8] :\n",
        "  print('summer')\n",
        "elif x in [9, 10, 11] :\n",
        "  print('fall')"
      ],
      "metadata": {
        "colab": {
          "base_uri": "https://localhost:8080/"
        },
        "id": "L6yzN6k24ssF",
        "outputId": "39ff7704-26fd-409d-c031-63c9a87991f3"
      },
      "execution_count": 9,
      "outputs": [
        {
          "output_type": "stream",
          "name": "stdout",
          "text": [
            "8\n",
            "summer\n"
          ]
        }
      ]
    },
    {
      "cell_type": "code",
      "source": [
        "# 백준 풀이(이게 더 빨리 되는듯)\n",
        "\n",
        "a=int(input())\n",
        "\n",
        "if a//3==1:\n",
        "    print(\"spring\")\n",
        "elif a//3==2:\n",
        "    print(\"summer\")\n",
        "elif a//3==3:\n",
        "    print(\"fall\")\n",
        "else:\n",
        "    print(\"winter\")"
      ],
      "metadata": {
        "colab": {
          "base_uri": "https://localhost:8080/"
        },
        "id": "FNjqP6kD5UC0",
        "outputId": "c166289a-eec3-4354-b2f7-4e36f93649a3"
      },
      "execution_count": 8,
      "outputs": [
        {
          "output_type": "stream",
          "name": "stdout",
          "text": [
            "8\n",
            "summer\n"
          ]
        }
      ]
    },
    {
      "cell_type": "markdown",
      "source": [
        "# 6071 : [기초-반복실행구조] 0 입력될 때까지 무한 출력하기(설명)(py)\n",
        "임의의 정수가 줄을 바꿔 계속 입력된다. <br/>\n",
        "-2147483648 ~ +2147483647, 단 개수는 알 수 없다. <br/>\n",
        "0이 아니면 입력된 정수를 출력하고, 0이 입력되면 출력을 중단해보자. <br/>"
      ],
      "metadata": {
        "id": "l2xfuL015oP-"
      }
    },
    {
      "cell_type": "code",
      "source": [
        "while True :\n",
        "  x = int(input())\n",
        "  if x == 0 :\n",
        "    break\n",
        "  else :\n",
        "    print(x)"
      ],
      "metadata": {
        "colab": {
          "base_uri": "https://localhost:8080/"
        },
        "id": "8oFie-UH5cxQ",
        "outputId": "d052d164-d3b1-4835-ed4d-3b72c4fdb011"
      },
      "execution_count": 16,
      "outputs": [
        {
          "name": "stdout",
          "output_type": "stream",
          "text": [
            "10\n",
            "10\n",
            "3\n",
            "3\n",
            "2\n",
            "2\n",
            "0\n"
          ]
        }
      ]
    },
    {
      "cell_type": "markdown",
      "source": [
        "# 6072 : [기초-반복실행구조] 정수 1개 입력받아 카운트다운 출력하기1(설명)(py)\n",
        "정수(1 ~ 100) 1개가 입력되었을 때 카운트다운을 출력해보자."
      ],
      "metadata": {
        "id": "ib8Ah62R7drs"
      }
    },
    {
      "cell_type": "code",
      "source": [
        "num = int(input())\n",
        "\n",
        "while num != 0 :\n",
        "  print(num)\n",
        "  num -= 1"
      ],
      "metadata": {
        "colab": {
          "base_uri": "https://localhost:8080/"
        },
        "id": "niHmFqZ47VPf",
        "outputId": "7851816f-dbcb-4a7e-8e52-5fa78ad79b01"
      },
      "execution_count": 19,
      "outputs": [
        {
          "output_type": "stream",
          "name": "stdout",
          "text": [
            "5\n",
            "5\n",
            "4\n",
            "3\n",
            "2\n",
            "1\n"
          ]
        }
      ]
    },
    {
      "cell_type": "markdown",
      "source": [
        "# 6073 : [기초-반복실행구조] 정수 1개 입력받아 카운트다운 출력하기2(py)\n",
        "정수(1 ~ 100) 1개가 입력되었을 때 카운트다운을 출력해보자."
      ],
      "metadata": {
        "id": "xhr-2wR-Bkca"
      }
    },
    {
      "cell_type": "code",
      "source": [
        "num = int(input())\n",
        "\n",
        "for n in range(num-1, -1, -1) :\n",
        "  print(n)"
      ],
      "metadata": {
        "colab": {
          "base_uri": "https://localhost:8080/"
        },
        "id": "_nrSvW5DBdmG",
        "outputId": "9a8b42b7-b4b5-4f19-e636-69d38a598e05"
      },
      "execution_count": 21,
      "outputs": [
        {
          "output_type": "stream",
          "name": "stdout",
          "text": [
            "5\n",
            "4\n",
            "3\n",
            "2\n",
            "1\n",
            "0\n"
          ]
        }
      ]
    },
    {
      "cell_type": "markdown",
      "source": [
        "# 6074 : [기초-반복실행구조] 문자 1개 입력받아 알파벳 출력하기(설명)(py)\n",
        "영문 소문자(a ~ z) 1개가 입력되었을 때, a부터 그 문자까지의 알파벳을 순서대로 출력해보자."
      ],
      "metadata": {
        "id": "LG5dgX2BCBKS"
      }
    },
    {
      "cell_type": "code",
      "source": [
        "alp = ord(input())\n",
        "t = ord('a')\n",
        "\n",
        "while t <= alp :\n",
        "  print(chr(t), end=' ')\n",
        "  t += 1"
      ],
      "metadata": {
        "colab": {
          "base_uri": "https://localhost:8080/"
        },
        "id": "9W5WrBw_B5U7",
        "outputId": "5c92349c-c2f3-400e-d459-b574af1e8825"
      },
      "execution_count": 22,
      "outputs": [
        {
          "output_type": "stream",
          "name": "stdout",
          "text": [
            "t\n",
            "a b c d e f g h i j k l m n o p q r s t "
          ]
        }
      ]
    },
    {
      "cell_type": "markdown",
      "source": [
        "# 6075 : [기초-반복실행구조] 정수 1개 입력받아 그 수까지 출력하기1(py)\n",
        "정수(0 ~ 100) 1개를 입력받아 0부터 그 수까지 순서대로 출력해보자.\n"
      ],
      "metadata": {
        "id": "pHDr470LCcFU"
      }
    },
    {
      "cell_type": "code",
      "source": [
        "num = int(input())\n",
        "\n",
        "for n in range(0, num+1) :\n",
        "  print(n)"
      ],
      "metadata": {
        "colab": {
          "base_uri": "https://localhost:8080/"
        },
        "id": "q9rt7_qCCWW7",
        "outputId": "0e6d50c0-1c68-4ef6-8d30-56216b4b63ab"
      },
      "execution_count": 24,
      "outputs": [
        {
          "output_type": "stream",
          "name": "stdout",
          "text": [
            "4\n",
            "0\n",
            "1\n",
            "2\n",
            "3\n",
            "4\n"
          ]
        }
      ]
    }
  ]
}