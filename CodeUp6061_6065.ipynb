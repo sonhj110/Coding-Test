{
  "nbformat": 4,
  "nbformat_minor": 0,
  "metadata": {
    "colab": {
      "provenance": [],
      "authorship_tag": "ABX9TyMu0L7Ub3xtWGV07+qVbt4C",
      "include_colab_link": true
    },
    "kernelspec": {
      "name": "python3",
      "display_name": "Python 3"
    },
    "language_info": {
      "name": "python"
    }
  },
  "cells": [
    {
      "cell_type": "markdown",
      "metadata": {
        "id": "view-in-github",
        "colab_type": "text"
      },
      "source": [
        "<a href=\"https://colab.research.google.com/github/sonhj110/Coding-Test/blob/main/CodeUp6061_6065.ipynb\" target=\"_parent\"><img src=\"https://colab.research.google.com/assets/colab-badge.svg\" alt=\"Open In Colab\"/></a>"
      ]
    },
    {
      "cell_type": "markdown",
      "source": [
        "# 6061 : [기초-비트단위논리연산] 비트단위로 OR 하여 출력하기(설명)(py)\n",
        "입력된 정수 두 개를 비트단위로 or 연산한 후 그 결과를 정수로 출력해보자.<br/>\n",
        "비트단위(bitwise) 연산자 |(or, vertical bar, 버티컬바)를 사용하면 된다."
      ],
      "metadata": {
        "id": "jl_bIaQSHZjO"
      }
    },
    {
      "cell_type": "code",
      "execution_count": 1,
      "metadata": {
        "colab": {
          "base_uri": "https://localhost:8080/"
        },
        "id": "AYNa-fBbHT01",
        "outputId": "6fd17b9b-3897-411b-e5a3-7d146314c569"
      },
      "outputs": [
        {
          "output_type": "stream",
          "name": "stdout",
          "text": [
            "3 5\n",
            "7\n"
          ]
        }
      ],
      "source": [
        "a, b = input().split()\n",
        "print(int(a)|int(b))"
      ]
    },
    {
      "cell_type": "markdown",
      "source": [
        "# 6062 : [기초-비트단위논리연산] 비트단위로 XOR 하여 출력하기(설명)(py)\n",
        "입력된 정수 두 개를 비트단위로 xor 연산한 후 그 결과를 정수로 출력해보자. <br/>\n",
        "비트단위(bitwise) 연산자 ^(xor, circumflex/caret, 서컴플렉스/카릿)를 사용하면 된다."
      ],
      "metadata": {
        "id": "8dPaZG9RHqiO"
      }
    },
    {
      "cell_type": "code",
      "source": [
        "a, b = input().split()\n",
        "print(int(a)^int(b))"
      ],
      "metadata": {
        "colab": {
          "base_uri": "https://localhost:8080/"
        },
        "id": "b5cUEVQoHjVP",
        "outputId": "89c6ce56-7d23-4fe3-f4b3-63b4b37de5cb"
      },
      "execution_count": 2,
      "outputs": [
        {
          "output_type": "stream",
          "name": "stdout",
          "text": [
            "3 5\n",
            "6\n"
          ]
        }
      ]
    },
    {
      "cell_type": "markdown",
      "source": [
        "# 6063 : [기초-3항연산] 정수 2개 입력받아 큰 값 출력하기(설명)(py)\n",
        "입력된 두 정수(a, b) 중 큰 값을 출력하는 프로그램을 작성해보자. 단, 3항 연산을 사용한다."
      ],
      "metadata": {
        "id": "YN5sda_iIZMn"
      }
    },
    {
      "cell_type": "markdown",
      "source": [
        "참고 <br/>\n",
        "3개의 요소로 이루어지는 3항 연산은 \"x if C else y\" 의 형태로 작성이 된다.\n",
        "- C : True 또는 False 를 평가할 조건식(conditional expression) 또는 값\n",
        "- x : C의 평가 결과가 True 일 때 사용할 값\n",
        "- y : C의 평가 결과가 True 가 아닐 때 사용할 값"
      ],
      "metadata": {
        "id": "FEs9sBJbIxn5"
      }
    },
    {
      "cell_type": "code",
      "source": [
        "a, b = input().split()\n",
        "print(int(a) if int(a) > int(b) else int(b))"
      ],
      "metadata": {
        "colab": {
          "base_uri": "https://localhost:8080/"
        },
        "id": "O2Q4EWuVH3tZ",
        "outputId": "966b12f3-0834-4863-9116-1418e101cc61"
      },
      "execution_count": 3,
      "outputs": [
        {
          "output_type": "stream",
          "name": "stdout",
          "text": [
            "3 5\n",
            "5\n"
          ]
        }
      ]
    },
    {
      "cell_type": "markdown",
      "source": [
        "# 6064 : [기초-3항연산] 정수 3개 입력받아 가장 작은 값 출력하기(설명)(py)\n",
        "입력된 세 정수 a, b, c 중 가장 작은 값을 출력하는 프로그램을 작성해보자. 단, 3항 연산을 사용한다.\n"
      ],
      "metadata": {
        "id": "kQKRwfYyJK0R"
      }
    },
    {
      "cell_type": "code",
      "source": [
        "a, b, c = input().split()\n",
        "a, b, c = int(a), int(b), int(c)\n",
        "print(a if a < b and a < c else (b if b < c else c))"
      ],
      "metadata": {
        "colab": {
          "base_uri": "https://localhost:8080/"
        },
        "id": "KQ2X5yBZJDx3",
        "outputId": "b4f87558-b66b-4543-804c-6b1d02503f3a"
      },
      "execution_count": 7,
      "outputs": [
        {
          "output_type": "stream",
          "name": "stdout",
          "text": [
            "3 4 5\n",
            "3\n"
          ]
        }
      ]
    },
    {
      "cell_type": "markdown",
      "source": [
        "# 6065 : [기초-조건/선택실행구조] 정수 3개 입력받아 짝수만 출력하기(설명)(py)\n",
        "3개의 정수(a, b, c)가 입력되었을 때, 짝수만 출력해보자."
      ],
      "metadata": {
        "id": "9UwpnDWFM8eX"
      }
    },
    {
      "cell_type": "code",
      "source": [
        "a, b, c = input().split()\n",
        "ls = [int(a), int(b), int(c)]\n",
        "\n",
        "for n in ls :\n",
        "  if n % 2 == 0 :\n",
        "    print(n)"
      ],
      "metadata": {
        "colab": {
          "base_uri": "https://localhost:8080/"
        },
        "id": "zg4-l1noNAaW",
        "outputId": "12aef7d8-5ae4-4bb2-feff-c3b00eb7d466"
      },
      "execution_count": 9,
      "outputs": [
        {
          "output_type": "stream",
          "name": "stdout",
          "text": [
            "3 4 6\n",
            "4\n",
            "6\n"
          ]
        }
      ]
    },
    {
      "cell_type": "code",
      "source": [],
      "metadata": {
        "id": "hLvfuZYeOEx6"
      },
      "execution_count": null,
      "outputs": []
    }
  ]
}