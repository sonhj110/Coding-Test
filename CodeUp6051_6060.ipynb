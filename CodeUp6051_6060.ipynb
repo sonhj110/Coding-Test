{
  "nbformat": 4,
  "nbformat_minor": 0,
  "metadata": {
    "colab": {
      "provenance": [],
      "toc_visible": true,
      "authorship_tag": "ABX9TyNBIOIW47aOnTZNeCwaMdug",
      "include_colab_link": true
    },
    "kernelspec": {
      "name": "python3",
      "display_name": "Python 3"
    },
    "language_info": {
      "name": "python"
    }
  },
  "cells": [
    {
      "cell_type": "markdown",
      "metadata": {
        "id": "view-in-github",
        "colab_type": "text"
      },
      "source": [
        "<a href=\"https://colab.research.google.com/github/sonhj110/Coding-Test/blob/main/CodeUp6051_6060.ipynb\" target=\"_parent\"><img src=\"https://colab.research.google.com/assets/colab-badge.svg\" alt=\"Open In Colab\"/></a>"
      ]
    },
    {
      "cell_type": "markdown",
      "source": [
        "# 6051 : [기초-비교연산] 정수 2개 입력받아 비교하기4(설명)(py)\n",
        "두 정수(a, b)를 입력받아\n",
        "a의 값이 b의 값과 서로 다르면 True 를, 같으면 False 를 출력하는 프로그램을 작성해보자.\n",
        "."
      ],
      "metadata": {
        "id": "nLqvyzzOCUm5"
      }
    },
    {
      "cell_type": "code",
      "execution_count": null,
      "metadata": {
        "colab": {
          "base_uri": "https://localhost:8080/"
        },
        "id": "JdBpVmpxCIdT",
        "outputId": "90c33400-4d62-412c-cb6c-e6e833a865f9"
      },
      "outputs": [
        {
          "output_type": "stream",
          "name": "stdout",
          "text": [
            "3 4\n",
            "True\n"
          ]
        }
      ],
      "source": [
        "a, b = input().split()\n",
        "a, b = int(a), int(b)\n",
        "print(a != b)"
      ]
    },
    {
      "cell_type": "markdown",
      "source": [
        "# 6052 : [기초-논리연산] 정수 입력받아 참 거짓 평가하기(설명)(py)\n",
        "정수가 입력되었을 때, True/False 로 평가해주는 프로그램을 작성해보자."
      ],
      "metadata": {
        "id": "7ojTMsvRCrL0"
      }
    },
    {
      "cell_type": "code",
      "source": [
        "# python 언어에서 정수값 0은 False(거짓)로 평가되고, 그 외의 값들은 모두 True(참)로 평가된다.\n",
        "\n",
        "n = int(input())\n",
        "print(bool(n))"
      ],
      "metadata": {
        "colab": {
          "base_uri": "https://localhost:8080/"
        },
        "id": "LLMP8JBDCR9Y",
        "outputId": "62a74c57-77d4-4045-8b01-d84ff49144a8"
      },
      "execution_count": null,
      "outputs": [
        {
          "output_type": "stream",
          "name": "stdout",
          "text": [
            "0\n",
            "False\n"
          ]
        }
      ]
    },
    {
      "cell_type": "markdown",
      "source": [
        "# 6053 : [기초-논리연산] 참 거짓 바꾸기(설명)(py)\n",
        "정수값이 입력될 때,\n",
        "그 불 값을 반대로 출력하는 프로그램을 작성해보자."
      ],
      "metadata": {
        "id": "uKgqAWHlC2xs"
      }
    },
    {
      "cell_type": "code",
      "source": [
        "n = int(input())\n",
        "print(not bool(n))"
      ],
      "metadata": {
        "colab": {
          "base_uri": "https://localhost:8080/"
        },
        "id": "kIwv-2nZCzWI",
        "outputId": "4ec5beb4-b706-496f-97e0-b0ab51cf507e"
      },
      "execution_count": null,
      "outputs": [
        {
          "output_type": "stream",
          "name": "stdout",
          "text": [
            "1\n",
            "False\n"
          ]
        }
      ]
    },
    {
      "cell_type": "markdown",
      "source": [
        "# 6054 : [기초-논리연산] 둘 다 참일 경우만 참 출력하기(설명)(py)\n",
        "2개의 정수값이 입력될 때,\n",
        "그 불 값이 모두 True 일 때에만 True 를 출력하는 프로그램을 작성해보자."
      ],
      "metadata": {
        "id": "VQGgZ75XDNcM"
      }
    },
    {
      "cell_type": "code",
      "source": [
        "a, b = input().split()\n",
        "a, b = bool(int(a)), bool(int(b))\n",
        "print(a and b)"
      ],
      "metadata": {
        "colab": {
          "base_uri": "https://localhost:8080/"
        },
        "id": "YbVXwdg8DJd-",
        "outputId": "65572077-dd00-454e-e61b-395194545f6a"
      },
      "execution_count": null,
      "outputs": [
        {
          "output_type": "stream",
          "name": "stdout",
          "text": [
            "1 1\n",
            "True\n"
          ]
        }
      ]
    },
    {
      "cell_type": "markdown",
      "source": [
        "# 6055 : [기초-논리연산] 하나라도 참이면 참 출력하기(설명)(py)\n",
        "2개의 정수값이 입력될 때,\n",
        "그 불 값이 하나라도 True 일 때에만 True 를 출력하는 프로그램을 작성해보자."
      ],
      "metadata": {
        "id": "obR6n9Z9-wsR"
      }
    },
    {
      "cell_type": "code",
      "source": [
        "a, b = input().split()\n",
        "a, b = bool(int(a)), bool(int(b))\n",
        "print(a or b)"
      ],
      "metadata": {
        "id": "Ttxpz2kNDS9_",
        "colab": {
          "base_uri": "https://localhost:8080/"
        },
        "outputId": "bb35331f-bb53-4ef7-cdb1-07b89903b447"
      },
      "execution_count": null,
      "outputs": [
        {
          "output_type": "stream",
          "name": "stdout",
          "text": [
            "1 0\n",
            "True\n"
          ]
        }
      ]
    },
    {
      "cell_type": "markdown",
      "source": [
        "# 6056 : [기초-논리연산] 참/거짓이 서로 다를 때에만 참 출력하기(설명)(py)\n",
        "2개의 정수값이 입력될 때,\n",
        "그 불 값(True/False) 이 서로 다를 때에만 True 를 출력하는 프로그램을 작성해보자."
      ],
      "metadata": {
        "id": "Xyjn3qT3_C4t"
      }
    },
    {
      "cell_type": "code",
      "source": [
        "a, b = input().split()\n",
        "a, b = bool(int(a)), bool(int(b))\n",
        "print(a != b)"
      ],
      "metadata": {
        "colab": {
          "base_uri": "https://localhost:8080/"
        },
        "id": "hqCkrcZX-1ig",
        "outputId": "20b6a8c2-84f8-4c53-ea9a-915753c97fbd"
      },
      "execution_count": null,
      "outputs": [
        {
          "output_type": "stream",
          "name": "stdout",
          "text": [
            "1 2\n",
            "False\n"
          ]
        }
      ]
    },
    {
      "cell_type": "code",
      "source": [
        "a, b = input().split()\n",
        "a, b = bool(int(a)), bool(int(b))\n",
        "print(a == (not b))"
      ],
      "metadata": {
        "colab": {
          "base_uri": "https://localhost:8080/"
        },
        "id": "UODLSrQdn1XF",
        "outputId": "28e015bf-7a7c-42f1-d75e-736e8beac669"
      },
      "execution_count": null,
      "outputs": [
        {
          "output_type": "stream",
          "name": "stdout",
          "text": [
            "0 1\n",
            "True\n"
          ]
        }
      ]
    },
    {
      "cell_type": "code",
      "source": [
        "# 해설 풀이\n",
        "a, b=input().split()\n",
        "c = bool(int(a))\n",
        "d = bool(int(b))\n",
        "# print(c, d, not c, not d)\n",
        "print((c and (not d)) or ((not c) and d))\n",
        "# c랑 ~d가 둘다 True거나 ~c가 d가 둘다 True일때 True 출력"
      ],
      "metadata": {
        "colab": {
          "base_uri": "https://localhost:8080/"
        },
        "id": "3dwiukTDm9fz",
        "outputId": "7041f886-5f59-441e-ef0c-4a7d8a73458f"
      },
      "execution_count": null,
      "outputs": [
        {
          "output_type": "stream",
          "name": "stdout",
          "text": [
            "0 1\n",
            "False True True False\n",
            "True\n"
          ]
        }
      ]
    },
    {
      "cell_type": "markdown",
      "source": [
        "# 6057 : [기초-논리연산] 참/거짓이 서로 같을 때에만 참 출력하기(설명)(py)\n",
        "2개의 정수값이 입력될 때,\n",
        "그 불 값(True/False) 이 서로 같을 때에만 True 를 출력하는 프로그램을 작성해보자."
      ],
      "metadata": {
        "id": "JyH4pm4q_Liy"
      }
    },
    {
      "cell_type": "code",
      "source": [
        "a, b = input().split()\n",
        "a, b = bool(int(a)), bool(int(b))\n",
        "print(a == b)"
      ],
      "metadata": {
        "colab": {
          "base_uri": "https://localhost:8080/"
        },
        "id": "tYnHc7K8_Hoh",
        "outputId": "9aa92901-50e3-465b-b943-11217171e21f"
      },
      "execution_count": null,
      "outputs": [
        {
          "output_type": "stream",
          "name": "stdout",
          "text": [
            "1 2\n",
            "True\n"
          ]
        }
      ]
    },
    {
      "cell_type": "markdown",
      "source": [
        "# 6058 : [기초-논리연산] 둘 다 거짓일 경우만 참 출력하기(py)\n",
        "2개의 정수값이 입력될 때,\n",
        "그 불 값(True/False) 이 모두 False 일 때에만 True 를 출력하는 프로그램을 작성해보자."
      ],
      "metadata": {
        "id": "et_pHcjt_aqB"
      }
    },
    {
      "cell_type": "code",
      "source": [
        "a, b = input().split()\n",
        "a, b = bool(int(a)), bool(int(b))\n",
        "print(not a and not b)"
      ],
      "metadata": {
        "id": "yUPMVPBmo2IR",
        "colab": {
          "base_uri": "https://localhost:8080/"
        },
        "outputId": "0aee78cc-713b-468e-c4cb-02b485bed112"
      },
      "execution_count": 3,
      "outputs": [
        {
          "output_type": "stream",
          "name": "stdout",
          "text": [
            "0 0\n",
            "True\n"
          ]
        }
      ]
    },
    {
      "cell_type": "markdown",
      "source": [
        "# 6059 : [기초-비트단위논리연산] 비트단위로 NOT 하여 출력하기(설명)(py)\n",
        "입력 된 정수를 비트단위로 참/거짓을 바꾼 후 정수로 출력해보자."
      ],
      "metadata": {
        "id": "i80QKiV4_knR"
      }
    },
    {
      "cell_type": "code",
      "source": [
        "a = int(input())\n",
        "print(~a)"
      ],
      "metadata": {
        "id": "t9VQzHN-o3DQ",
        "colab": {
          "base_uri": "https://localhost:8080/"
        },
        "outputId": "cd9dce02-c100-446d-83bc-2e5a1c1a86e8"
      },
      "execution_count": 4,
      "outputs": [
        {
          "output_type": "stream",
          "name": "stdout",
          "text": [
            "9\n",
            "-10\n"
          ]
        }
      ]
    },
    {
      "cell_type": "markdown",
      "source": [
        "# 6060 : [기초-비트단위논리연산] 비트단위로 AND 하여 출력하기(설명)(py)\n",
        "입력된 정수 두 개를 비트단위로 and 연산한 후 그 결과를 정수로 출력해보자."
      ],
      "metadata": {
        "id": "Cxp6BAZb_rhr"
      }
    },
    {
      "cell_type": "code",
      "source": [
        "a, b = input().split()\n",
        "print(int(a) & int(b))"
      ],
      "metadata": {
        "id": "8I0F7Mv1o3f9",
        "colab": {
          "base_uri": "https://localhost:8080/"
        },
        "outputId": "ba86dd3d-c7cc-4952-e2b8-f0e1720d3bbc"
      },
      "execution_count": 10,
      "outputs": [
        {
          "output_type": "stream",
          "name": "stdout",
          "text": [
            "2 19\n",
            "2\n"
          ]
        }
      ]
    }
  ]
}