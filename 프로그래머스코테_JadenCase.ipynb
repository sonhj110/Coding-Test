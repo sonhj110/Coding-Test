{
  "nbformat": 4,
  "nbformat_minor": 0,
  "metadata": {
    "colab": {
      "provenance": [],
      "authorship_tag": "ABX9TyNSpf/srxUmFNIsp8cmXDjz",
      "include_colab_link": true
    },
    "kernelspec": {
      "name": "python3",
      "display_name": "Python 3"
    },
    "language_info": {
      "name": "python"
    }
  },
  "cells": [
    {
      "cell_type": "markdown",
      "metadata": {
        "id": "view-in-github",
        "colab_type": "text"
      },
      "source": [
        "<a href=\"https://colab.research.google.com/github/sonhj110/Coding-Test/blob/main/%ED%94%84%EB%A1%9C%EA%B7%B8%EB%9E%98%EB%A8%B8%EC%8A%A4%EC%BD%94%ED%85%8C_JadenCase.ipynb\" target=\"_parent\"><img src=\"https://colab.research.google.com/assets/colab-badge.svg\" alt=\"Open In Colab\"/></a>"
      ]
    },
    {
      "cell_type": "markdown",
      "source": [
        "# lv2. JadenCase 문자열 만들기\n",
        "JadenCase란 모든 단어의 첫 문자가 대문자이고, 그 외의 알파벳은 소문자인 문자열입니다. 단, 첫 문자가 알파벳이 아닐 때에는 이어지는 알파벳은 소문자로 쓰면 됩니다. (첫 번째 입출력 예 참고)\n",
        "문자열 s가 주어졌을 때, s를 JadenCase로 바꾼 문자열을 리턴하는 함수, solution을 완성해주세요.\n"
      ],
      "metadata": {
        "id": "VtIMLEOIQgLB"
      }
    },
    {
      "cell_type": "markdown",
      "source": [
        "제한 조건<br/>\n",
        "* s는 길이 1 이상 200 이하인 문자열입니다.\n",
        "* s는 알파벳과 숫자, 공백문자(\" \")로 이루어져 있습니다.\n",
        "* 숫자는 단어의 첫 문자로만 나옵니다.\n",
        "* 숫자로만 이루어진 단어는 없습니다.\n",
        "* 공백문자가 연속해서 나올 수 있습니다."
      ],
      "metadata": {
        "id": "LW5fLJZHQmmJ"
      }
    },
    {
      "cell_type": "code",
      "execution_count": 3,
      "metadata": {
        "id": "vyEe2I0jPhrc"
      },
      "outputs": [],
      "source": [
        "def solution(s):\n",
        "    ls = s.split(' ')\n",
        "    i = 0\n",
        "    for word in ls :\n",
        "\n",
        "        try :\n",
        "            newword = word[0].upper() + word[1:].lower()\n",
        "        except :\n",
        "            newword = word\n",
        "\n",
        "        ls[i] = newword\n",
        "        i += 1\n",
        "\n",
        "    return ' '.join(ls)"
      ]
    },
    {
      "cell_type": "code",
      "source": [
        "s = \"3people        UnFollowed Me\"\n",
        "s.split(' ')\n",
        "# solution(s)"
      ],
      "metadata": {
        "colab": {
          "base_uri": "https://localhost:8080/"
        },
        "id": "icliOD7KPjfw",
        "outputId": "ac1cf5ea-fc6e-4cd2-bd6b-9acf131a3bfc"
      },
      "execution_count": 6,
      "outputs": [
        {
          "output_type": "execute_result",
          "data": {
            "text/plain": [
              "['3people', '', '', '', '', '', '', '', 'UnFollowed', 'Me']"
            ]
          },
          "metadata": {},
          "execution_count": 6
        }
      ]
    },
    {
      "cell_type": "code",
      "source": [],
      "metadata": {
        "id": "2QFu1AlaPrXE"
      },
      "execution_count": null,
      "outputs": []
    }
  ]
}