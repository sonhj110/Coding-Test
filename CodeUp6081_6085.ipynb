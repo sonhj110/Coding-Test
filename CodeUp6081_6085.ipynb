{
  "nbformat": 4,
  "nbformat_minor": 0,
  "metadata": {
    "colab": {
      "provenance": [],
      "authorship_tag": "ABX9TyNZ4A+00bGtkEruZW86ZTi9",
      "include_colab_link": true
    },
    "kernelspec": {
      "name": "python3",
      "display_name": "Python 3"
    },
    "language_info": {
      "name": "python"
    }
  },
  "cells": [
    {
      "cell_type": "markdown",
      "metadata": {
        "id": "view-in-github",
        "colab_type": "text"
      },
      "source": [
        "<a href=\"https://colab.research.google.com/github/sonhj110/Coding-Test/blob/main/CodeUp6081_6085.ipynb\" target=\"_parent\"><img src=\"https://colab.research.google.com/assets/colab-badge.svg\" alt=\"Open In Colab\"/></a>"
      ]
    },
    {
      "cell_type": "markdown",
      "source": [
        "# 6081 : [기초-종합] 16진수 구구단 출력하기(py)\n",
        "A, B, C, D, E, F 중 하나가 입력될 때,\n",
        "1부터 F까지 곱한 16진수 구구단의 내용을 출력해보자.\n",
        "(단, A ~ F 까지만 입력된다.)"
      ],
      "metadata": {
        "id": "3Qk0xN9mpu_q"
      }
    },
    {
      "cell_type": "code",
      "execution_count": 11,
      "metadata": {
        "colab": {
          "base_uri": "https://localhost:8080/"
        },
        "id": "iBu4OZXIpFMp",
        "outputId": "bb909f59-7cb8-4f9b-9c8d-659354156117"
      },
      "outputs": [
        {
          "output_type": "stream",
          "name": "stdout",
          "text": [
            "B\n",
            "B*1=B\n",
            "B*2=16\n",
            "B*3=21\n",
            "B*4=2C\n",
            "B*5=37\n",
            "B*6=42\n",
            "B*7=4D\n",
            "B*8=58\n",
            "B*9=63\n",
            "B*A=6E\n",
            "B*B=79\n",
            "B*C=84\n",
            "B*D=8F\n",
            "B*E=9A\n",
            "B*F=A5\n"
          ]
        }
      ],
      "source": [
        "dic = {'A' : 10,\n",
        "       'B' : 11,\n",
        "       'C' : 12,\n",
        "       'D' : 13,\n",
        "       'E' : 14,\n",
        "       'F' : 15}\n",
        "\n",
        "num = input()\n",
        "n = dic[num]\n",
        "\n",
        "for i in range(1,16) :\n",
        "  print('%X'%n, '*%X'%i, '=%X'%(n*i), sep='')\n",
        "\n",
        "# 이렇게 푸는거 절대 아닐것같다.."
      ]
    },
    {
      "cell_type": "code",
      "source": [
        "# 해설 풀이\n",
        "n = int(input(), 16)  # 6029 참고\n",
        "\n",
        "for i in range(1, 16) :\n",
        "  print('%X'%n, '*%X'%i, '=%X'%(n*i), sep='')"
      ],
      "metadata": {
        "id": "0jX2sZNOO3yt"
      },
      "execution_count": 7,
      "outputs": []
    },
    {
      "cell_type": "markdown",
      "source": [
        "# 6082 : [기초-종합] 3 6 9 게임의 왕이 되자(설명)(py)\n",
        "친구들과 함께 3 6 9 게임을 하던 영일이는 잦은 실수 때문에 계속해서 벌칙을 받게 되었다.\n",
        "3 6 9 게임의 왕이 되기 위한 369 마스터 프로그램을 작성해 보자."
      ],
      "metadata": {
        "id": "xlSpqtnzUe1x"
      }
    },
    {
      "cell_type": "code",
      "source": [
        "n = int(input())\n",
        "\n",
        "for i in range(1,n+1) :\n",
        "  if '3' in list(str(i)) or '6' in list(str(i)) or '9' in list(str(i)) :\n",
        "    print('X')\n",
        "  else :\n",
        "    print(i)"
      ],
      "metadata": {
        "colab": {
          "base_uri": "https://localhost:8080/"
        },
        "id": "Xu95iIcaUlRP",
        "outputId": "30ff5181-e26e-41c6-d5c6-16cf7b80e2ac"
      },
      "execution_count": 18,
      "outputs": [
        {
          "output_type": "stream",
          "name": "stdout",
          "text": [
            "15\n",
            "1\n",
            "2\n",
            "X\n",
            "4\n",
            "5\n",
            "X\n",
            "7\n",
            "8\n",
            "X\n",
            "10\n",
            "11\n",
            "12\n",
            "X\n",
            "14\n",
            "15\n"
          ]
        }
      ]
    },
    {
      "cell_type": "code",
      "source": [
        "# 해설 풀이\n",
        "n = int(input())\n",
        "\n",
        "for i in range(1, n+1) :\n",
        "  if i%10==3 or i%10==6 or i%10==9 : # 1의 자리에 3,6,9가 들어있는지 체크. 입력이 1~29까지니까 쓸수있는 방법.\n",
        "    print(\"X\", end=' ')\n",
        "  else :\n",
        "    print(i, end=' ')"
      ],
      "metadata": {
        "id": "4Wq7Oy0pXku9"
      },
      "execution_count": null,
      "outputs": []
    },
    {
      "cell_type": "markdown",
      "source": [
        "# 6083 : [기초-종합] 빛 섞어 색 만들기(설명)(py)\n",
        "빨강(red), 초록(green), 파랑(blue) 빛을 섞어 여러 가지 다른 색 빛을 만들어 내려고 한다.\n",
        "\n",
        "빨강(r), 초록(g), 파랑(b) 각 빛의 가짓수가 주어질 때,\n",
        "주어진 rgb 빛들을 섞어 만들 수 있는 모든 경우의 조합(r g b)과 만들 수 있는 색의 가짓 수를 계산해보자.  "
      ],
      "metadata": {
        "id": "_V2pgPPjWJD2"
      }
    },
    {
      "cell_type": "code",
      "source": [
        "r, g, b = input().split()\n",
        "red = [n for n in range(int(r))]\n",
        "green = [n for n in range(int(g))]\n",
        "blue = [n for n in range(int(b))]\n",
        "\n",
        "for x in red :\n",
        "  for y in green :\n",
        "    for z in blue :\n",
        "      print(x, y, z)\n",
        "\n",
        "print(int(r)*int(g)*int(b))"
      ],
      "metadata": {
        "colab": {
          "base_uri": "https://localhost:8080/"
        },
        "id": "9diY2-JjVPQX",
        "outputId": "6b19cb40-7499-41e7-b857-e5eab8bd51d2"
      },
      "execution_count": 22,
      "outputs": [
        {
          "output_type": "stream",
          "name": "stdout",
          "text": [
            "2 2 2\n",
            "0 0 0\n",
            "0 0 1\n",
            "0 1 0\n",
            "0 1 1\n",
            "1 0 0\n",
            "1 0 1\n",
            "1 1 0\n",
            "1 1 1\n",
            "8\n"
          ]
        }
      ]
    },
    {
      "cell_type": "code",
      "source": [
        "# 해설 풀이\n",
        "r, g, b = input().split()\n",
        "\n",
        "r = int(r)\n",
        "g = int(g)\n",
        "b = int(b)\n",
        "\n",
        "for i in range(0, r) :\n",
        "  for j in range(0, g) :\n",
        "    for k in range(0, b) :\n",
        "      print(i, j, k)\n",
        "\n",
        "print(r*g*b)"
      ],
      "metadata": {
        "id": "cj8fkC-cXVoi"
      },
      "execution_count": null,
      "outputs": []
    },
    {
      "cell_type": "markdown",
      "source": [
        "# 6084 : [기초-종합] 소리 파일 저장용량 계산하기(py)\n",
        "1초 동안 마이크로 소리강약을 체크하는 횟수를 h\n",
        "(헤르쯔, Hz 는 1초에 몇 번? 체크하는가를 의미한다.)\n",
        "\n",
        "한 번 체크한 값을 저장할 때 사용하는 비트수를 b\n",
        "(2비트를 사용하면 0 또는 1 두 가지, 16비트를 사용하면 65536가지..)\n",
        "\n",
        "좌우 등 소리를 저장할 트랙 개수인 채널 개수를 c\n",
        "(모노는 1개, 스테레오는 2개의 트랙으로 저장함을 의미한다.)\n",
        "\n",
        "녹음할 시간(초) s가 주어질 때,\n",
        "\n",
        "필요한 저장 용량을 계산하는 프로그램을 작성해보자.\n",
        "\n",
        "실제로, 일반적인 CD 음질(44.1KHz, 16bit, 스테레오)로 1초 동안 저장하려면\n",
        "44100 * 16 * 2 * 1 bit의 저장공간이 필요한데,\n",
        "44100*16*2*1/8/1024/1024 로 계산하면 약 0.168 MB 정도가 필요하다."
      ],
      "metadata": {
        "id": "7fmfK62dYUBM"
      }
    },
    {
      "cell_type": "code",
      "source": [
        "h, b, c, s = input().split()\n",
        "h, b, c, s = int(h), int(b), int(c), int(s)\n",
        "\n",
        "print(round(h*b*c*s/8/1024/1024, 1), 'MB')"
      ],
      "metadata": {
        "colab": {
          "base_uri": "https://localhost:8080/"
        },
        "id": "2XL0cubVY8pp",
        "outputId": "1f494953-e62b-48dd-9c91-aa145d7186c1"
      },
      "execution_count": 25,
      "outputs": [
        {
          "output_type": "stream",
          "name": "stdout",
          "text": [
            "44100 16 2 10\n",
            "1.7\n"
          ]
        }
      ]
    },
    {
      "cell_type": "markdown",
      "source": [
        "# 6085 : [기초-종합] 그림 파일 저장용량 계산하기(py)\n",
        "예를 들어 r, g, b 각 색에 대해서 8비트(0~255, 256가지 가능)씩을 사용한다고 하면,\n",
        "\n",
        "한 점의 색상은 3가지 r, g, b의 8비트+8비트+8비트로 총 24비트로 표현해서\n",
        "총 2^24 가지의 서로 다른 빛의 색깔을 사용할 수 있는 것이다.\n",
        "\n",
        "그렇게 저장하는 점을 모아 하나의 큰 이미지를 저장할 수 있게 되는데,\n",
        "1024 * 768 사이즈에 각 점에 대해 24비트로 저장하면 그 이미지를 저장하기 위한\n",
        "저장 용량을 계산할 수 있다.\n",
        "\n",
        "이미지의 가로 해상도 w, 세로 해상도 h, 한 픽셀을 저장하기 위한 비트 b 가 주어질 때,\n",
        "압축하지 않고 저장하기 위해 필요한 저장 용량을 계산하는 프로그램을 작성해 보자."
      ],
      "metadata": {
        "id": "5BnBHF8RZkEA"
      }
    },
    {
      "cell_type": "code",
      "source": [
        "w, h, b = input().split()\n",
        "w, h, b = int(w), int(h), int(b)\n",
        "\n",
        "print(format(w*h*b/8/1024/1024, '.2f'), 'MB')\n",
        "# round 함수 쓰면 0은 소숫점 첫째짜리만(0.0) 표현됨"
      ],
      "metadata": {
        "colab": {
          "base_uri": "https://localhost:8080/"
        },
        "id": "G4m7At0QZKtH",
        "outputId": "09c05e23-4321-4221-ee52-f888f3e87237"
      },
      "execution_count": 27,
      "outputs": [
        {
          "output_type": "stream",
          "name": "stdout",
          "text": [
            "100 100 4\n",
            "0.00 MB\n"
          ]
        }
      ]
    }
  ]
}