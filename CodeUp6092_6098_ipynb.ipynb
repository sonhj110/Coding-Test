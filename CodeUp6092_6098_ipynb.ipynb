{
  "nbformat": 4,
  "nbformat_minor": 0,
  "metadata": {
    "colab": {
      "provenance": [],
      "authorship_tag": "ABX9TyM8am/5Yh+9jBK7tbe48A0M",
      "include_colab_link": true
    },
    "kernelspec": {
      "name": "python3",
      "display_name": "Python 3"
    },
    "language_info": {
      "name": "python"
    }
  },
  "cells": [
    {
      "cell_type": "markdown",
      "metadata": {
        "id": "view-in-github",
        "colab_type": "text"
      },
      "source": [
        "<a href=\"https://colab.research.google.com/github/sonhj110/Coding-Test/blob/main/CodeUp6092_6098_ipynb.ipynb\" target=\"_parent\"><img src=\"https://colab.research.google.com/assets/colab-badge.svg\" alt=\"Open In Colab\"/></a>"
      ]
    },
    {
      "cell_type": "markdown",
      "source": [
        "# 6092 : [기초-리스트] 이상한 출석 번호 부르기1(설명)(py)\n",
        "출석 번호를 n번 무작위로 불렀을 때, 각 번호(1 ~ 23)가 불린 횟수를 각각 출력해보자."
      ],
      "metadata": {
        "id": "TRB2c60C99cl"
      }
    },
    {
      "cell_type": "code",
      "source": [
        "n = int(input())\n",
        "call = list(map(int, input().split()))"
      ],
      "metadata": {
        "colab": {
          "base_uri": "https://localhost:8080/"
        },
        "id": "ExJi3wjTAUrg",
        "outputId": "2478e1d8-04e4-488e-e2bf-3ac6b6c334f8"
      },
      "execution_count": null,
      "outputs": [
        {
          "name": "stdout",
          "output_type": "stream",
          "text": [
            "10\n",
            "1 3 2 2 5 6 7 4 5 9\n"
          ]
        }
      ]
    },
    {
      "cell_type": "code",
      "execution_count": null,
      "metadata": {
        "colab": {
          "base_uri": "https://localhost:8080/"
        },
        "id": "f_Pr3dlf9dpD",
        "outputId": "aabe956f-5893-48d7-9828-bfaf6747fbd0"
      },
      "outputs": [
        {
          "output_type": "stream",
          "name": "stdout",
          "text": [
            "1 2 1 1 2 1 1 0 1 0 0 0 0 0 0 0 0 0 0 0 0 0 0 "
          ]
        }
      ],
      "source": [
        "d = [0 for i in range(23)]\n",
        "\n",
        "for num in call :    #번호를 부를 때마다, 그 번호에 대한 카운트 1씩 증가\n",
        "  d[num-1] += 1\n",
        "\n",
        "for i in range(23) :  #카운트한 값을 공백을 두고 출력\n",
        "  print(d[i], end=' ')"
      ]
    },
    {
      "cell_type": "markdown",
      "source": [
        "# 6093 : [기초-리스트] 이상한 출석 번호 부르기2(py)\n",
        "학생들의 얼굴과 이름을 빨리 익히기 위해 번호를 무작위(랜덤)으로 부르는데,\n",
        "영일이는 선생님이 부른 번호들을 기억하고 있다가 거꾸로 불러보는 것을 해보고 싶어졌다.\n",
        "\n",
        "출석 번호를 n번 무작위로 불렀을 때, 부른 번호를 거꾸로 출력해 보자.\n"
      ],
      "metadata": {
        "id": "Ub0luXNmHXhn"
      }
    },
    {
      "cell_type": "code",
      "source": [
        "n = int(input())\n",
        "call = list(map(int, input().split()))\n",
        "\n",
        "for i in call[-1::-1] :\n",
        "  print(i, end=' ')"
      ],
      "metadata": {
        "colab": {
          "base_uri": "https://localhost:8080/"
        },
        "id": "qPhVNFZIA7p9",
        "outputId": "f8e1719b-7892-4657-886e-dcfed2d809d0"
      },
      "execution_count": null,
      "outputs": [
        {
          "output_type": "stream",
          "name": "stdout",
          "text": [
            "10\n",
            "1 3 2 2 5 6 7 4 5 9\n",
            "9 5 4 7 6 5 2 2 3 1 "
          ]
        }
      ]
    },
    {
      "cell_type": "markdown",
      "source": [
        "# 6094 : [기초-리스트] 이상한 출석 번호 부르기3(py)\n",
        "출석 번호를 n번 무작위로 불렀을 때, 가장 빠른 번호를 출력해 보자.\n",
        "\n",
        "단,\n",
        "첫 번째 번호와 마지막 번호가 몇 번인지는 아무도 모른다.\n",
        "음수(-) 번호, 0번 번호도 있을 수 있다."
      ],
      "metadata": {
        "id": "2xCAMSA7IR-i"
      }
    },
    {
      "cell_type": "code",
      "source": [
        "# n = int(input())\n",
        "# call = list(map(int, input().split()))\n",
        "\n",
        "print(min(call))"
      ],
      "metadata": {
        "colab": {
          "base_uri": "https://localhost:8080/"
        },
        "id": "Bw-VMKkWIGa1",
        "outputId": "98db2d99-2dff-4d24-ac79-854c21bcef61"
      },
      "execution_count": null,
      "outputs": [
        {
          "output_type": "stream",
          "name": "stdout",
          "text": [
            "1\n"
          ]
        }
      ]
    },
    {
      "cell_type": "markdown",
      "source": [
        "# 6095 : [기초-리스트] 바둑판에 흰 돌 놓기(설명)(py)\n",
        "바둑판(19 * 19)에 n개의 흰 돌을 놓는다고 할 때,\n",
        "n개의 흰 돌이 놓인 위치를 출력하는 프로그램을 작성해보자.\n",
        "* 입력: 바둑판에 올려 놓을 흰 돌의 개수(n)가 첫 줄에 입력된다.\n",
        "둘째 줄 부터 n+1 번째 줄까지 힌 돌을 놓을 좌표(x, y)가 n줄 입력된다.\n",
        "n은 10이하의 자연수이고 x, y 좌표는 1 ~ 19 까지이며, 똑같은 좌표는 입력되지 않는다.\n",
        "* 출력: 흰 돌이 올려진 바둑판의 상황을 출력한다.\n",
        "흰 돌이 있는 위치는 1, 없는 곳은 0으로 출력한다."
      ],
      "metadata": {
        "id": "ghnHqhbvIwKL"
      }
    },
    {
      "cell_type": "code",
      "source": [
        "n = int(input())\n",
        "white = [[0 for i in range(19)] for i in range(19)]\n",
        "\n",
        "for i in range(n) :\n",
        "  x, y = map(int, input().split())\n",
        "  white[x-1][y-1] = 1\n",
        "\n",
        "for row in white :\n",
        "  print(*row, sep=' ')"
      ],
      "metadata": {
        "colab": {
          "base_uri": "https://localhost:8080/"
        },
        "id": "LtF9uy6DIqHS",
        "outputId": "3976fa84-8fb8-4965-c71b-66fafe4ae818"
      },
      "execution_count": null,
      "outputs": [
        {
          "output_type": "stream",
          "name": "stdout",
          "text": [
            "5\n",
            "1 1\n",
            "2 2\n",
            "3 3\n",
            "4 4\n",
            "5 5\n",
            "1 0 0 0 0 0 0 0 0 0 0 0 0 0 0 0 0 0 0\n",
            "0 1 0 0 0 0 0 0 0 0 0 0 0 0 0 0 0 0 0\n",
            "0 0 1 0 0 0 0 0 0 0 0 0 0 0 0 0 0 0 0\n",
            "0 0 0 1 0 0 0 0 0 0 0 0 0 0 0 0 0 0 0\n",
            "0 0 0 0 1 0 0 0 0 0 0 0 0 0 0 0 0 0 0\n",
            "0 0 0 0 0 0 0 0 0 0 0 0 0 0 0 0 0 0 0\n",
            "0 0 0 0 0 0 0 0 0 0 0 0 0 0 0 0 0 0 0\n",
            "0 0 0 0 0 0 0 0 0 0 0 0 0 0 0 0 0 0 0\n",
            "0 0 0 0 0 0 0 0 0 0 0 0 0 0 0 0 0 0 0\n",
            "0 0 0 0 0 0 0 0 0 0 0 0 0 0 0 0 0 0 0\n",
            "0 0 0 0 0 0 0 0 0 0 0 0 0 0 0 0 0 0 0\n",
            "0 0 0 0 0 0 0 0 0 0 0 0 0 0 0 0 0 0 0\n",
            "0 0 0 0 0 0 0 0 0 0 0 0 0 0 0 0 0 0 0\n",
            "0 0 0 0 0 0 0 0 0 0 0 0 0 0 0 0 0 0 0\n",
            "0 0 0 0 0 0 0 0 0 0 0 0 0 0 0 0 0 0 0\n",
            "0 0 0 0 0 0 0 0 0 0 0 0 0 0 0 0 0 0 0\n",
            "0 0 0 0 0 0 0 0 0 0 0 0 0 0 0 0 0 0 0\n",
            "0 0 0 0 0 0 0 0 0 0 0 0 0 0 0 0 0 0 0\n",
            "0 0 0 0 0 0 0 0 0 0 0 0 0 0 0 0 0 0 0\n"
          ]
        }
      ]
    },
    {
      "cell_type": "markdown",
      "source": [
        "# 6096 : [기초-리스트] 바둑알 십자 뒤집기(py)\n",
        "\n",
        "십자 뒤집기는\n",
        "그 위치에 있는 모든 가로줄 돌의 색을 반대(1->0, 0->1)로 바꾼 후,\n",
        "다시 그 위치에 있는 모든 세로줄 돌의 색을 반대로 바꾸는 것이다.\n",
        "어떤 위치를 골라 집자 뒤집기를 하면, 그 위치를 제외한 가로줄과 세로줄의 색이 모두 반대로 바뀐다.\n",
        "\n",
        "바둑판(19 * 19)에 흰 돌(1) 또는 검정 돌(0)이 모두 꽉 채워져 놓여있을 때,\n",
        "n개의 좌표를 입력받아 십(+)자 뒤집기한 결과를 출력하는 프로그램을 작성해보자.\n",
        "* 입력 : 바둑알이 깔려 있는 상황이 19 * 19 크기의 정수값으로 입력된다.\n",
        "십자 뒤집기 횟수(n)가 입력된다.\n",
        "십자 뒤집기 좌표가 횟수(n) 만큼 입력된다. 단, n은 10이하의 자연수이다.\n",
        "* 출력 : 십자 뒤집기 결과를 출력한다."
      ],
      "metadata": {
        "id": "ev-IVVwPKpTY"
      }
    },
    {
      "cell_type": "code",
      "source": [
        "baduk = []\n",
        "for i in range(19) :\n",
        "  temp = list(map(int, input().split()))\n",
        "  baduk.append(temp)\n",
        "\n",
        "def flip(x, y) :\n",
        "  if baduk[x][y] == 1 :\n",
        "    baduk[x][y] = 0\n",
        "  else:\n",
        "    baduk[x][y] = 1\n",
        "\n",
        "n = int(input())\n",
        "\n",
        "for xy in range(n) :\n",
        "  x, y = map(int, input().split())\n",
        "  for i in range(19) :\n",
        "    flip(x-1, i)\n",
        "  for j in range(19) :\n",
        "    flip(j, y-1)\n",
        "\n",
        "for row in baduk :\n",
        "  print(*row, sep=' ')"
      ],
      "metadata": {
        "colab": {
          "base_uri": "https://localhost:8080/"
        },
        "id": "FHK4KAQ6NRSV",
        "outputId": "0836e0b8-6561-4fd0-c7e9-22b8a3cc036a"
      },
      "execution_count": null,
      "outputs": [
        {
          "output_type": "stream",
          "name": "stdout",
          "text": [
            "4 4\n",
            "x, i : 4 0\n",
            "x, i : 4 1\n",
            "x, i : 4 2\n",
            "x, i : 4 3\n",
            "x, i : 4 4\n",
            "j, y : 0 4\n",
            "j, y : 1 4\n",
            "j, y : 2 4\n",
            "j, y : 3 4\n",
            "j, y : 4 4\n",
            "[[1, 1, 1, 1, 0], [1, 1, 1, 1, 0], [1, 1, 1, 1, 0], [1, 1, 1, 1, 0], [0, 0, 0, 0, 1]]\n"
          ]
        }
      ]
    },
    {
      "cell_type": "markdown",
      "source": [
        "# 6097 : [기초-리스트] 설탕과자 뽑기(py)\n",
        "격자판의 세로(h), 가로(w), 막대의 개수(n), 각 막대의 길이(l),\n",
        "막대를 놓는 방향(d:가로는 0, 세로는 1)과\n",
        "막대를 놓는 막대의 가장 왼쪽 또는 위쪽의 위치(x, y)가 주어질 때,\n",
        "\n",
        "격자판을 채운 막대의 모양을 출력하는 프로그램을 만들어보자."
      ],
      "metadata": {
        "id": "l6Hyj9GtUrSh"
      }
    },
    {
      "cell_type": "code",
      "source": [
        "h, w = map(int, input().split()) # 세로, 가로\n",
        "n = int(input()) # 막대의 개수\n",
        "l, d, x, y = map(int, input().split()) # 길이, 방향, x좌표, y 좌표"
      ],
      "metadata": {
        "colab": {
          "base_uri": "https://localhost:8080/"
        },
        "id": "OP1ETYkNVdMA",
        "outputId": "e7fe9946-a6d2-4d1f-a8c7-fb472d8ed5f1"
      },
      "execution_count": null,
      "outputs": [
        {
          "name": "stdout",
          "output_type": "stream",
          "text": [
            "5 5\n",
            "3\n",
            "2 0 1 1\n"
          ]
        }
      ]
    },
    {
      "cell_type": "code",
      "source": [
        "array = [[0 for i in range(w)] for i in range(h)]\n",
        "array"
      ],
      "metadata": {
        "colab": {
          "base_uri": "https://localhost:8080/"
        },
        "id": "KQLm1sivV6Js",
        "outputId": "6aa41699-21f7-4e54-b793-f3777272b66e"
      },
      "execution_count": null,
      "outputs": [
        {
          "output_type": "execute_result",
          "data": {
            "text/plain": [
              "[[0, 0, 0, 0, 0],\n",
              " [0, 0, 0, 0, 0],\n",
              " [0, 0, 0, 0, 0],\n",
              " [0, 0, 0, 0, 0],\n",
              " [0, 0, 0, 0, 0]]"
            ]
          },
          "metadata": {},
          "execution_count": 20
        }
      ]
    },
    {
      "cell_type": "code",
      "source": [
        "def stick(l, d, x, y) :\n",
        "  if d == 1 : # y가 고정\n",
        "    for i in range(l) :\n",
        "      array[x+i-1][y-1] = 1\n",
        "  elif d == 0 : # x가 고정\n",
        "    for j in range(l) :\n",
        "      array[x-1][y+j-1] = 1"
      ],
      "metadata": {
        "id": "FSl3R0VwWGF1"
      },
      "execution_count": null,
      "outputs": []
    },
    {
      "cell_type": "code",
      "source": [
        "for sticks in range(n) :\n",
        "  l, d, x, y = map(int, input().split())\n",
        "  stick(l, d, x, y)\n",
        "\n",
        "for row in array :\n",
        "  print(*row, sep=' ')"
      ],
      "metadata": {
        "colab": {
          "base_uri": "https://localhost:8080/"
        },
        "id": "OokosINOXBAa",
        "outputId": "30de58a7-c21f-4493-ecfe-2d50bd718f9d"
      },
      "execution_count": null,
      "outputs": [
        {
          "output_type": "stream",
          "name": "stdout",
          "text": [
            "2 0 1 1\n",
            "3 1 2 3\n",
            "4 1 2 5\n",
            "1 1 0 0 0\n",
            "0 0 1 0 1\n",
            "0 0 1 0 1\n",
            "0 0 1 0 1\n",
            "0 0 0 0 1\n"
          ]
        }
      ]
    },
    {
      "cell_type": "code",
      "source": [
        "# 최종제출코드\n",
        "h, w = map(int, input().split()) # 세로, 가로\n",
        "n = int(input()) # 막대의 개수\n",
        "array = [[0 for i in range(w)] for i in range(h)]\n",
        "\n",
        "def stick(l, d, x, y) :\n",
        "  if d == 1 : # y가 고정\n",
        "    for i in range(l) :\n",
        "      array[x+i-1][y-1] = 1\n",
        "  elif d == 0 : # x가 고정\n",
        "    for j in range(l) :\n",
        "      array[x-1][y+j-1] = 1\n",
        "\n",
        "for sticks in range(n) :\n",
        "  l, d, x, y = map(int, input().split())\n",
        "  stick(l, d, x, y)\n",
        "\n",
        "for row in array :\n",
        "  print(*row, sep=' ')"
      ],
      "metadata": {
        "id": "6rKHT7ZgXFly"
      },
      "execution_count": null,
      "outputs": []
    },
    {
      "cell_type": "markdown",
      "source": [
        "# 6098 : [기초-리스트] 성실한 개미(py)\n",
        "\n",
        "개미는 오른쪽으로 움직이다가 벽을 만나면 아래쪽으로 움직여 가장 빠른 길로 움직였다.\n",
        "(오른쪽에 길이 나타나면 다시 오른쪽으로 움직인다.)\n",
        "\n",
        "이에 호기심이 생긴 영일이는 그 개미를 미로 상자에 넣고 살펴보기 시작하였다.\n",
        "\n",
        "미로 상자에 넣은 개미는 먹이를 찾았거나, 더 이상 움직일 수 없을 때까지\n",
        "오른쪽 또는 아래쪽으로만 움직였다.\n",
        "\n",
        "미로 상자의 구조가 0(갈 수 있는 곳), 1(벽 또는 장애물)로 주어지고,\n",
        "먹이가 2로 주어질 때, 성실한 개미의 이동 경로를 예상해보자.\n",
        "\n",
        "단, 맨 아래의 가장 오른쪽에 도착한 경우, 더 이상 움직일 수 없는 경우, 먹이를 찾은 경우에는\n",
        "더이상 이동하지 않고 그 곳에 머무른다고 가정한다.\n",
        "\n",
        "미로 상자의 테두리는 모두 벽으로 되어 있으며,\n",
        "개미집은 반드시 (2, 2)에 존재하기 때문에 개미는 (2, 2)에서 출발한다."
      ],
      "metadata": {
        "id": "Vi4C_i8qX8lY"
      }
    },
    {
      "cell_type": "code",
      "source": [
        "maze = []\n",
        "for i in range(10) :\n",
        "  maze.append(list(map(int, input().split())))"
      ],
      "metadata": {
        "colab": {
          "base_uri": "https://localhost:8080/"
        },
        "id": "etyAFLqMa2LU",
        "outputId": "0ab0f26d-dd47-4335-856e-75f496eaa1cb"
      },
      "execution_count": 1,
      "outputs": [
        {
          "name": "stdout",
          "output_type": "stream",
          "text": [
            "1 1 1 1 1 1 1 1 1 1\n",
            "1 0 0 1 0 0 0 0 0 1\n",
            "1 0 0 1 1 1 0 0 0 1\n",
            "1 0 0 0 0 0 0 1 0 1\n",
            "1 0 0 0 0 0 0 1 0 1\n",
            "1 0 0 0 0 1 0 1 0 1\n",
            "1 0 0 0 0 1 2 1 0 1\n",
            "1 0 0 0 0 1 0 0 0 1\n",
            "1 0 0 0 0 0 0 0 0 1\n",
            "1 1 1 1 1 1 1 1 1 1\n"
          ]
        }
      ]
    },
    {
      "cell_type": "code",
      "source": [
        "maze[1][1] = 0\n",
        "maze_original = maze"
      ],
      "metadata": {
        "id": "bBOsmYZAhzPT"
      },
      "execution_count": 7,
      "outputs": []
    },
    {
      "cell_type": "code",
      "source": [
        "# 개미의 이동원칙\n",
        "# 0. (2,2)에서 시작한다-> 인덱스는 (1,1)과 같다\n",
        "# 1. 오른쪽으로 움직인다\n",
        "# 2. 오른쪽에 길이 없으면 아래쪽으로 움직인다\n",
        "# 3. 더이상 이동할수없거나, 먹이를 찾았으면 멈춘다\n",
        "\n",
        "maze = maze_original\n",
        "\n",
        "def antmove(x, y) : # (x,y)는 시작포인트\n",
        "  maze[x][y] = 9\n",
        "  if maze[x][y+1] == 2 :\n",
        "    maze[x][y+1] = 9\n",
        "    return maze\n",
        "  elif maze[x][y+1] == 1 :\n",
        "    if maze[x+1][y] == 2 :\n",
        "      maze[x+1][y] = 9\n",
        "      return maze\n",
        "    elif maze[x+1][y] :\n",
        "      return maze\n",
        "    elif maze[x+1][y] == 0 :\n",
        "      return antmove(x+1,y)\n",
        "  elif maze[x][y+1] == 0 :\n",
        "    return antmove(x,y+1)\n",
        "\n",
        "antmove(1,1)\n",
        "for row in maze :\n",
        "  print(*row, sep=' ')"
      ],
      "metadata": {
        "id": "Y2GwW4wubgSF",
        "colab": {
          "base_uri": "https://localhost:8080/"
        },
        "outputId": "54260341-1353-4f77-ff02-614c3fcf5750"
      },
      "execution_count": 16,
      "outputs": [
        {
          "output_type": "stream",
          "name": "stdout",
          "text": [
            "1 1 1 1 1 1 1 1 1 1\n",
            "1 9 9 1 0 0 0 0 0 1\n",
            "1 0 9 1 1 1 0 0 0 1\n",
            "1 0 9 9 9 9 9 1 0 1\n",
            "1 0 0 0 0 0 9 1 0 1\n",
            "1 0 0 0 0 1 9 1 0 1\n",
            "1 0 0 0 0 1 9 1 0 1\n",
            "1 0 0 0 0 1 0 0 0 1\n",
            "1 0 0 0 0 0 0 0 0 1\n",
            "1 1 1 1 1 1 1 1 1 1\n"
          ]
        }
      ]
    }
  ]
}