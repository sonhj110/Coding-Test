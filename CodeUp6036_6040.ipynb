{
  "nbformat": 4,
  "nbformat_minor": 0,
  "metadata": {
    "colab": {
      "provenance": [],
      "authorship_tag": "ABX9TyPTZJxGXQZp5pVqfrQ/tsQ6",
      "include_colab_link": true
    },
    "kernelspec": {
      "name": "python3",
      "display_name": "Python 3"
    },
    "language_info": {
      "name": "python"
    }
  },
  "cells": [
    {
      "cell_type": "markdown",
      "metadata": {
        "id": "view-in-github",
        "colab_type": "text"
      },
      "source": [
        "<a href=\"https://colab.research.google.com/github/sonhj110/Coding-Test/blob/main/CodeUp6036_6040.ipynb\" target=\"_parent\"><img src=\"https://colab.research.google.com/assets/colab-badge.svg\" alt=\"Open In Colab\"/></a>"
      ]
    },
    {
      "cell_type": "markdown",
      "source": [
        "# 6036 : [기초-산술연산] 단어 여러 번 출력하기(설명)(py)"
      ],
      "metadata": {
        "id": "C3J6mx27NqeZ"
      }
    },
    {
      "cell_type": "markdown",
      "source": [
        "* 입력: 단어와 반복 횟수가 공백으로 구분되어 입력된다.\n",
        "* 출력: 입력된 단어를 입력된 횟수만큼 반복해 출력한다."
      ],
      "metadata": {
        "id": "QDpsp2shNs3e"
      }
    },
    {
      "cell_type": "code",
      "execution_count": 2,
      "metadata": {
        "colab": {
          "base_uri": "https://localhost:8080/"
        },
        "id": "pYA6LujmNjuQ",
        "outputId": "0149b8d0-ecd6-4662-c884-787e6d82543f"
      },
      "outputs": [
        {
          "output_type": "stream",
          "name": "stdout",
          "text": [
            "Hello 3\n",
            "HelloHelloHello\n"
          ]
        }
      ],
      "source": [
        "word, num = input().split()\n",
        "n = int(num)\n",
        "print(word * n)"
      ]
    },
    {
      "cell_type": "markdown",
      "source": [
        "# 6037 : [기초-산술연산] 문장 여러 번 출력하기(설명)(py)"
      ],
      "metadata": {
        "id": "SKOPJegGOMfB"
      }
    },
    {
      "cell_type": "markdown",
      "source": [
        "* 입력: 반복 횟수와 문장이 줄을 바꿔 입력된다.\n",
        "* 출력: 입력된 횟수만큼 입력된 문장을 출력한다."
      ],
      "metadata": {
        "id": "WD07pePFOOg2"
      }
    },
    {
      "cell_type": "code",
      "source": [
        "n = int(input())\n",
        "s = input()\n",
        "print(s * n)"
      ],
      "metadata": {
        "colab": {
          "base_uri": "https://localhost:8080/"
        },
        "id": "RJFmUUYjOAbp",
        "outputId": "82128e81-497b-47d7-d2c0-9d8ffae15c71"
      },
      "execution_count": 4,
      "outputs": [
        {
          "output_type": "stream",
          "name": "stdout",
          "text": [
            "3\n",
            "I love u\n",
            "I love uI love uI love u\n"
          ]
        }
      ]
    },
    {
      "cell_type": "markdown",
      "source": [
        "# 6038 : [기초-산술연산] 정수 2개 입력받아 거듭제곱 계산하기(설명)(py)"
      ],
      "metadata": {
        "id": "Wfk2IyDnOqxz"
      }
    },
    {
      "cell_type": "markdown",
      "source": [
        "* 입력: 2개의 정수(a, b)가 공백으로 구분되어 입력된다.\n",
        "* 출력: a를 b번 거듭제곱한 값을 출력한다."
      ],
      "metadata": {
        "id": "TIB866GzOuPv"
      }
    },
    {
      "cell_type": "code",
      "source": [
        "a, b = input().split()\n",
        "print(int(a)**int(b))"
      ],
      "metadata": {
        "colab": {
          "base_uri": "https://localhost:8080/"
        },
        "id": "PeyMHs-wOY4t",
        "outputId": "29c20486-0866-496d-e6a3-d4413e0095aa"
      },
      "execution_count": 5,
      "outputs": [
        {
          "output_type": "stream",
          "name": "stdout",
          "text": [
            "2 3\n",
            "8\n"
          ]
        }
      ]
    },
    {
      "cell_type": "markdown",
      "source": [
        "# 6039 : [기초-산술연산] 실수 2개 입력받아 거듭제곱 계산하기(py)"
      ],
      "metadata": {
        "id": "rL2h1o4jPCjb"
      }
    },
    {
      "cell_type": "markdown",
      "source": [
        "* 입력: 2개의 실수(a, b)가 공백으로 구분되어 입력된다.\n",
        "* 출력: a를 b번 거듭제곱한 값을 출력한다."
      ],
      "metadata": {
        "id": "44S2Q-AJPDp3"
      }
    },
    {
      "cell_type": "code",
      "source": [
        "a, b = input().split()\n",
        "print(float(a)**float(b))"
      ],
      "metadata": {
        "id": "rnPTLfwvO7zI"
      },
      "execution_count": null,
      "outputs": []
    },
    {
      "cell_type": "markdown",
      "source": [
        "# 6040 : [기초-산술연산] 정수 2개 입력받아 나눈 몫 계산하기(설명)(py)"
      ],
      "metadata": {
        "id": "soOpW9MYPOcj"
      }
    },
    {
      "cell_type": "code",
      "source": [
        "a, b = input().split()\n",
        "print(int(a) // int(b))"
      ],
      "metadata": {
        "colab": {
          "base_uri": "https://localhost:8080/"
        },
        "id": "fONCdXTuPYHB",
        "outputId": "61e89337-a457-4604-bb38-8181e59bdf84"
      },
      "execution_count": 8,
      "outputs": [
        {
          "output_type": "stream",
          "name": "stdout",
          "text": [
            "5 2\n",
            "2\n"
          ]
        }
      ]
    }
  ]
}