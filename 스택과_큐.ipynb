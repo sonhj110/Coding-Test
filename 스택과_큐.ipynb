{
  "nbformat": 4,
  "nbformat_minor": 0,
  "metadata": {
    "colab": {
      "provenance": [],
      "toc_visible": true,
      "authorship_tag": "ABX9TyO4dibysT2KczABCG9m2E/J",
      "include_colab_link": true
    },
    "kernelspec": {
      "name": "python3",
      "display_name": "Python 3"
    },
    "language_info": {
      "name": "python"
    }
  },
  "cells": [
    {
      "cell_type": "markdown",
      "metadata": {
        "id": "view-in-github",
        "colab_type": "text"
      },
      "source": [
        "<a href=\"https://colab.research.google.com/github/sonhj110/Coding-Test/blob/main/%EC%8A%A4%ED%83%9D%EA%B3%BC_%ED%81%90.ipynb\" target=\"_parent\"><img src=\"https://colab.research.google.com/assets/colab-badge.svg\" alt=\"Open In Colab\"/></a>"
      ]
    },
    {
      "cell_type": "markdown",
      "source": [
        "# 스택"
      ],
      "metadata": {
        "id": "rBxHxUyHLlsm"
      }
    },
    {
      "cell_type": "markdown",
      "source": [
        "* 스택: 삽입과 삭제가 후입선출로 이뤄지는 자료구조"
      ],
      "metadata": {
        "id": "DjlAgr6CLm9R"
      }
    },
    {
      "cell_type": "markdown",
      "source": [
        "리스트로 스택 구현하기"
      ],
      "metadata": {
        "id": "0hz_RjGlMCdi"
      }
    },
    {
      "cell_type": "code",
      "execution_count": null,
      "metadata": {
        "id": "x_BPyMlxKYfH"
      },
      "outputs": [],
      "source": [
        "a = [1, 2, 3]"
      ]
    },
    {
      "cell_type": "markdown",
      "source": [
        "top: 삽입과 삭제가 일어나는 위치"
      ],
      "metadata": {
        "id": "UyynYDzRKx_n"
      }
    },
    {
      "cell_type": "code",
      "source": [
        "# top에 새로운 데이터를 추가(후입)\n",
        "a.append(4)  # 인것같은데 노트북에서 확인 필요\n",
        "a"
      ],
      "metadata": {
        "colab": {
          "base_uri": "https://localhost:8080/"
        },
        "id": "QfGI9HyXKqVp",
        "outputId": "782960f4-9c7f-4164-c614-30136fc66ff5"
      },
      "execution_count": null,
      "outputs": [
        {
          "output_type": "execute_result",
          "data": {
            "text/plain": [
              "[1, 2, 3, 4]"
            ]
          },
          "metadata": {},
          "execution_count": 4
        }
      ]
    },
    {
      "cell_type": "code",
      "source": [
        "# top에 있는 데이터를 삭제(선출)\n",
        "a.pop()\n",
        "a"
      ],
      "metadata": {
        "colab": {
          "base_uri": "https://localhost:8080/"
        },
        "id": "T99tkHwaKvlv",
        "outputId": "800122fc-6aa8-4da0-8fb2-df00173c0a32"
      },
      "execution_count": null,
      "outputs": [
        {
          "output_type": "execute_result",
          "data": {
            "text/plain": [
              "[1, 2, 3]"
            ]
          },
          "metadata": {},
          "execution_count": 4
        }
      ]
    },
    {
      "cell_type": "markdown",
      "source": [
        "# 큐"
      ],
      "metadata": {
        "id": "-dOhtaeWMO-c"
      }
    },
    {
      "cell_type": "markdown",
      "source": [
        "* 큐: 삽입과 삭제 연산인 선입선출로 이루어진 자료구조\n",
        "* 삽입과 삭제가 양방향에서 이뤄짐"
      ],
      "metadata": {
        "id": "F8rhe5blMQEd"
      }
    },
    {
      "cell_type": "markdown",
      "source": [
        "파이썬에서 큐는 deque로 구현할 수 있다"
      ],
      "metadata": {
        "id": "ezLkX6QzNUh4"
      }
    },
    {
      "cell_type": "code",
      "source": [
        "from collections import deque"
      ],
      "metadata": {
        "id": "B0qbljxwNY_N"
      },
      "execution_count": null,
      "outputs": []
    },
    {
      "cell_type": "code",
      "source": [
        "# deque로 큐 선언\n",
        "q = deque([1, 2, 3])\n",
        "q\n",
        "# 1이 front, 3이 reat"
      ],
      "metadata": {
        "colab": {
          "base_uri": "https://localhost:8080/"
        },
        "id": "PCqwSx7oLANn",
        "outputId": "1bdd8a83-f495-4c29-994b-4c02571459a8"
      },
      "execution_count": null,
      "outputs": [
        {
          "output_type": "execute_result",
          "data": {
            "text/plain": [
              "deque([1, 2, 3])"
            ]
          },
          "metadata": {},
          "execution_count": 49
        }
      ]
    },
    {
      "cell_type": "code",
      "source": [
        "# q의 rear 부분에 새로운 데이터를 삽입\n",
        "q.append(4)\n",
        "q"
      ],
      "metadata": {
        "colab": {
          "base_uri": "https://localhost:8080/"
        },
        "id": "M_S2BA1cMrZs",
        "outputId": "d968bb1b-7811-4c0c-cffb-04209a74f84d"
      },
      "execution_count": null,
      "outputs": [
        {
          "output_type": "execute_result",
          "data": {
            "text/plain": [
              "deque([1, 2, 3, 4])"
            ]
          },
          "metadata": {},
          "execution_count": 50
        }
      ]
    },
    {
      "cell_type": "code",
      "source": [
        "# q의 front 부분을 삭제(선입선출->큐)\n",
        "q.popleft()\n",
        "q"
      ],
      "metadata": {
        "colab": {
          "base_uri": "https://localhost:8080/"
        },
        "id": "hZUdS2xYMwv2",
        "outputId": "d9918bff-2452-42ef-e99e-6560bff90e78"
      },
      "execution_count": null,
      "outputs": [
        {
          "output_type": "execute_result",
          "data": {
            "text/plain": [
              "deque([2, 3, 4])"
            ]
          },
          "metadata": {},
          "execution_count": 51
        }
      ]
    },
    {
      "cell_type": "code",
      "source": [
        "# q의 front 부분에 새로운 데이터를 삽입\n",
        "q.appendleft(4)\n",
        "q"
      ],
      "metadata": {
        "colab": {
          "base_uri": "https://localhost:8080/"
        },
        "id": "sA9xfz4sNFxd",
        "outputId": "267be485-b0e2-4c8d-fe50-79039046038d"
      },
      "execution_count": null,
      "outputs": [
        {
          "output_type": "execute_result",
          "data": {
            "text/plain": [
              "deque([4, 2, 3, 4])"
            ]
          },
          "metadata": {},
          "execution_count": 52
        }
      ]
    },
    {
      "cell_type": "code",
      "source": [
        "# q의 rear 부분에 array를 순환하며 그 안의 데이터를 삽입\n",
        "q.extend([5,6])\n",
        "q"
      ],
      "metadata": {
        "colab": {
          "base_uri": "https://localhost:8080/"
        },
        "id": "d-kyqvjmRgr3",
        "outputId": "9056319a-c74a-48ad-d59d-0fed1c5acc62"
      },
      "execution_count": null,
      "outputs": [
        {
          "output_type": "execute_result",
          "data": {
            "text/plain": [
              "deque([4, 2, 3, 4, 5, 6])"
            ]
          },
          "metadata": {},
          "execution_count": 35
        }
      ]
    },
    {
      "cell_type": "code",
      "source": [
        "# q의 front 부분에 array를 순환하며 그 안의 데이터를 삽입\n",
        "q.extendleft([1,2])\n",
        "q\n",
        "# 삽입된 순서 주목"
      ],
      "metadata": {
        "colab": {
          "base_uri": "https://localhost:8080/"
        },
        "id": "aNIN4SRXRoru",
        "outputId": "35e5bdf1-a8d9-4640-a4d9-86210451939f"
      },
      "execution_count": null,
      "outputs": [
        {
          "output_type": "execute_result",
          "data": {
            "text/plain": [
              "deque([2, 1, 4, 2, 3, 4, 5, 6])"
            ]
          },
          "metadata": {},
          "execution_count": 36
        }
      ]
    },
    {
      "cell_type": "code",
      "source": [
        "# q의 3번 인덱스에 100을 추가한다\n",
        "q.insert(3, 100)\n",
        "q"
      ],
      "metadata": {
        "colab": {
          "base_uri": "https://localhost:8080/"
        },
        "id": "IHaxzSLaR8H3",
        "outputId": "b18f0033-52b3-4983-88a5-9cdd7ab03c53"
      },
      "execution_count": null,
      "outputs": [
        {
          "output_type": "execute_result",
          "data": {
            "text/plain": [
              "deque([2, 1, 4, 100, 2, 3, 4, 5, 6])"
            ]
          },
          "metadata": {},
          "execution_count": 37
        }
      ]
    },
    {
      "cell_type": "code",
      "source": [
        "# 입력한 원소를 삭제한다. 같은 원소가 있을 경우 왼쪽부터 삭제한다\n",
        "q.remove(4)\n",
        "q"
      ],
      "metadata": {
        "colab": {
          "base_uri": "https://localhost:8080/"
        },
        "id": "8YbUIV_0SeiQ",
        "outputId": "c5859889-9578-4aef-ef3f-00d27d84dba5"
      },
      "execution_count": null,
      "outputs": [
        {
          "output_type": "execute_result",
          "data": {
            "text/plain": [
              "deque([2, 1, 100, 2, 3, 4, 5, 6])"
            ]
          },
          "metadata": {},
          "execution_count": 38
        }
      ]
    },
    {
      "cell_type": "code",
      "source": [
        "# n만큼 원소의 위치를 회전한다. (양수 : 시계방향, 음수 : 반시계 방향)\n",
        "q.rotate(2)\n",
        "q"
      ],
      "metadata": {
        "colab": {
          "base_uri": "https://localhost:8080/"
        },
        "id": "geASrmPKSvgx",
        "outputId": "f13509c4-83fc-44a5-d922-5f8aecddf5ae"
      },
      "execution_count": null,
      "outputs": [
        {
          "output_type": "execute_result",
          "data": {
            "text/plain": [
              "deque([5, 6, 2, 1, 100, 2, 3, 4])"
            ]
          },
          "metadata": {},
          "execution_count": 39
        }
      ]
    },
    {
      "cell_type": "code",
      "source": [
        "q.rotate(-2)\n",
        "q"
      ],
      "metadata": {
        "colab": {
          "base_uri": "https://localhost:8080/"
        },
        "id": "CtpVwlxrS3O6",
        "outputId": "a31df685-a870-4c86-8e5f-997c957c0157"
      },
      "execution_count": null,
      "outputs": [
        {
          "output_type": "execute_result",
          "data": {
            "text/plain": [
              "deque([2, 1, 100, 2, 3, 4, 5, 6])"
            ]
          },
          "metadata": {},
          "execution_count": 40
        }
      ]
    },
    {
      "cell_type": "code",
      "source": [
        "# 원소의 위치를 좌우반전시킨다\n",
        "q.reverse()\n",
        "q"
      ],
      "metadata": {
        "colab": {
          "base_uri": "https://localhost:8080/"
        },
        "id": "9hHjcTdbTEJ3",
        "outputId": "a66877a2-42f8-4633-b684-7eef1bb6ee84"
      },
      "execution_count": null,
      "outputs": [
        {
          "output_type": "execute_result",
          "data": {
            "text/plain": [
              "deque([6, 5, 4, 3, 2, 100, 1, 2])"
            ]
          },
          "metadata": {},
          "execution_count": 42
        }
      ]
    },
    {
      "cell_type": "code",
      "source": [
        "# 모든 원소를 삭제한다\n",
        "q.clear()\n",
        "q"
      ],
      "metadata": {
        "colab": {
          "base_uri": "https://localhost:8080/"
        },
        "id": "xZRzHUUlTFTT",
        "outputId": "6e8616f7-682d-4bbd-8254-9670e31b003d"
      },
      "execution_count": null,
      "outputs": [
        {
          "output_type": "execute_result",
          "data": {
            "text/plain": [
              "deque([])"
            ]
          },
          "metadata": {},
          "execution_count": 43
        }
      ]
    },
    {
      "cell_type": "markdown",
      "source": [
        "# 문제11 스택으로 수열 만들기-백준 1874번"
      ],
      "metadata": {
        "id": "t62gJeUTKh8g"
      }
    },
    {
      "cell_type": "code",
      "source": [
        "n = int(input())\n",
        "a = [] # 만들어야하는 수열\n",
        "\n",
        "for i in range(n) :\n",
        "  a.append(int(input()))"
      ],
      "metadata": {
        "colab": {
          "base_uri": "https://localhost:8080/"
        },
        "id": "80Yi2lFDKgun",
        "outputId": "cdee4fd8-37f7-4b5f-c18a-ba3306456fbf"
      },
      "execution_count": 45,
      "outputs": [
        {
          "name": "stdout",
          "output_type": "stream",
          "text": [
            "8\n",
            "4\n",
            "3\n",
            "6\n",
            "8\n",
            "7\n",
            "5\n",
            "2\n",
            "1\n"
          ]
        }
      ]
    },
    {
      "cell_type": "code",
      "source": [
        "a"
      ],
      "metadata": {
        "colab": {
          "base_uri": "https://localhost:8080/"
        },
        "id": "b8nNYXMNTgfv",
        "outputId": "ff94b764-9614-4aa3-820d-b58dd96a6f47"
      },
      "execution_count": 46,
      "outputs": [
        {
          "output_type": "execute_result",
          "data": {
            "text/plain": [
              "[4, 3, 6, 8, 7, 5, 2, 1]"
            ]
          },
          "metadata": {},
          "execution_count": 46
        }
      ]
    },
    {
      "cell_type": "code",
      "source": [
        "result = [] # +/- array\n",
        "temp = [] # 오름차순 자연수\n",
        "nat = 1 # 자연수\n",
        "\n",
        "for i in range(n) :\n",
        "\n",
        "  # print(a[i])\n",
        "\n",
        "  if a[i] >= nat :\n",
        "    while a[i] >= nat :\n",
        "      # print(nat)\n",
        "      temp.append(nat)\n",
        "      nat += 1\n",
        "      result.append('+')\n",
        "      # print(result)\n",
        "    temp.pop()\n",
        "    result.append('-1')\n",
        "\n",
        "  elif a[i] < nat :\n",
        "    if temp.pop() > a[i] :\n",
        "      result.append('NO')\n",
        "    else :\n",
        "      result.append('-2')\n",
        "      print('-2')\n",
        "      print(nat)\n",
        "\n",
        "\n",
        "print(result)\n",
        "\n",
        "# if 'NO' in result :\n",
        "#   print('NO')\n",
        "# else :\n",
        "#   print(*result, sep='\\n')\n",
        "\n",
        "\n",
        "\n",
        "\n",
        "\n",
        "\n",
        "\n",
        "\n",
        "\n",
        "\n"
      ],
      "metadata": {
        "colab": {
          "base_uri": "https://localhost:8080/"
        },
        "id": "tqJu-HnTLZ8Z",
        "outputId": "682c05d5-7170-46fc-b01d-c5e543250607"
      },
      "execution_count": 47,
      "outputs": [
        {
          "output_type": "stream",
          "name": "stdout",
          "text": [
            "-2\n",
            "5\n",
            "-2\n",
            "9\n",
            "-2\n",
            "9\n",
            "-2\n",
            "9\n",
            "-2\n",
            "9\n",
            "['+', '+', '+', '+', '-1', '-2', '+', '+', '-1', '+', '+', '-1', '-2', '-2', '-2', '-2']\n"
          ]
        }
      ]
    },
    {
      "cell_type": "markdown",
      "source": [
        "# 문제12 오큰수 구하기-백준 17298번(아직 못품)\n",
        "\n"
      ],
      "metadata": {
        "id": "UWvlLK9V5HG2"
      }
    },
    {
      "cell_type": "code",
      "source": [
        "n = int(input())\n",
        "a = list(map(int, input().split()))\n",
        "ans = [0 for i in range(n)]\n",
        "mystack = [0]"
      ],
      "metadata": {
        "id": "Hyec_WVxTK9a",
        "colab": {
          "base_uri": "https://localhost:8080/"
        },
        "outputId": "0eaafd3a-7fc6-4b02-cf66-d374e4afce98"
      },
      "execution_count": null,
      "outputs": [
        {
          "name": "stdout",
          "output_type": "stream",
          "text": [
            "4\n",
            "3 5 2 7\n"
          ]
        }
      ]
    },
    {
      "cell_type": "code",
      "source": [
        "for index in range(n) :\n",
        "\n",
        "  while 조건 :\n",
        "\n",
        "    if mystack == [] :\n",
        "      break\n",
        "\n",
        "    else :\n",
        "      mystack.append(index)\n",
        "      top = mystack[-1]\n",
        "      if a[index-1] < a[top] :\n",
        "        ans[index-1].append(a[top])\n",
        "\n",
        "\n",
        "\n",
        "  print(ans)"
      ],
      "metadata": {
        "colab": {
          "base_uri": "https://localhost:8080/",
          "height": 279
        },
        "id": "QLknerUI5zqt",
        "outputId": "23ce617d-fdfe-437e-85ca-53b1549d7df1"
      },
      "execution_count": null,
      "outputs": [
        {
          "output_type": "stream",
          "name": "stdout",
          "text": [
            "0 0\n"
          ]
        },
        {
          "output_type": "error",
          "ename": "KeyboardInterrupt",
          "evalue": "ignored",
          "traceback": [
            "\u001b[0;31m---------------------------------------------------------------------------\u001b[0m",
            "\u001b[0;31mKeyboardInterrupt\u001b[0m                         Traceback (most recent call last)",
            "\u001b[0;32m<ipython-input-10-0092b4f48429>\u001b[0m in \u001b[0;36m<cell line: 1>\u001b[0;34m()\u001b[0m\n\u001b[1;32m      6\u001b[0m   \u001b[0;32mwhile\u001b[0m \u001b[0;32mTrue\u001b[0m \u001b[0;34m:\u001b[0m\u001b[0;34m\u001b[0m\u001b[0;34m\u001b[0m\u001b[0m\n\u001b[1;32m      7\u001b[0m \u001b[0;34m\u001b[0m\u001b[0m\n\u001b[0;32m----> 8\u001b[0;31m     \u001b[0;32mif\u001b[0m \u001b[0mmystack\u001b[0m\u001b[0;34m[\u001b[0m\u001b[0mindex\u001b[0m\u001b[0;34m]\u001b[0m \u001b[0;34m<\u001b[0m \u001b[0mtop\u001b[0m \u001b[0;34m:\u001b[0m\u001b[0;34m\u001b[0m\u001b[0;34m\u001b[0m\u001b[0m\n\u001b[0m\u001b[1;32m      9\u001b[0m       \u001b[0mans\u001b[0m\u001b[0;34m[\u001b[0m\u001b[0mindex\u001b[0m\u001b[0;34m]\u001b[0m\u001b[0;34m.\u001b[0m\u001b[0mappend\u001b[0m\u001b[0;34m(\u001b[0m\u001b[0ma\u001b[0m\u001b[0;34m[\u001b[0m\u001b[0mtop\u001b[0m\u001b[0;34m]\u001b[0m\u001b[0;34m)\u001b[0m\u001b[0;34m\u001b[0m\u001b[0;34m\u001b[0m\u001b[0m\n\u001b[1;32m     10\u001b[0m       \u001b[0;32mbreak\u001b[0m\u001b[0;34m\u001b[0m\u001b[0;34m\u001b[0m\u001b[0m\n",
            "\u001b[0;31mKeyboardInterrupt\u001b[0m: "
          ]
        }
      ]
    },
    {
      "cell_type": "markdown",
      "source": [
        "# 백준-12605번"
      ],
      "metadata": {
        "id": "5fNvv0LMiQr-"
      }
    },
    {
      "cell_type": "code",
      "source": [
        "n = int(input())\n",
        "mylist = []\n",
        "\n",
        "for i in range(n) :\n",
        "  mylist.append(input().split())\n",
        "\n",
        "casenum = 0\n",
        "\n",
        "for mycase in mylist :\n",
        "  temp = []\n",
        "  casenum += 1\n",
        "\n",
        "  while True :\n",
        "    temp.append(mycase.pop())\n",
        "\n",
        "    if mycase == [] :\n",
        "      break\n",
        "\n",
        "  print('Case #{}: '.format(casenum), *temp)\n"
      ],
      "metadata": {
        "id": "sFJ-sZ9U-5_D",
        "colab": {
          "base_uri": "https://localhost:8080/"
        },
        "outputId": "ef4b3135-ec5f-4f45-e6cc-73d3ed25c22b"
      },
      "execution_count": 79,
      "outputs": [
        {
          "output_type": "stream",
          "name": "stdout",
          "text": [
            "Case 1 : test a is this\n",
            "Case 2 : foobar\n",
            "Case 3 : base your all\n"
          ]
        }
      ]
    }
  ]
}