{
  "nbformat": 4,
  "nbformat_minor": 0,
  "metadata": {
    "colab": {
      "provenance": [],
      "authorship_tag": "ABX9TyNHiU8bqBP5AWoxPj2sYzv6",
      "include_colab_link": true
    },
    "kernelspec": {
      "name": "python3",
      "display_name": "Python 3"
    },
    "language_info": {
      "name": "python"
    }
  },
  "cells": [
    {
      "cell_type": "markdown",
      "metadata": {
        "id": "view-in-github",
        "colab_type": "text"
      },
      "source": [
        "<a href=\"https://colab.research.google.com/github/sonhj110/Coding-Test/blob/main/CodeUp6076_6080.ipynb\" target=\"_parent\"><img src=\"https://colab.research.google.com/assets/colab-badge.svg\" alt=\"Open In Colab\"/></a>"
      ]
    },
    {
      "cell_type": "markdown",
      "source": [
        "# 6076 : [기초-반복실행구조] 정수 1개 입력받아 그 수까지 출력하기2(설명)(py)\n",
        "정수(0 ~ 100) 1개를 입력받아 0부터 그 수까지 순서대로 출력해보자."
      ],
      "metadata": {
        "id": "tEdr40n7Gg0O"
      }
    },
    {
      "cell_type": "code",
      "execution_count": 5,
      "metadata": {
        "colab": {
          "base_uri": "https://localhost:8080/"
        },
        "id": "XRu3YYGkGcGS",
        "outputId": "ad7ead37-74d8-41e5-ce8b-3f57be1456a7"
      },
      "outputs": [
        {
          "output_type": "stream",
          "name": "stdout",
          "text": [
            "4\n",
            "0\n",
            "1\n",
            "2\n",
            "3\n",
            "4\n"
          ]
        }
      ],
      "source": [
        "n = int(input())\n",
        "\n",
        "i = 0\n",
        "while i <= n :\n",
        "  print(i)\n",
        "  i += 1"
      ]
    },
    {
      "cell_type": "markdown",
      "source": [
        "# 6077 : [기초-종합] 짝수 합 구하기(설명)(py)\n",
        "정수(1 ~ 100) 1개를 입력받아 1부터 그 수까지 짝수의 합을 구해보자."
      ],
      "metadata": {
        "id": "sfEGj7biH5oV"
      }
    },
    {
      "cell_type": "code",
      "source": [
        "n = int(input())\n",
        "sum = 0\n",
        "\n",
        "for num in range(1, n+1) :\n",
        "  if num % 2 == 0 :\n",
        "    sum += num\n",
        "\n",
        "print(sum)"
      ],
      "metadata": {
        "colab": {
          "base_uri": "https://localhost:8080/"
        },
        "id": "E_pk_zLUHSFH",
        "outputId": "8475a56a-cfb2-4fe5-ec17-1abdb957d09e"
      },
      "execution_count": 8,
      "outputs": [
        {
          "output_type": "stream",
          "name": "stdout",
          "text": [
            "5\n",
            "6\n"
          ]
        }
      ]
    },
    {
      "cell_type": "markdown",
      "source": [
        "# 6078 : [기초-종합] 원하는 문자가 입력될 때까지 반복 출력하기(py)\n",
        "영문 소문자 'q'가 입력될 때까지 입력한 문자를 계속 출력하는 프로그램을 작성해보자."
      ],
      "metadata": {
        "id": "7Mna-NusIYQ5"
      }
    },
    {
      "cell_type": "code",
      "source": [
        "while True :\n",
        "  c = input()\n",
        "  print(c)\n",
        "  if c == 'q' :\n",
        "    break\n",
        "\n",
        "\n"
      ],
      "metadata": {
        "id": "i7_4tDwqIMee"
      },
      "execution_count": null,
      "outputs": []
    },
    {
      "cell_type": "markdown",
      "source": [
        "# 6079 : [기초-종합] 언제까지 더해야 할까?(py)\n",
        "1, 2, 3 ... 을 계속 더해 나갈 때,\n",
        "그 합이 입력한 정수(0 ~ 1000)보다 같거나 작을 때까지만\n",
        "계속 더하는 프로그램을 작성해보자.\n",
        "\n",
        "즉, 1부터 n까지 정수를 계속 더해 나간다고 할 때,\n",
        "어디까지 더해야 입력한 수보다 같거나 커지는 지를 알아보고자하는 문제이다."
      ],
      "metadata": {
        "id": "55VPaMVaI7bx"
      }
    },
    {
      "cell_type": "code",
      "source": [
        "num = int(input())\n",
        "n = 0\n",
        "sum = 0\n",
        "\n",
        "while sum < num :\n",
        "  n += 1\n",
        "  sum += n\n",
        "\n",
        "print(n)\n",
        "\n"
      ],
      "metadata": {
        "colab": {
          "base_uri": "https://localhost:8080/"
        },
        "id": "ventzHQxI_Ko",
        "outputId": "85fb3e6e-ae3a-4c06-ad3d-91e3f4ddc199"
      },
      "execution_count": 14,
      "outputs": [
        {
          "output_type": "stream",
          "name": "stdout",
          "text": [
            "10\n",
            "4\n"
          ]
        }
      ]
    },
    {
      "cell_type": "markdown",
      "source": [
        "# 6080 : [기초-종합] 주사위 2개 던지기(설명)(py)\n",
        "1부터 n까지, 1부터 m까지 숫자가 적힌 서로 다른 주사위 2개를 던졌을 때,\n",
        "나올 수 있는 모든 경우를 출력해보자."
      ],
      "metadata": {
        "id": "nDX7YBW6KJup"
      }
    },
    {
      "cell_type": "code",
      "source": [
        "n, m = input().split()\n",
        "n, m = int(n), int(m)\n",
        "\n",
        "for i in range(1, n+1) :\n",
        "  for j in range(1, m+1) :\n",
        "    print(i, j)"
      ],
      "metadata": {
        "colab": {
          "base_uri": "https://localhost:8080/"
        },
        "id": "qLVz249iJbgO",
        "outputId": "be3b6bb5-506f-43a2-aa9e-61d4b624354d"
      },
      "execution_count": 15,
      "outputs": [
        {
          "output_type": "stream",
          "name": "stdout",
          "text": [
            "2 3\n",
            "1 1\n",
            "1 2\n",
            "1 3\n",
            "2 1\n",
            "2 2\n",
            "2 3\n"
          ]
        }
      ]
    },
    {
      "cell_type": "code",
      "source": [],
      "metadata": {
        "id": "mf-MfddhKbJ7"
      },
      "execution_count": null,
      "outputs": []
    }
  ]
}