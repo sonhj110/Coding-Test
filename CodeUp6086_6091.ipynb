{
  "nbformat": 4,
  "nbformat_minor": 0,
  "metadata": {
    "colab": {
      "provenance": [],
      "authorship_tag": "ABX9TyPHHDAjI5NVEkH68CiTBuYH",
      "include_colab_link": true
    },
    "kernelspec": {
      "name": "python3",
      "display_name": "Python 3"
    },
    "language_info": {
      "name": "python"
    }
  },
  "cells": [
    {
      "cell_type": "markdown",
      "metadata": {
        "id": "view-in-github",
        "colab_type": "text"
      },
      "source": [
        "<a href=\"https://colab.research.google.com/github/sonhj110/Coding-Test/blob/main/CodeUp6086_6091.ipynb\" target=\"_parent\"><img src=\"https://colab.research.google.com/assets/colab-badge.svg\" alt=\"Open In Colab\"/></a>"
      ]
    },
    {
      "cell_type": "markdown",
      "source": [
        "# 6086 : [기초-종합] 거기까지! 이제 그만~(설명)(py)\n",
        "1, 2, 3 ... 을 순서대로 계속 더해 합을 만드는데,\n",
        "그 합이 입력한 정수보다 작을 동안만 계속 더하는 프로그램을 작성해보자.\n",
        "\n",
        "즉, 1부터 n까지 정수를 하나씩 더해 합을 만드는데,\n",
        "어디까지 더해야 입력한 수보다 같거나 커지는지 알아보고자 하는 문제이다.\n",
        "\n",
        "하지만, 이번에는 그 때 까지의 합을 출력해야 한다.\n",
        "\n",
        "예를 들어, 57을 입력하면\n",
        "1+2+3+...+8+9+10=55에서 그 다음 수인 11을 더해 66이 될 때,\n",
        "그 값 66이 출력되어야 한다."
      ],
      "metadata": {
        "id": "dAV5yn7Te1Hx"
      }
    },
    {
      "cell_type": "code",
      "execution_count": null,
      "metadata": {
        "colab": {
          "base_uri": "https://localhost:8080/"
        },
        "id": "M2R0xRuwexyj",
        "outputId": "48ee4eb8-d356-42b2-e115-fe7c8f359163"
      },
      "outputs": [
        {
          "output_type": "stream",
          "name": "stdout",
          "text": [
            "57\n",
            "66\n"
          ]
        }
      ],
      "source": [
        "n = int(input())\n",
        "sum = 0\n",
        "\n",
        "for i in range(1, n+1) :\n",
        "  if sum < n :\n",
        "    sum += i\n",
        "  else :\n",
        "    break\n",
        "\n",
        "print(sum)\n"
      ]
    },
    {
      "cell_type": "markdown",
      "source": [
        "# 6087 : [기초-종합] 3의 배수는 통과(설명)(py)\n",
        "1부터 입력한 정수까지 1씩 증가시켜 출력하는 프로그램을 작성하되,\n",
        "3의 배수인 경우는 출력하지 않도록 만들어보자."
      ],
      "metadata": {
        "id": "mEYhsFiFh9W6"
      }
    },
    {
      "cell_type": "code",
      "source": [
        "n = int(input())\n",
        "\n",
        "for num in range(1, n+1) :\n",
        "  if num % 3 == 0 :\n",
        "    pass\n",
        "  else :\n",
        "    print(num)"
      ],
      "metadata": {
        "colab": {
          "base_uri": "https://localhost:8080/"
        },
        "id": "Qp4fn0lMhjiv",
        "outputId": "b6ac83c1-0d75-47c4-c7a7-6ecc10f4a657"
      },
      "execution_count": null,
      "outputs": [
        {
          "output_type": "stream",
          "name": "stdout",
          "text": [
            "45\n",
            "1\n",
            "2\n",
            "4\n",
            "5\n",
            "7\n",
            "8\n",
            "10\n",
            "11\n",
            "13\n",
            "14\n",
            "16\n",
            "17\n",
            "19\n",
            "20\n",
            "22\n",
            "23\n",
            "25\n",
            "26\n",
            "28\n",
            "29\n",
            "31\n",
            "32\n",
            "34\n",
            "35\n",
            "37\n",
            "38\n",
            "40\n",
            "41\n",
            "43\n",
            "44\n"
          ]
        }
      ]
    },
    {
      "cell_type": "code",
      "source": [
        "# 해설풀이\n",
        "\n",
        "n=int(input())\n",
        "\n",
        "for i in range(1, n+1) :\n",
        "  if i%3==0 :\n",
        "    continue            #다음 반복 단계로 넘어간다.\n",
        "  print(i, end=' ')    #i가 짝수가 아닐 때만 실행된다."
      ],
      "metadata": {
        "id": "zupl3JMGwYhw"
      },
      "execution_count": null,
      "outputs": []
    },
    {
      "cell_type": "markdown",
      "source": [
        "# 6088 : [기초-종합] 수 나열하기1(py)\n",
        "시작 값(a), 등차(d), 몇 번째인지를 나타내는 정수(n)가 입력될 때\n",
        "n번째 수를 출력하는 프로그램을 만들어보자."
      ],
      "metadata": {
        "id": "3BoiL-pUwbvL"
      }
    },
    {
      "cell_type": "code",
      "source": [
        "a, d, n = map(int, input().split())\n",
        "\n",
        "print(a+(d*(n-1)))"
      ],
      "metadata": {
        "colab": {
          "base_uri": "https://localhost:8080/"
        },
        "id": "Gtyboy1-wjzK",
        "outputId": "41968b86-cc8b-4d27-ffae-206836764666"
      },
      "execution_count": null,
      "outputs": [
        {
          "name": "stdout",
          "output_type": "stream",
          "text": [
            "1 3 5\n"
          ]
        },
        {
          "output_type": "execute_result",
          "data": {
            "text/plain": [
              "13"
            ]
          },
          "metadata": {},
          "execution_count": 7
        }
      ]
    },
    {
      "cell_type": "code",
      "source": [
        "# 해설풀이\n",
        "\n",
        "a,d,n=input().split()\n",
        "\n",
        "a=int(a)\n",
        "d=int(d)\n",
        "n=int(n)\n",
        "\n",
        "s=a\n",
        "for i in range(2, n+1): # n-1번만큼 d를 더하다\n",
        "   s+=d\n",
        "\n",
        "print(s)"
      ],
      "metadata": {
        "id": "cA5Y9rPKxoNJ"
      },
      "execution_count": null,
      "outputs": []
    },
    {
      "cell_type": "markdown",
      "source": [
        "# 6089 : [기초-종합] 수 나열하기2(py)\n",
        "시작 값(a), 등비(r), 몇 번째인지를 나타내는 정수(n)가 입력될 때\n",
        "n번째 수를 출력하는 프로그램을 만들어보자.\n"
      ],
      "metadata": {
        "id": "DD6tor4DcYZm"
      }
    },
    {
      "cell_type": "code",
      "source": [
        "a, r, n = map(int, input().split())\n",
        "result = a\n",
        "\n",
        "for i in range(1,n) :\n",
        "  result *= r\n",
        "\n",
        "print(result)"
      ],
      "metadata": {
        "colab": {
          "base_uri": "https://localhost:8080/"
        },
        "id": "iZv4W41XceDk",
        "outputId": "145bb1f0-169b-4d78-ecef-43b89461bd2d"
      },
      "execution_count": 2,
      "outputs": [
        {
          "output_type": "stream",
          "name": "stdout",
          "text": [
            "2 3 7\n",
            "1458\n"
          ]
        }
      ]
    },
    {
      "cell_type": "markdown",
      "source": [
        "# 6090 : [기초-종합] 수 나열하기3(py)\n",
        "어떤 규칙에 따라 수를 순서대로 나열한 것을 수열(sequences)이라고 한다.<br/>\n",
        "예를 들어\n",
        "1 -1 3 -5 11 -21 43 ... 은\n",
        "1부터 시작해 이전에 만든 수에 -2를 곱한 다음 1을 더해 다음 수를 만든 수열이다.<br/> 시작 값(a), 곱할 값(m), 더할 값(d), 몇 번째인지를 나타내는 정수(n)가 입력될 때, n번째 수를 출력하는 프로그램을 만들어보자."
      ],
      "metadata": {
        "id": "sqf-dm1P7D5C"
      }
    },
    {
      "cell_type": "code",
      "source": [
        "a, m, d, n = map(int, input().split())\n",
        "result = a\n",
        "\n",
        "for i in range(1, n) :\n",
        "  result = result * m + d\n",
        "\n",
        "print(result)"
      ],
      "metadata": {
        "id": "yMbk6_d_dER8",
        "colab": {
          "base_uri": "https://localhost:8080/"
        },
        "outputId": "2afcb817-b56e-4b8f-87c7-f63759b0cfd9"
      },
      "execution_count": 3,
      "outputs": [
        {
          "output_type": "stream",
          "name": "stdout",
          "text": [
            "1 -2 1 8\n",
            "-85\n"
          ]
        }
      ]
    },
    {
      "cell_type": "markdown",
      "source": [
        "# 6091 : [기초-종합] 함께 문제 푸는 날(설명)(py)\n",
        "같은 날 동시에 가입한 3명의 사람들이 온라인 채점시스템에 들어와 문제를 푸는 날짜가\n",
        "매우 규칙적이라고 할 때, 다시 모두 함께 문제를 풀게 되는 그날은 언제일까? <br/>\n",
        "* 입력: 같은 날 동시에 가입한 인원 3명이 규칙적으로 방문하는, 방문 주기가 공백을 두고 입력된다. (단, 입력값은 100이하의 자연수이다.)\n",
        "* 출력: 3명이 다시 모두 함께 방문해 문제를 풀어보는 날(동시 가입/등업 후 며칠 후?)을 출력한다."
      ],
      "metadata": {
        "id": "LHmXVWaD7uxW"
      }
    },
    {
      "cell_type": "code",
      "source": [
        "a, b, c = map(int, input().split())\n",
        "\n",
        "d = 1\n",
        "\n",
        "while d%a!=0 or d%b!=0 or d%c!=0 : # 'a의 방문일이 아니거나 b의 방문일이 아니거나 c의 방문일이 아닐때' 실행 = a, b, c,의 방문일일때 실행을 멈춤\n",
        "  d += 1\n",
        "\n",
        "print(d)"
      ],
      "metadata": {
        "id": "7QEAJHOe7vZ7"
      },
      "execution_count": null,
      "outputs": []
    }
  ]
}