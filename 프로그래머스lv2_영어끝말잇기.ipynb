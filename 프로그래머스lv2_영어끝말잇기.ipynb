{
  "nbformat": 4,
  "nbformat_minor": 0,
  "metadata": {
    "colab": {
      "provenance": [],
      "authorship_tag": "ABX9TyMOSCSJC7JCg2md9WoAkNXq",
      "include_colab_link": true
    },
    "kernelspec": {
      "name": "python3",
      "display_name": "Python 3"
    },
    "language_info": {
      "name": "python"
    }
  },
  "cells": [
    {
      "cell_type": "markdown",
      "metadata": {
        "id": "view-in-github",
        "colab_type": "text"
      },
      "source": [
        "<a href=\"https://colab.research.google.com/github/sonhj110/Coding-Test/blob/main/%ED%94%84%EB%A1%9C%EA%B7%B8%EB%9E%98%EB%A8%B8%EC%8A%A4lv2_%EC%98%81%EC%96%B4%EB%81%9D%EB%A7%90%EC%9E%87%EA%B8%B0.ipynb\" target=\"_parent\"><img src=\"https://colab.research.google.com/assets/colab-badge.svg\" alt=\"Open In Colab\"/></a>"
      ]
    },
    {
      "cell_type": "markdown",
      "source": [
        "영어 끝말잇기<br/>\n",
        "https://school.programmers.co.kr/learn/courses/30/lessons/12981"
      ],
      "metadata": {
        "id": "d-utdfYIyfBn"
      }
    },
    {
      "cell_type": "code",
      "execution_count": null,
      "metadata": {
        "id": "dH21WdtPyWDy"
      },
      "outputs": [],
      "source": [
        "def solution(n, words) :\n",
        "\n",
        "    for i in range(1, len(words)) :\n",
        "\n",
        "        if words[i] in words[:i] :\n",
        "            return [(i+n)%n + 1, i//n + 1]\n",
        "        elif words[i][0] != words[i-1][-1] :\n",
        "            return [(i+n)%n + 1, i//n + 1]\n",
        "        else :\n",
        "            pass\n",
        "\n",
        "    return [0,0]"
      ]
    }
  ]
}