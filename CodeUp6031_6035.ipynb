{
  "nbformat": 4,
  "nbformat_minor": 0,
  "metadata": {
    "colab": {
      "provenance": [],
      "authorship_tag": "ABX9TyMuePzkVBH1230O9n/+LWau",
      "include_colab_link": true
    },
    "kernelspec": {
      "name": "python3",
      "display_name": "Python 3"
    },
    "language_info": {
      "name": "python"
    }
  },
  "cells": [
    {
      "cell_type": "markdown",
      "metadata": {
        "id": "view-in-github",
        "colab_type": "text"
      },
      "source": [
        "<a href=\"https://colab.research.google.com/github/sonhj110/Coding-Test/blob/main/CodeUp6031_6035.ipynb\" target=\"_parent\"><img src=\"https://colab.research.google.com/assets/colab-badge.svg\" alt=\"Open In Colab\"/></a>"
      ]
    },
    {
      "cell_type": "markdown",
      "source": [
        "# 6031 : [기초-값변환] 정수 입력받아 유니코드 문자로 변환하기(설명)(py)"
      ],
      "metadata": {
        "id": "zeIygRgxbaTs"
      }
    },
    {
      "cell_type": "markdown",
      "source": [
        "참고:\n",
        "* chr( )는 정수값->문자\n",
        "* ord( )는 문자->정수값\n",
        "* 둘은 서로 반대 방향으로 바꾸어 주는 기능을 한다."
      ],
      "metadata": {
        "id": "Csi91_CKbfw_"
      }
    },
    {
      "cell_type": "markdown",
      "source": [
        "* 입력: 10진 정수 1개(32 ~ 126 범위)가 입력된다.\n",
        "* 출력: 유니코드 문자가 출력된다."
      ],
      "metadata": {
        "id": "ODj86zQfb79v"
      }
    },
    {
      "cell_type": "code",
      "execution_count": 2,
      "metadata": {
        "colab": {
          "base_uri": "https://localhost:8080/"
        },
        "id": "VAvAA5UrbD2N",
        "outputId": "7ace8808-5530-41db-8f51-858ba2f93e3a"
      },
      "outputs": [
        {
          "output_type": "stream",
          "name": "stdout",
          "text": [
            "33\n",
            "!\n"
          ]
        }
      ],
      "source": [
        "s = int(input())\n",
        "print(chr(s))"
      ]
    },
    {
      "cell_type": "markdown",
      "source": [
        "# 6032 : [기초-산술연산] 정수 1개 입력받아 부호 바꾸기(설명)(py)"
      ],
      "metadata": {
        "id": "Hdnw5spNcEWK"
      }
    },
    {
      "cell_type": "code",
      "source": [
        "s = int(input())\n",
        "print(-s)"
      ],
      "metadata": {
        "colab": {
          "base_uri": "https://localhost:8080/"
        },
        "id": "YVOoxvFMbuvN",
        "outputId": "55d8bf80-1c6e-4988-85b5-c4877dda2a32"
      },
      "execution_count": 4,
      "outputs": [
        {
          "output_type": "stream",
          "name": "stdout",
          "text": [
            "13\n",
            "-13\n"
          ]
        }
      ]
    },
    {
      "cell_type": "markdown",
      "source": [
        "# 6033 : [기초-산술연산] 문자 1개 입력받아 다음 문자 출력하기(설명)(py)"
      ],
      "metadata": {
        "id": "mGSd0VfmcR1e"
      }
    },
    {
      "cell_type": "code",
      "source": [
        "s = ord(input())\n",
        "print(chr(s+1))"
      ],
      "metadata": {
        "colab": {
          "base_uri": "https://localhost:8080/"
        },
        "id": "LIYEzIKlcJ-C",
        "outputId": "20429a55-a1a1-4b14-84b0-0427fae733dc"
      },
      "execution_count": 11,
      "outputs": [
        {
          "output_type": "stream",
          "name": "stdout",
          "text": [
            "a\n",
            "b\n"
          ]
        }
      ]
    },
    {
      "cell_type": "markdown",
      "source": [
        "# 6034 : [기초-산술연산] 정수 2개 입력받아 차 계산하기(설명)(py)"
      ],
      "metadata": {
        "id": "c7mkZmoDdBXT"
      }
    },
    {
      "cell_type": "code",
      "source": [
        "a, b = input().split()\n",
        "print(int(a)-int(b))"
      ],
      "metadata": {
        "colab": {
          "base_uri": "https://localhost:8080/"
        },
        "id": "QZ2OUtHdclU0",
        "outputId": "c4850012-ff58-4df1-8e68-d7d0dd003fc7"
      },
      "execution_count": 12,
      "outputs": [
        {
          "output_type": "stream",
          "name": "stdout",
          "text": [
            "2 5\n",
            "-3\n"
          ]
        }
      ]
    },
    {
      "cell_type": "markdown",
      "source": [
        "# 6035 : [기초-산술연산] 실수 2개 입력받아 곱 계산하기(설명)(py)"
      ],
      "metadata": {
        "id": "g6aWLhxLdVb1"
      }
    },
    {
      "cell_type": "code",
      "source": [
        "a, b = input().split()\n",
        "print(float(a)*float(b))"
      ],
      "metadata": {
        "colab": {
          "base_uri": "https://localhost:8080/"
        },
        "id": "LvXf_NiOdQrN",
        "outputId": "38225752-cde8-4911-ec2d-e2162e5036cb"
      },
      "execution_count": 13,
      "outputs": [
        {
          "output_type": "stream",
          "name": "stdout",
          "text": [
            "3.3 6.7\n",
            "22.11\n"
          ]
        }
      ]
    }
  ]
}