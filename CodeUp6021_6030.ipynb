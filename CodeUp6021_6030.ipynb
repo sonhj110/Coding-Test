{
  "nbformat": 4,
  "nbformat_minor": 0,
  "metadata": {
    "colab": {
      "provenance": [],
      "authorship_tag": "ABX9TyPHWG0Qo9UMqP3skpWkp1se",
      "include_colab_link": true
    },
    "kernelspec": {
      "name": "python3",
      "display_name": "Python 3"
    },
    "language_info": {
      "name": "python"
    }
  },
  "cells": [
    {
      "cell_type": "markdown",
      "metadata": {
        "id": "view-in-github",
        "colab_type": "text"
      },
      "source": [
        "<a href=\"https://colab.research.google.com/github/sonhj110/Coding-Test/blob/main/CodeUp6021_6030.ipynb\" target=\"_parent\"><img src=\"https://colab.research.google.com/assets/colab-badge.svg\" alt=\"Open In Colab\"/></a>"
      ]
    },
    {
      "cell_type": "markdown",
      "source": [
        "# 6021 : [기초-입출력] 단어 1개 입력받아 나누어 출력하기(설명)(py)"
      ],
      "metadata": {
        "id": "HPfySodjYObY"
      }
    },
    {
      "cell_type": "markdown",
      "source": [
        "알파벳과 숫자로 이루어진 단어 1개가 입력된다.\n",
        "입력받은 단어의 각 문자를 한 줄에 한 문자씩 분리해 출력한다."
      ],
      "metadata": {
        "id": "1PComMyVYYS_"
      }
    },
    {
      "cell_type": "code",
      "execution_count": 3,
      "metadata": {
        "colab": {
          "base_uri": "https://localhost:8080/"
        },
        "id": "i08bYRJCYJmW",
        "outputId": "09c90393-dd9d-4121-e293-7f0a37cd0b0d"
      },
      "outputs": [
        {
          "output_type": "stream",
          "name": "stdout",
          "text": [
            "Hello\n",
            "H\n",
            "e\n",
            "l\n",
            "l\n",
            "o\n"
          ]
        }
      ],
      "source": [
        "s = list(input())\n",
        "\n",
        "for i in range(len(s)) :\n",
        "  print(s[i])"
      ]
    },
    {
      "cell_type": "markdown",
      "source": [
        "# 6022 : [기초-입출력] 연월일 입력받아 나누어 출력하기(설명)(py)"
      ],
      "metadata": {
        "id": "_KlG4M-FZJiT"
      }
    },
    {
      "cell_type": "markdown",
      "source": [
        "*   입력: 6자리 숫자로 이루어진 연월일(YYMMDD)이 입력된다.\n",
        "*   출력: 년도(YY) 월(MM) 일(DD)을 공백으로 구분해 한 줄로 출력한다.\n"
      ],
      "metadata": {
        "id": "tiInWy_9ZKhY"
      }
    },
    {
      "cell_type": "code",
      "source": [
        "date = input()\n",
        "y = date[0:2]\n",
        "m = date[2:4]\n",
        "d = date[4:]\n",
        "\n",
        "print(y, m, d)"
      ],
      "metadata": {
        "colab": {
          "base_uri": "https://localhost:8080/"
        },
        "id": "L8mzxzrKYzqZ",
        "outputId": "3aac10f6-e999-4557-c31e-79109afd60b1"
      },
      "execution_count": 4,
      "outputs": [
        {
          "output_type": "stream",
          "name": "stdout",
          "text": [
            "231014\n",
            "23 10 14\n"
          ]
        }
      ]
    },
    {
      "cell_type": "code",
      "source": [
        "# 정답풀이\n",
        "\n",
        "s = input()\n",
        "print(s[0:2], s[2:4], s[4:6], sep=' ')"
      ],
      "metadata": {
        "id": "sp1CvWYNaAyh"
      },
      "execution_count": null,
      "outputs": []
    },
    {
      "cell_type": "markdown",
      "source": [
        "# 6023 : [기초-입출력] 시분초 입력받아 분만 출력하기(py)"
      ],
      "metadata": {
        "id": "lmwnn0EJaDr3"
      }
    },
    {
      "cell_type": "markdown",
      "source": [
        "* 입력: 시 분 초가 시:분:초 형식으로 입력된다.\n",
        "* 출력: 분만 출력한다."
      ],
      "metadata": {
        "id": "8Kx8iW1eaGw4"
      }
    },
    {
      "cell_type": "code",
      "source": [
        "time = input().split(':')\n",
        "print(time[1])"
      ],
      "metadata": {
        "colab": {
          "base_uri": "https://localhost:8080/"
        },
        "id": "joyX9PgjaNEh",
        "outputId": "60c028a6-3910-4d5c-9505-8adfb439f9ce"
      },
      "execution_count": 5,
      "outputs": [
        {
          "output_type": "stream",
          "name": "stdout",
          "text": [
            "23:10:14\n",
            "10\n"
          ]
        }
      ]
    },
    {
      "cell_type": "markdown",
      "source": [
        "# 6024 : [기초-입출력] 단어 2개 입력받아 이어 붙이기(설명)(py)"
      ],
      "metadata": {
        "id": "unXex1kmaepC"
      }
    },
    {
      "cell_type": "markdown",
      "source": [
        "* 입력: 알파벳과 숫자로 이루어진 2개의 단어가 공백으로 구분되어 입력된다.\n",
        "* 출력: 입력된 2개의 단어를 순서대로 붙여 출력한다."
      ],
      "metadata": {
        "id": "YxVkmL1_ajV-"
      }
    },
    {
      "cell_type": "code",
      "source": [
        "s = input().split()\n",
        "print(*s, sep='')"
      ],
      "metadata": {
        "colab": {
          "base_uri": "https://localhost:8080/"
        },
        "id": "t8m2B4GaaWkZ",
        "outputId": "f66e020c-9308-481b-8d35-05bc5dd7e633"
      },
      "execution_count": 6,
      "outputs": [
        {
          "output_type": "stream",
          "name": "stdout",
          "text": [
            "Hello World\n",
            "HelloWorld\n"
          ]
        }
      ]
    },
    {
      "cell_type": "code",
      "source": [
        "# 정답풀이\n",
        "a, b = input().split()\n",
        "print(a+b)"
      ],
      "metadata": {
        "colab": {
          "base_uri": "https://localhost:8080/"
        },
        "id": "0T8nfBkWaxmU",
        "outputId": "4b30ee49-0679-45a1-8be3-d889bbd6aac5"
      },
      "execution_count": 7,
      "outputs": [
        {
          "output_type": "stream",
          "name": "stdout",
          "text": [
            "Hello World\n",
            "HelloWorld\n"
          ]
        }
      ]
    },
    {
      "cell_type": "markdown",
      "source": [
        "# 6025 : [기초-값변환] 정수 2개 입력받아 합 계산하기(설명)(py)"
      ],
      "metadata": {
        "id": "-b3ILB2KbEzv"
      }
    },
    {
      "cell_type": "markdown",
      "source": [
        "* 입력 : 2개의 정수가 공백으로 구분되어 입력된다.\n",
        "* 출력 : 두 정수의 합을 출력한다.\n"
      ],
      "metadata": {
        "id": "yf5NRsF3bIGS"
      }
    },
    {
      "cell_type": "code",
      "source": [
        "a, b = input().split()\n",
        "print(int(a) + int(b))"
      ],
      "metadata": {
        "colab": {
          "base_uri": "https://localhost:8080/"
        },
        "id": "vIRWDaPma7XT",
        "outputId": "9d23eee5-ada2-4645-94de-933d7bd8d1bf"
      },
      "execution_count": 8,
      "outputs": [
        {
          "output_type": "stream",
          "name": "stdout",
          "text": [
            "1 3\n",
            "4\n"
          ]
        }
      ]
    },
    {
      "cell_type": "markdown",
      "source": [
        "# 6026 : [기초-값변환] 실수 2개 입력받아 합 계산하기(설명)(py)"
      ],
      "metadata": {
        "id": "uB431s20bsJE"
      }
    },
    {
      "cell_type": "markdown",
      "source": [
        "실수 2개를 입력받아\n",
        "합을 출력하는 프로그램을 작성해보자."
      ],
      "metadata": {
        "id": "YTKTGBRvbnjL"
      }
    },
    {
      "cell_type": "code",
      "source": [
        "a = float(input())\n",
        "b = float(input())\n",
        "print(a+b)"
      ],
      "metadata": {
        "colab": {
          "base_uri": "https://localhost:8080/"
        },
        "id": "CcG4DHQ1bdWv",
        "outputId": "34e36b74-078a-4569-a1ed-90e5b9039a8e"
      },
      "execution_count": 10,
      "outputs": [
        {
          "output_type": "stream",
          "name": "stdout",
          "text": [
            "0.1\n",
            "0.4\n",
            "0.5\n"
          ]
        }
      ]
    },
    {
      "cell_type": "markdown",
      "source": [
        "# 6027 : [기초-출력변환] 10진 정수 입력받아 16진수로 출력하기1(설명)(py)"
      ],
      "metadata": {
        "id": "dkKy1lNIcMLS"
      }
    },
    {
      "cell_type": "markdown",
      "source": [
        "* 10진수 1개가 입력된다.\n",
        "* 16진수(소문자) 형태로 출력한다."
      ],
      "metadata": {
        "id": "Jb4_VSSqcNok"
      }
    },
    {
      "cell_type": "code",
      "source": [
        "a = input()\n",
        "n = int(a)            #입력된 a를 10진수 값으로 변환해 변수 n에 저장\n",
        "print('%x'% n)  #n에 저장되어있는 값을 16진수(hexadecimal) 소문자 형태 문자열로 출력\n",
        "\n",
        "# %o로 출력하면 8진수(octal) 문자열로 출력된다."
      ],
      "metadata": {
        "colab": {
          "base_uri": "https://localhost:8080/"
        },
        "id": "fUfuvjDacNWf",
        "outputId": "90150476-1e23-4c35-9a5e-2b33cb3577e0"
      },
      "execution_count": 11,
      "outputs": [
        {
          "output_type": "stream",
          "name": "stdout",
          "text": [
            "43\n",
            "2b\n"
          ]
        }
      ]
    },
    {
      "cell_type": "markdown",
      "source": [
        "# 6028 : [기초-출력변환] 10진 정수 입력받아 16진수로 출력하기2(설명)(py)"
      ],
      "metadata": {
        "id": "_Rq5MHQ4cvXU"
      }
    },
    {
      "cell_type": "markdown",
      "source": [
        "* 10진수 1개가 입력된다.\n",
        "* 16진수(대문자) 형태로 출력한다."
      ],
      "metadata": {
        "id": "aMquAGKMcwvq"
      }
    },
    {
      "cell_type": "code",
      "source": [
        "n = int(input())\n",
        "print('%X'% n)"
      ],
      "metadata": {
        "colab": {
          "base_uri": "https://localhost:8080/"
        },
        "id": "aZVQ4YRmc0R9",
        "outputId": "17f4563c-9920-4fe2-807d-5ccc6bf82c11"
      },
      "execution_count": 12,
      "outputs": [
        {
          "output_type": "stream",
          "name": "stdout",
          "text": [
            "43\n",
            "2B\n"
          ]
        }
      ]
    },
    {
      "cell_type": "markdown",
      "source": [
        "# 6029 : [기초-값변환] 16진 정수 입력받아 8진수로 출력하기(설명)(py)"
      ],
      "metadata": {
        "id": "yKe-zZzidDCu"
      }
    },
    {
      "cell_type": "code",
      "source": [
        "a = input()\n",
        "n = int(a, 16)      #입력된 a를 16진수로 인식해 변수 n에 저장\n",
        "print('%o' % n)"
      ],
      "metadata": {
        "colab": {
          "base_uri": "https://localhost:8080/"
        },
        "id": "5zywAokic9lK",
        "outputId": "4a2f8a40-a3a5-4f2e-f8bd-303f3e926911"
      },
      "execution_count": 13,
      "outputs": [
        {
          "output_type": "stream",
          "name": "stdout",
          "text": [
            "43\n",
            "103\n"
          ]
        }
      ]
    },
    {
      "cell_type": "markdown",
      "source": [
        "# 6030 : [기초-값변환] 영문자 1개 입력받아 10진수로 변환하기(설명)(py)"
      ],
      "metadata": {
        "id": "YH-lD1xCdSpc"
      }
    },
    {
      "cell_type": "markdown",
      "source": [
        "참고<br/>\n",
        "n = ord(input())  #입력받은 문자를 10진수 유니코드 값으로 변환한 후, n에 저장한다.\n",
        "\n",
        "ord( ) 는 어떤 문자의 순서 위치(ordinal position) 값을 의미한다.  \n",
        "실제로 각각의 문자들에는 연속된 정수 값이 순서에 따라 부여 되어 있다. <br/>\n",
        "A:65, B:66, C:67 .... <br/>\n",
        "ord(c) : 문자 c 를 10진수로 변환한 값"
      ],
      "metadata": {
        "id": "fyfcUMymdddJ"
      }
    },
    {
      "cell_type": "code",
      "source": [
        "n = ord(input())\n",
        "print(n)"
      ],
      "metadata": {
        "colab": {
          "base_uri": "https://localhost:8080/"
        },
        "id": "xK9QYoCVdKwj",
        "outputId": "6915a96a-f32e-48f7-f31d-414bd9baa074"
      },
      "execution_count": 14,
      "outputs": [
        {
          "output_type": "stream",
          "name": "stdout",
          "text": [
            "b\n",
            "98\n"
          ]
        }
      ]
    }
  ]
}