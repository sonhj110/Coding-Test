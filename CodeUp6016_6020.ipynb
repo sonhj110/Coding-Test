{
  "nbformat": 4,
  "nbformat_minor": 0,
  "metadata": {
    "colab": {
      "provenance": [],
      "authorship_tag": "ABX9TyORkWu8WhvnCyB2bVBdPikk"
    },
    "kernelspec": {
      "name": "python3",
      "display_name": "Python 3"
    },
    "language_info": {
      "name": "python"
    }
  },
  "cells": [
    {
      "cell_type": "markdown",
      "source": [
        "# 6016 문제"
      ],
      "metadata": {
        "id": "KMd8Y8VAG4P0"
      }
    },
    {
      "cell_type": "markdown",
      "source": [
        "공백을 두고 문자(character) 2개를 입력받아 순서를 바꿔 출력해보자."
      ],
      "metadata": {
        "id": "Yxlb3OGHG6Bv"
      }
    },
    {
      "cell_type": "code",
      "execution_count": 1,
      "metadata": {
        "colab": {
          "base_uri": "https://localhost:8080/"
        },
        "id": "wQYAZt3YGkye",
        "outputId": "d94f7018-8860-476b-a350-c07dc8a57193"
      },
      "outputs": [
        {
          "output_type": "stream",
          "name": "stdout",
          "text": [
            "s w\n",
            "w s\n"
          ]
        }
      ],
      "source": [
        "c1, c2 = input().split()\n",
        "print(c2, c1)"
      ]
    },
    {
      "cell_type": "markdown",
      "source": [
        "# 6017 문제"
      ],
      "metadata": {
        "id": "U6SCDiOsHCV9"
      }
    },
    {
      "cell_type": "markdown",
      "source": [
        "정수(integer), 실수, 문자(character), 문자열(string) 등 1개만 입력받아 한 줄로 3번 출력해보자."
      ],
      "metadata": {
        "id": "gv9Hu1eoHJzF"
      }
    },
    {
      "cell_type": "code",
      "source": [
        "w = input()\n",
        "print(w, w, w)"
      ],
      "metadata": {
        "colab": {
          "base_uri": "https://localhost:8080/"
        },
        "id": "Rc9xNHRQHRob",
        "outputId": "86b0e672-5b5d-4354-8d59-510edfaca6a5"
      },
      "execution_count": 2,
      "outputs": [
        {
          "output_type": "stream",
          "name": "stdout",
          "text": [
            "word\n",
            "word word word\n"
          ]
        }
      ]
    },
    {
      "cell_type": "markdown",
      "source": [
        "# 6018 문제"
      ],
      "metadata": {
        "id": "NyaaRwHDHCOR"
      }
    },
    {
      "cell_type": "markdown",
      "source": [
        "24시간 시:분 형식으로 시간이 입력될 때, 그대로 출력하는 연습을 해보자."
      ],
      "metadata": {
        "id": "Tftl1kJiHdn5"
      }
    },
    {
      "cell_type": "code",
      "source": [
        "time = input()\n",
        "print(time)"
      ],
      "metadata": {
        "colab": {
          "base_uri": "https://localhost:8080/"
        },
        "id": "J9hc4zG1HeL2",
        "outputId": "df3dee5d-aaca-46cd-c17b-c6afbf4e8309"
      },
      "execution_count": 4,
      "outputs": [
        {
          "output_type": "stream",
          "name": "stdout",
          "text": [
            "23:11\n",
            "23:11\n"
          ]
        }
      ]
    },
    {
      "cell_type": "code",
      "source": [
        "# 정답 풀이\n",
        "a, b = input().split(':')\n",
        "print(a, b, sep=':') # 공백 대신 ':'으로 나누게 함"
      ],
      "metadata": {
        "colab": {
          "base_uri": "https://localhost:8080/"
        },
        "id": "PgOFxdN2Hl5Z",
        "outputId": "6f7b8f94-8af9-496e-9dfd-a0b89802315d"
      },
      "execution_count": 3,
      "outputs": [
        {
          "output_type": "stream",
          "name": "stdout",
          "text": [
            "23:11\n",
            "23:11\n"
          ]
        }
      ]
    },
    {
      "cell_type": "markdown",
      "source": [
        "# 6019 문제"
      ],
      "metadata": {
        "id": "yDh3FMt5HCD9"
      }
    },
    {
      "cell_type": "markdown",
      "source": [
        "\"연도.월.일\"을 입력받아 \"일-월-연도\" 순서로 바꿔 출력해보자."
      ],
      "metadata": {
        "id": "UkkCJEJkH2iF"
      }
    },
    {
      "cell_type": "code",
      "source": [
        "y, m, d = input().split('.')\n",
        "print(f'{d}-{m}-{y}')"
      ],
      "metadata": {
        "colab": {
          "base_uri": "https://localhost:8080/"
        },
        "id": "E28036ZfH3Cf",
        "outputId": "34536a82-89a7-4798-8388-a8fb6aecf88e"
      },
      "execution_count": 5,
      "outputs": [
        {
          "output_type": "stream",
          "name": "stdout",
          "text": [
            "2023.10.12\n",
            "12-10-2023\n"
          ]
        }
      ]
    },
    {
      "cell_type": "code",
      "source": [
        "# 정답 풀이\n",
        "y, m, d = input().split('.')\n",
        "print(d,m,y,sep='-')"
      ],
      "metadata": {
        "colab": {
          "base_uri": "https://localhost:8080/"
        },
        "id": "ZkRWN_nhH-j4",
        "outputId": "8d9ffb48-c8bc-4e29-b313-74726134ab4d"
      },
      "execution_count": 6,
      "outputs": [
        {
          "output_type": "stream",
          "name": "stdout",
          "text": [
            "2023.10.12\n",
            "12-10-2023\n"
          ]
        }
      ]
    },
    {
      "cell_type": "markdown",
      "source": [
        "# 6020 문제"
      ],
      "metadata": {
        "id": "EjOG-IQtHB8l"
      }
    },
    {
      "cell_type": "markdown",
      "source": [
        "왼쪽 6자리는 생년월일(YYMMDD)이고, 오른쪽 7자리는 성별,출생지역,확인코드로 구성되어있다.\n",
        "주민번호를 입력받아 형태를 바꿔 출력해보자."
      ],
      "metadata": {
        "id": "w7gOPtNjIHGD"
      }
    },
    {
      "cell_type": "markdown",
      "source": [
        "* 입력 예시: 000907-1121112\n",
        "* 출력 예시: 0009071121112\n",
        "\n"
      ],
      "metadata": {
        "id": "BSWhaKReIM5u"
      }
    },
    {
      "cell_type": "code",
      "source": [
        "num = input()\n",
        "print(num.replace('-', ''))"
      ],
      "metadata": {
        "colab": {
          "base_uri": "https://localhost:8080/"
        },
        "id": "CzWHd6ClIql5",
        "outputId": "f1514f80-34ab-4271-fd7f-56d324573751"
      },
      "execution_count": 9,
      "outputs": [
        {
          "output_type": "stream",
          "name": "stdout",
          "text": [
            "000907-1121112\n",
            "0009071121112\n"
          ]
        }
      ]
    },
    {
      "cell_type": "code",
      "source": [
        "# 정답 풀이\n",
        "a, b = input().split('-')\n",
        "print(a,b,sep='') # 공백으로 나눔 -> 나누지 않음"
      ],
      "metadata": {
        "colab": {
          "base_uri": "https://localhost:8080/"
        },
        "id": "kCGSS9GLIfwn",
        "outputId": "7176d7ac-1814-468b-821e-921e1c4acb00"
      },
      "execution_count": 8,
      "outputs": [
        {
          "output_type": "stream",
          "name": "stdout",
          "text": [
            "000907-1121112\n",
            "0009071121112\n"
          ]
        }
      ]
    }
  ]
}