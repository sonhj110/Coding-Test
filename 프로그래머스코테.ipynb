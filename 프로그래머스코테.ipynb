{
  "nbformat": 4,
  "nbformat_minor": 0,
  "metadata": {
    "colab": {
      "provenance": [],
      "authorship_tag": "ABX9TyMKaHPLzYasgJ4dqB/JNzEP",
      "include_colab_link": true
    },
    "kernelspec": {
      "name": "python3",
      "display_name": "Python 3"
    },
    "language_info": {
      "name": "python"
    }
  },
  "cells": [
    {
      "cell_type": "markdown",
      "metadata": {
        "id": "view-in-github",
        "colab_type": "text"
      },
      "source": [
        "<a href=\"https://colab.research.google.com/github/sonhj110/Coding-Test/blob/main/%ED%94%84%EB%A1%9C%EA%B7%B8%EB%9E%98%EB%A8%B8%EC%8A%A4%EC%BD%94%ED%85%8C.ipynb\" target=\"_parent\"><img src=\"https://colab.research.google.com/assets/colab-badge.svg\" alt=\"Open In Colab\"/></a>"
      ]
    },
    {
      "cell_type": "markdown",
      "source": [
        "# lv2. 최댓값과 최솟값\n",
        "문자열 s에는 공백으로 구분된 숫자들이 저장되어 있습니다. str에 나타나는 숫자 중 최소값과 최대값을 찾아 이를 \"(최소값) (최대값)\"형태의 문자열을 반환하는 함수, solution을 완성하세요.\n",
        "예를들어 s가 \"1 2 3 4\"라면 \"1 4\"를 리턴하고, \"-1 -2 -3 -4\"라면 \"-4 -1\"을 리턴하면 됩니다."
      ],
      "metadata": {
        "id": "mcvQi__4Azct"
      }
    },
    {
      "cell_type": "code",
      "execution_count": null,
      "metadata": {
        "id": "Ho1TD4cyAvs5"
      },
      "outputs": [],
      "source": [
        "def solution(s):\n",
        "    ls = list(map(int, s.split()))\n",
        "    min_n = min(ls)\n",
        "    max_n = max(ls)\n",
        "    answer = f'{min_n} {max_n}'\n",
        "    return answer"
      ]
    },
    {
      "cell_type": "markdown",
      "source": [
        "# lv1. x만큼 간격이 있는 n개의 숫자\n",
        "함수 solution은 정수 x와 자연수 n을 입력 받아, x부터 시작해 x씩 증가하는 숫자를 n개 지니는 리스트를 리턴해야 합니다. 다음 제한 조건을 보고, 조건을 만족하는 함수, solution을 완성해주세요."
      ],
      "metadata": {
        "id": "hbs5V1dCA774"
      }
    },
    {
      "cell_type": "code",
      "source": [
        "def solution(x, n):\n",
        "    answer = [i*x for i in range(1,n+1)]\n",
        "    return answer"
      ],
      "metadata": {
        "id": "sKd0LYtxBF9F"
      },
      "execution_count": null,
      "outputs": []
    },
    {
      "cell_type": "markdown",
      "source": [
        "# lv1. 나머지가 1이 되는 수 찾기\n",
        "자연수 n이 매개변수로 주어집니다. n을 x로 나눈 나머지가 1이 되도록 하는 가장 작은 자연수 x를 return 하도록 solution 함수를 완성해주세요. 답이 항상 존재함은 증명될 수 있습니다."
      ],
      "metadata": {
        "id": "nufCK_qQBMIh"
      }
    },
    {
      "cell_type": "code",
      "source": [
        "def solution(n):\n",
        "    x = 1\n",
        "    while n%x != 1 :\n",
        "        x += 1\n",
        "    return x"
      ],
      "metadata": {
        "id": "haiGjts0BSxm"
      },
      "execution_count": null,
      "outputs": []
    }
  ]
}