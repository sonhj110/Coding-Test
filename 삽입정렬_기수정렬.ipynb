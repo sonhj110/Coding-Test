{
  "nbformat": 4,
  "nbformat_minor": 0,
  "metadata": {
    "colab": {
      "provenance": [],
      "toc_visible": true,
      "authorship_tag": "ABX9TyPFE6MMjMwl8tMXFzARFeuV",
      "include_colab_link": true
    },
    "kernelspec": {
      "name": "python3",
      "display_name": "Python 3"
    },
    "language_info": {
      "name": "python"
    }
  },
  "cells": [
    {
      "cell_type": "markdown",
      "metadata": {
        "id": "view-in-github",
        "colab_type": "text"
      },
      "source": [
        "<a href=\"https://colab.research.google.com/github/sonhj110/Coding-Test/blob/main/%EC%82%BD%EC%9E%85%EC%A0%95%EB%A0%AC_%EA%B8%B0%EC%88%98%EC%A0%95%EB%A0%AC.ipynb\" target=\"_parent\"><img src=\"https://colab.research.google.com/assets/colab-badge.svg\" alt=\"Open In Colab\"/></a>"
      ]
    },
    {
      "cell_type": "markdown",
      "source": [
        "# 삽입정렬 insertion sort"
      ],
      "metadata": {
        "id": "7krUMfIgvReX"
      }
    },
    {
      "cell_type": "code",
      "execution_count": 10,
      "metadata": {
        "id": "MPU91z7GeCV6"
      },
      "outputs": [],
      "source": [
        "num = [134, 74, 972, 763, 441, 554, 312, 998]"
      ]
    },
    {
      "cell_type": "code",
      "source": [
        "num.insert(3, 763)\n",
        "num"
      ],
      "metadata": {
        "colab": {
          "base_uri": "https://localhost:8080/"
        },
        "id": "qISIsgt3mBpV",
        "outputId": "a3ca8e43-5d67-4dab-ee45-f207a39045fc"
      },
      "execution_count": null,
      "outputs": [
        {
          "output_type": "execute_result",
          "data": {
            "text/plain": [
              "[134, 74, 972, 763, 763, 441, 554, 312, 998]"
            ]
          },
          "metadata": {},
          "execution_count": 4
        }
      ]
    },
    {
      "cell_type": "markdown",
      "source": [
        "## 1. 비교적 이해하기 쉬운 코드(바로바로 스위칭)"
      ],
      "metadata": {
        "id": "0uJttagrDN7E"
      }
    },
    {
      "cell_type": "markdown",
      "source": [
        "visualization : https://www.hackerearth.com/practice/algorithms/sorting/insertion-sort/visualize/"
      ],
      "metadata": {
        "id": "qHPUSIGPsmeU"
      }
    },
    {
      "cell_type": "code",
      "source": [
        "for index in range(1, len(num)) :   # 리스트 길이만큼 반복하되 0번째 인덱스는 이미 정렬된 상태로 보고 생략\n",
        "\n",
        "    for i in range(index, 0, -1) :   # 현재 데이터의 정렬할 범위 지정\n",
        "\n",
        "      if num[i-1] > num[i] :   # 현재 데이터가 그전 인덱스의 데이터보다 작으면\n",
        "        num[i-1], num[i] = num[i], num[i-1]   # 스위치\n",
        "\n",
        "      else :   # 현재 데이터가 그전 인덱스의 데이터보다 작지 않으면\n",
        "        break   # 제대로 정렬이 된 상태이기 때문에 for문 빠져나오기\n",
        "\n",
        "print(num)"
      ],
      "metadata": {
        "colab": {
          "base_uri": "https://localhost:8080/"
        },
        "id": "-nAgSAcufn0G",
        "outputId": "e542a728-1ed1-423d-bb3e-8e379a8ccf83"
      },
      "execution_count": 11,
      "outputs": [
        {
          "output_type": "stream",
          "name": "stdout",
          "text": [
            "[74, 134, 312, 441, 554, 763, 972, 998]\n"
          ]
        }
      ]
    },
    {
      "cell_type": "markdown",
      "source": [
        "## 2. 교재에 나온 코드(삽입할 인덱스를 구해서 삽입)"
      ],
      "metadata": {
        "id": "0JbWX-3XDTgO"
      }
    },
    {
      "cell_type": "code",
      "source": [
        "num = [134, 74, 972, 763, 441, 554, 312, 998]\n",
        "\n",
        "for i in range(1, 8) :\n",
        "  insert_point = i\n",
        "  insert_value = num[i]\n",
        "\n",
        "  for j in range(i-1, -1, -1) :\n",
        "\n",
        "    if num[j] < num[i] :\n",
        "      insert_point = j + 1\n",
        "      break\n",
        "\n",
        "    if j == 0 :\n",
        "      insert_point = 0\n",
        "\n",
        "  for j in range(i, insert_point, -1) :\n",
        "    num[j] = num[j-1]\n",
        "\n",
        "  num[insert_point] = insert_value\n",
        "\n",
        "num"
      ],
      "metadata": {
        "colab": {
          "base_uri": "https://localhost:8080/"
        },
        "id": "Nf9A0g5iFcuA",
        "outputId": "b5766365-69e4-441a-f9c2-cd48d0605f1d"
      },
      "execution_count": 31,
      "outputs": [
        {
          "output_type": "execute_result",
          "data": {
            "text/plain": [
              "[74, 134, 312, 441, 554, 763, 972, 998]"
            ]
          },
          "metadata": {},
          "execution_count": 31
        }
      ]
    },
    {
      "cell_type": "code",
      "source": [
        "num = [134, 74, 972, 763, 441, 554, 312, 998]\n",
        "\n",
        "for i in range(1, 8) :\n",
        "  insert_point = i   # 삽입할때의 인덱스 선언, 정렬이 필요하지 않을 수도 있으니 초기값은 i\n",
        "  insert_value = num[i]   # 삽입할때 초기값을 기억하기 위해서 선언\n",
        "  print('i =',i)\n",
        "\n",
        "  for j in range(i-1, -1, -1) :   # i-1부터 0까지 내림차순 리스트, 정렬할 범위\n",
        "\n",
        "    if num[j] < num[i] :  # 현재 인덱스(i)의 값이 전 인덱스(j이자 i-1에서 내림차순으로 작아지는 수)의 값보다 크면\n",
        "      insert_point = j + 1  # insert_point = i가 아닌 이유: 두번째 for문이 두번 이상 반복될때 j+1 값은 점점 작아지는데 i값은 그대로니까\n",
        "      break\n",
        "\n",
        "    if j == 0 :\n",
        "      insert_point = 0\n",
        "\n",
        "    # num[j] >= num[i]일때만 반복되는 for문\n",
        "\n",
        "  print('insert point =', insert_point)\n",
        "  print(num)\n",
        "\n",
        "  for j in range(i, insert_point, -1) :  # 새로운 값이 삽입될 수 있게 나머지 값을 한칸씩 뒤로 밀어내는 과정\n",
        "    num[j] = num[j-1]\n",
        "    print(num)\n",
        "\n",
        "  num[insert_point] = insert_value\n",
        "  print('{}차 정렬완료: {}'.format(i, num))\n",
        "  print()\n",
        "\n",
        "\n",
        "print('최종 정렬완료:', num)"
      ],
      "metadata": {
        "colab": {
          "base_uri": "https://localhost:8080/"
        },
        "id": "VXtXLLuozsBP",
        "outputId": "447fc0bd-3e5c-496c-bbe8-854735f407d9"
      },
      "execution_count": 33,
      "outputs": [
        {
          "output_type": "stream",
          "name": "stdout",
          "text": [
            "i = 1\n",
            "insert point = 0\n",
            "[134, 74, 972, 763, 441, 554, 312, 998]\n",
            "[134, 134, 972, 763, 441, 554, 312, 998]\n",
            "1차 정렬완료: [74, 134, 972, 763, 441, 554, 312, 998]\n",
            "\n",
            "i = 2\n",
            "insert point = 2\n",
            "[74, 134, 972, 763, 441, 554, 312, 998]\n",
            "2차 정렬완료: [74, 134, 972, 763, 441, 554, 312, 998]\n",
            "\n",
            "i = 3\n",
            "insert point = 2\n",
            "[74, 134, 972, 763, 441, 554, 312, 998]\n",
            "[74, 134, 972, 972, 441, 554, 312, 998]\n",
            "3차 정렬완료: [74, 134, 763, 972, 441, 554, 312, 998]\n",
            "\n",
            "i = 4\n",
            "insert point = 2\n",
            "[74, 134, 763, 972, 441, 554, 312, 998]\n",
            "[74, 134, 763, 972, 972, 554, 312, 998]\n",
            "[74, 134, 763, 763, 972, 554, 312, 998]\n",
            "4차 정렬완료: [74, 134, 441, 763, 972, 554, 312, 998]\n",
            "\n",
            "i = 5\n",
            "insert point = 3\n",
            "[74, 134, 441, 763, 972, 554, 312, 998]\n",
            "[74, 134, 441, 763, 972, 972, 312, 998]\n",
            "[74, 134, 441, 763, 763, 972, 312, 998]\n",
            "5차 정렬완료: [74, 134, 441, 554, 763, 972, 312, 998]\n",
            "\n",
            "i = 6\n",
            "insert point = 2\n",
            "[74, 134, 441, 554, 763, 972, 312, 998]\n",
            "[74, 134, 441, 554, 763, 972, 972, 998]\n",
            "[74, 134, 441, 554, 763, 763, 972, 998]\n",
            "[74, 134, 441, 554, 554, 763, 972, 998]\n",
            "[74, 134, 441, 441, 554, 763, 972, 998]\n",
            "6차 정렬완료: [74, 134, 312, 441, 554, 763, 972, 998]\n",
            "\n",
            "i = 7\n",
            "insert point = 7\n",
            "[74, 134, 312, 441, 554, 763, 972, 998]\n",
            "7차 정렬완료: [74, 134, 312, 441, 554, 763, 972, 998]\n",
            "\n",
            "최종 정렬완료: [74, 134, 312, 441, 554, 763, 972, 998]\n"
          ]
        }
      ]
    },
    {
      "cell_type": "markdown",
      "source": [
        "## 문제18 ATM 인출 시간 계산하기-백준 11399번"
      ],
      "metadata": {
        "id": "Dqmh4EVrqwZ_"
      }
    },
    {
      "cell_type": "markdown",
      "source": [
        "* 한 대의 ATM 앞에 N명의 사람이 서있다.\n",
        "* 사람은 1번부터 N번까지 번호가 매겨져 있다.\n",
        "* i번 사람이 돈을 인출하는데 걸리는 시간은 Pi분이다\n",
        "* 사람들이 줄을 서는 순서에 따라서 돈을 인출하는데 필요한 시간의 합이 달라지게 된다"
      ],
      "metadata": {
        "id": "lR2vr3Jnq1w0"
      }
    },
    {
      "cell_type": "markdown",
      "source": [
        "예시: N=5이고, P1 = 3, P2 = 1, P3 = 4, P4 = 3, P5 = 2\n",
        " 1. [1, 2, 3, 4, 5] 순서로 줄을 선 경우\n",
        " - 1번 사람은 3분만에 돈을 뽑을 수 있다\n",
        " - 2번 사람은 3+1 = 4분이 걸리게 된다\n",
        " - 3번 사람은 3+1+4 = 8분이 필요하게 된다\n",
        " - 따라서 이 경우에 각 사람이 돈을 인출하는데 필요한 시간의 합은 3+4+8+11+13 = 39분이 된다\n",
        "\n",
        " <br/>\n",
        " 2. [2, 5, 1, 4, 3] 순서로 줄을 선 경우\n",
        " - 각 사람이 돈을 인출하는데 필요한 시간의 합은 1+3+6+9+13 = 32분이다\n",
        "\n",
        "<br/>\n",
        "\n",
        "* 결국, 큰값이 앞에 올수록 중복해서 더해지기 때문에 그냥 오름차순으로 정렬하라는 뜻"
      ],
      "metadata": {
        "id": "Whn-ik6GrofK"
      }
    },
    {
      "cell_type": "markdown",
      "source": [
        "### 1번 풀이"
      ],
      "metadata": {
        "id": "vSm7JdbeKxvU"
      }
    },
    {
      "cell_type": "code",
      "source": [
        "N = int(input()) # 사람 수\n",
        "A = list(map(int, input().split())) # 소요시간 리스트\n",
        "S = [0]*N  # A의 합배열, S = [0 for i in range(N)]과 동일\n",
        "\n",
        "\n",
        "for i in range(1, N) :   # 리스트 길이만큼 반복하되 0번째 인덱스는 이미 정렬된 상태로 보고 생략\n",
        "\n",
        "    for j in range(i, 0, -1) :   # 현재 데이터의 정렬할 범위 지정\n",
        "\n",
        "      if A[j-1] > A[j] :   # 현재 데이터가 그전 인덱스의 데이터보다 작으면\n",
        "        A[j-1], A[j] = A[j], A[j-1]   # 스위치\n",
        "\n",
        "      else :   # 현재 데이터가 그전 인덱스의 데이터보다 작지 않으면\n",
        "        break   # 제대로 정렬이 된 상태이기 때문에 for문 빠져나오기\n",
        "\n",
        "\n",
        "# 합배열 만들기\n",
        "S[0] = A[0]\n",
        "\n",
        "for i in range(1, N) :\n",
        "  S[i] = A[i] + S[i-1]\n",
        "\n",
        "\n",
        "# 합배열의 총합 구하기\n",
        "sum = 0\n",
        "\n",
        "for i in range(0, N) :\n",
        "  sum += S[i]\n",
        "\n",
        "\n",
        "print(sum)"
      ],
      "metadata": {
        "colab": {
          "base_uri": "https://localhost:8080/"
        },
        "id": "insit7gRJzUJ",
        "outputId": "d165aca7-d9f3-41e4-c89f-3c26834fff93"
      },
      "execution_count": 41,
      "outputs": [
        {
          "output_type": "stream",
          "name": "stdout",
          "text": [
            "5\n",
            "3 1 4 3 2\n",
            "32\n"
          ]
        }
      ]
    },
    {
      "cell_type": "markdown",
      "source": [
        "### 2번 풀이"
      ],
      "metadata": {
        "id": "osS5skxoK2jU"
      }
    },
    {
      "cell_type": "code",
      "source": [
        "N = int(input()) # 사람 수\n",
        "A = list(map(int, input().split())) # 소요시간 리스트\n",
        "S = [0]*N  # A의 합배열, S = [0 for i in range(N)]과 동일\n",
        "\n",
        "# 삽입정렬\n",
        "for i in range(1, N) :\n",
        "  insert_point = i\n",
        "  insert_value = A[i]\n",
        "\n",
        "  for j in range(i-1, -1, -1) :\n",
        "\n",
        "    if A[j] < A[i] :\n",
        "      insert_point = j + 1\n",
        "      break\n",
        "\n",
        "    if j == 0 :\n",
        "      insert_point = 0\n",
        "\n",
        "  for j in range(i, insert_point, -1) :\n",
        "    A[j] = A[j-1]\n",
        "\n",
        "  A[insert_point] = insert_value\n",
        "\n",
        "\n",
        "# 합배열 만들기\n",
        "S[0] = A[0]\n",
        "\n",
        "for i in range(1, N) :\n",
        "  S[i] = A[i] + S[i-1]\n",
        "\n",
        "\n",
        "# 합배열의 총합 구하기\n",
        "sum = 0\n",
        "\n",
        "for i in range(0, N) :\n",
        "  sum += S[i]\n",
        "\n",
        "print(sum)\n"
      ],
      "metadata": {
        "colab": {
          "base_uri": "https://localhost:8080/"
        },
        "id": "6NwhO3scGLO_",
        "outputId": "a035a6b2-88ee-4793-b76f-1eefa3886be5"
      },
      "execution_count": 40,
      "outputs": [
        {
          "output_type": "stream",
          "name": "stdout",
          "text": [
            "5\n",
            "3 1 4 3 2\n",
            "32\n"
          ]
        }
      ]
    },
    {
      "cell_type": "markdown",
      "source": [],
      "metadata": {
        "id": "Ts5HrTroK5LB"
      }
    },
    {
      "cell_type": "markdown",
      "source": [
        "# 기수정렬 radix sort"
      ],
      "metadata": {
        "id": "QPd7LIFJvTXx"
      }
    },
    {
      "cell_type": "markdown",
      "source": [
        "* 값을 비교하지 않는 정렬\n",
        "* 자릿수끼리 비교함\n",
        "* 시간복잡도가 O(kn)으로 가장 짧다(k는 자릿수)"
      ],
      "metadata": {
        "id": "XErE0ylrvbuR"
      }
    },
    {
      "cell_type": "markdown",
      "source": [
        "![image.png](data:image/png;base64,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)"
      ],
      "metadata": {
        "id": "sHhQ6mPpO9IT"
      }
    },
    {
      "cell_type": "markdown",
      "source": [
        "## 나의 날구현"
      ],
      "metadata": {
        "id": "qQPqQHVoVTX8"
      }
    },
    {
      "cell_type": "code",
      "source": [
        "num = [16, 80, 18, 77, 3, 24, 88, 23]\n",
        "digit1 = [[] for i in range(10)]\n",
        "digit2 = [[] for i in range(10)]"
      ],
      "metadata": {
        "id": "AB1PpRdZvpGU"
      },
      "execution_count": 6,
      "outputs": []
    },
    {
      "cell_type": "code",
      "source": [
        "# 일의 자릿수 뽑기\n",
        "for i in range(len(num)) :\n",
        "  d1 = num[i] % 10  # 10으로 나눈 나머지\n",
        "  digit1[d1].append(num[i])\n",
        "\n",
        "# 리스트 괄호 풀기\n",
        "temp1 = sum(digit1, [])\n",
        "temp1\n",
        "\n",
        "# 십의 자릿수 뽑기\n",
        "for i in range(len(num)) :\n",
        "  d2 = int(((temp1[i] - (temp1[i] % 10)) % 100) / 10) # 일의 자리수 뺀 값을 100으로 나눈 나머지\n",
        "  digit2[d2].append(temp1[i])\n",
        "\n",
        "result = sum(digit2, [])\n",
        "result"
      ],
      "metadata": {
        "colab": {
          "base_uri": "https://localhost:8080/"
        },
        "id": "M4RhjUuVwbz0",
        "outputId": "9cf5540d-26a8-41e0-dfd6-58686dab9bd6"
      },
      "execution_count": 7,
      "outputs": [
        {
          "output_type": "execute_result",
          "data": {
            "text/plain": [
              "[3, 16, 18, 23, 24, 77, 80, 88]"
            ]
          },
          "metadata": {},
          "execution_count": 7
        }
      ]
    },
    {
      "cell_type": "markdown",
      "source": [
        "## 기수정렬 구현하기"
      ],
      "metadata": {
        "id": "egBKh4sQVWFt"
      }
    },
    {
      "cell_type": "code",
      "source": [
        "def radix_sort(arr):\n",
        "    # 가장 큰 수의 자릿수를 구합니다.\n",
        "    max_num = max(arr)\n",
        "    max_digit = len(str(max_num))  # 문자화해서 글자수를 구함\n",
        "\n",
        "    # 각 자리수를 기준으로 정렬을 수행합니다.\n",
        "    for digit in range(max_digit):\n",
        "\n",
        "        # 0부터 9까지의 숫자를 담을 임시 배열을 생성합니다.\n",
        "        buckets = [[] for _ in range(10)]\n",
        "\n",
        "        # 입력 배열의 숫자를 각 자리수에 맞는 버킷에 넣습니다.\n",
        "        for num in arr:\n",
        "            digit_val = (num // (10 ** digit)) % 10   # 10의 거듭제곱으로 나눠서 나온 몫을 다시 10으로 나눈 나머지\n",
        "            buckets[digit_val].append(num)  # 구한 자릿수가 인덱스가 되어 해당 숫자를 저장함\n",
        "\n",
        "        # 버킷에 있는 숫자를 순서대로 꺼내고, 다시 입력 배열에 저장합니다.\n",
        "        arr = [num for bucket in buckets for num in bucket]\n",
        "        # for bucket in buckets :\n",
        "        #   for num in bucket :\n",
        "        #     arr.append(num)\n",
        "\n",
        "        # 이 과정을 자릿수만큼 반복하면 정렬 완료\n",
        "\n",
        "    return arr"
      ],
      "metadata": {
        "id": "A1Ak1tJ10ZBb"
      },
      "execution_count": null,
      "outputs": []
    },
    {
      "cell_type": "markdown",
      "source": [
        "## 백준 2750번\n",
        "https://www.acmicpc.net/problem/2750"
      ],
      "metadata": {
        "id": "vQSOmZjTZpAb"
      }
    },
    {
      "cell_type": "markdown",
      "source": [
        "* N개의 수가 주어졌을 때, 이를 오름차순으로 정렬하는 프로그램을 작성하시오.\n",
        "* 입력: 첫째 줄에 수의 개수 N(1 ≤ N ≤ 1,000)이 주어진다. 둘째 줄부터 N개의 줄에는 수가 주어진다. 이 수는 절댓값이 1,000보다 작거나 같은 정수이다. 수는 중복되지 않는다.\n",
        "* 출력 : 첫째 줄부터 N개의 줄에 오름차순으로 정렬한 결과를 한 줄에 하나씩 출력한다."
      ],
      "metadata": {
        "id": "e44fmiKGZyPZ"
      }
    },
    {
      "cell_type": "code",
      "source": [
        "N = int(input())\n",
        "mylist = []\n",
        "\n",
        "for i in range(N) :\n",
        "  n = int(input())\n",
        "  mylist.append(n)\n",
        "\n",
        "pos = [p for p in mylist if p >= 0]\n",
        "neg = [n for n in mylist if n < 0]\n",
        "\n",
        "# 양수 정렬\n",
        "max_num = max(mylist)\n",
        "max_digit = len(str(max_num))\n",
        "\n",
        "for digit in range(max_digit):\n",
        "  buckets = [[] for _ in range(10)]\n",
        "\n",
        "  for num in pos:\n",
        "    digit_val = (num // (10 ** digit)) % 10\n",
        "    buckets[digit_val].append(num)\n",
        "\n",
        "  pos = [num for bucket in buckets for num in bucket]\n",
        "\n",
        "# 음수 정렬\n",
        "max_num = max(mylist)\n",
        "max_digit = len(str(max_num))\n",
        "\n",
        "for digit in range(max_digit):\n",
        "  buckets = [[] for _ in range(10)]\n",
        "\n",
        "  for num in neg:\n",
        "    digit_val = (num // (10 ** digit)) % 10\n",
        "    buckets[digit_val].append(num)\n",
        "\n",
        "  neg = [num for bucket in buckets for num in bucket]\n",
        "\n",
        "result = []\n",
        "result.extend(neg)\n",
        "result.extend(pos)\n",
        "\n",
        "for i in range(N) :\n",
        "  print(result[i])"
      ],
      "metadata": {
        "colab": {
          "base_uri": "https://localhost:8080/"
        },
        "id": "S7HtlMUxZnc_",
        "outputId": "0f824816-99e8-47e7-f103-25135071d26c"
      },
      "execution_count": 16,
      "outputs": [
        {
          "output_type": "stream",
          "name": "stdout",
          "text": [
            "5\n",
            "0\n",
            "-29\n",
            "-100\n",
            "98\n",
            "4050\n",
            "[-100, -29, 0, 98, 4050]\n"
          ]
        }
      ]
    },
    {
      "cell_type": "code",
      "source": [],
      "metadata": {
        "id": "HQkkSz9EaEdp"
      },
      "execution_count": null,
      "outputs": []
    }
  ]
}