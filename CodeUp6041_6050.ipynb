{
  "nbformat": 4,
  "nbformat_minor": 0,
  "metadata": {
    "colab": {
      "provenance": [],
      "toc_visible": true,
      "authorship_tag": "ABX9TyOFAu1mBqejMYXUnnvDq6BM",
      "include_colab_link": true
    },
    "kernelspec": {
      "name": "python3",
      "display_name": "Python 3"
    },
    "language_info": {
      "name": "python"
    }
  },
  "cells": [
    {
      "cell_type": "markdown",
      "metadata": {
        "id": "view-in-github",
        "colab_type": "text"
      },
      "source": [
        "<a href=\"https://colab.research.google.com/github/sonhj110/Coding-Test/blob/main/CodeUp6041_6050.ipynb\" target=\"_parent\"><img src=\"https://colab.research.google.com/assets/colab-badge.svg\" alt=\"Open In Colab\"/></a>"
      ]
    },
    {
      "cell_type": "markdown",
      "source": [
        "# 6041 : [기초-산술연산] 정수 2개 입력받아 나눈 나머지 계산하기(설명)(py)\n",
        "정수 2개(a, b) 를 입력받아 a를 b로 나눈 나머지를 출력해보자."
      ],
      "metadata": {
        "id": "nLqvyzzOCUm5"
      }
    },
    {
      "cell_type": "code",
      "execution_count": null,
      "metadata": {
        "colab": {
          "base_uri": "https://localhost:8080/"
        },
        "id": "JdBpVmpxCIdT",
        "outputId": "09ee7b27-7cf7-4d0a-8bba-4046cf761feb"
      },
      "outputs": [
        {
          "output_type": "stream",
          "name": "stdout",
          "text": [
            "10 3\n",
            "1\n"
          ]
        }
      ],
      "source": [
        "a, b = input().split()\n",
        "print(int(a)%int(b))"
      ]
    },
    {
      "cell_type": "markdown",
      "source": [
        "# 6042 : [기초-값변환] 실수 1개 입력받아 소숫점이하 자리 변환하기(설명)(py)\n",
        "실수 1개를 입력받아\n",
        "소숫점 이하 두 번째 자리까지의 정확도로 반올림한 값을 출력해보자."
      ],
      "metadata": {
        "id": "7ojTMsvRCrL0"
      }
    },
    {
      "cell_type": "code",
      "source": [
        "a=float(input())\n",
        "print(format(a, \".2f\"))"
      ],
      "metadata": {
        "colab": {
          "base_uri": "https://localhost:8080/"
        },
        "id": "LLMP8JBDCR9Y",
        "outputId": "d842b285-d49c-457d-d366-af8688d884d5"
      },
      "execution_count": null,
      "outputs": [
        {
          "output_type": "stream",
          "name": "stdout",
          "text": [
            "3.141592\n",
            "3.14\n"
          ]
        }
      ]
    },
    {
      "cell_type": "markdown",
      "source": [
        "# 6043 : [기초-산술연산] 실수 2개 입력받아 나눈 결과 계산하기(py)\n",
        "실수 2개(f1, f2)를 입력받아\n",
        "f1 을 f2 로 나눈 값을 출력해보자. 이 때 소숫점 넷째자리에서 반올림하여 무조건 소숫점 셋째 자리까지 출력한다."
      ],
      "metadata": {
        "id": "uKgqAWHlC2xs"
      }
    },
    {
      "cell_type": "code",
      "source": [
        "f1, f2 = input().split()\n",
        "f1, f2 = float(f1), float(f2)\n",
        "print(format(f1/f2, '.3f'))"
      ],
      "metadata": {
        "colab": {
          "base_uri": "https://localhost:8080/"
        },
        "id": "kIwv-2nZCzWI",
        "outputId": "2fadcf15-c480-4c46-a80e-34fba6b4ff86"
      },
      "execution_count": null,
      "outputs": [
        {
          "output_type": "stream",
          "name": "stdout",
          "text": [
            "10.0 3.0\n",
            "3.333\n"
          ]
        }
      ]
    },
    {
      "cell_type": "code",
      "source": [
        "# 해설 풀이\n",
        "a,b=input().split()\n",
        "a=float(a)\n",
        "b=float(b)\n",
        "c=a/b\n",
        "print('%.3f'%c)"
      ],
      "metadata": {
        "colab": {
          "base_uri": "https://localhost:8080/"
        },
        "id": "1QXBCCdpC8Cl",
        "outputId": "793b501a-e642-45d4-d507-77712e9fe61f"
      },
      "execution_count": null,
      "outputs": [
        {
          "output_type": "stream",
          "name": "stdout",
          "text": [
            "10.0 3.0\n",
            "3.333\n"
          ]
        }
      ]
    },
    {
      "cell_type": "markdown",
      "source": [
        "# 6044 : [기초-산술연산] 정수 2개 입력받아 자동 계산하기(py)\n",
        "정수 2개(a, b)를 입력받아 합, 차, 곱, 몫, 나머지, 나눈 값을 자동으로 계산해보자.\n",
        "단, b는 0이 아니다."
      ],
      "metadata": {
        "id": "VQGgZ75XDNcM"
      }
    },
    {
      "cell_type": "code",
      "source": [
        "a, b = input().split()\n",
        "a, b = int(a), int(b)\n",
        "print(a+b)\n",
        "print(a-b)\n",
        "print(a*b)\n",
        "print(a//b)\n",
        "print(a%b)\n",
        "print(format(a/b, '.2f'))"
      ],
      "metadata": {
        "colab": {
          "base_uri": "https://localhost:8080/"
        },
        "id": "YbVXwdg8DJd-",
        "outputId": "2d3eb3b3-5eeb-478c-93d9-117aed7fd66e"
      },
      "execution_count": null,
      "outputs": [
        {
          "output_type": "stream",
          "name": "stdout",
          "text": [
            "10 3\n",
            "13\n",
            "7\n",
            "30\n",
            "3\n",
            "1\n",
            "3.33\n"
          ]
        }
      ]
    },
    {
      "cell_type": "markdown",
      "source": [
        "# 6045 : [기초-산술연산] 정수 3개 입력받아 합과 평균 출력하기(설명)(py)\n",
        "정수 3개를 입력받아 합과 평균을 출력해보자."
      ],
      "metadata": {
        "id": "obR6n9Z9-wsR"
      }
    },
    {
      "cell_type": "code",
      "source": [
        "a,b,c = input().split()\n",
        "a,b,c = int(a), int(b), int(c)\n",
        "print(a+b+c, format((a+b+c)/3, '.2f'))"
      ],
      "metadata": {
        "id": "Ttxpz2kNDS9_",
        "colab": {
          "base_uri": "https://localhost:8080/"
        },
        "outputId": "df6ed615-396c-44d9-804e-b42a71ddd8a0"
      },
      "execution_count": 1,
      "outputs": [
        {
          "output_type": "stream",
          "name": "stdout",
          "text": [
            "1 2 3\n",
            "6 2.00\n"
          ]
        }
      ]
    },
    {
      "cell_type": "markdown",
      "source": [
        "# 6046 : [기초-비트시프트연산] 정수 1개 입력받아 2배 곱해 출력하기(설명)(py)\n",
        "정수 1개를 입력받아 2배 곱해 출력해보자."
      ],
      "metadata": {
        "id": "Xyjn3qT3_C4t"
      }
    },
    {
      "cell_type": "code",
      "source": [
        "a = int(input())\n",
        "print(a<<1)"
      ],
      "metadata": {
        "colab": {
          "base_uri": "https://localhost:8080/"
        },
        "id": "hqCkrcZX-1ig",
        "outputId": "451b5b7c-b69a-4fdc-a01c-5896b9251e82"
      },
      "execution_count": 2,
      "outputs": [
        {
          "output_type": "stream",
          "name": "stdout",
          "text": [
            "1024\n",
            "2048\n"
          ]
        }
      ]
    },
    {
      "cell_type": "markdown",
      "source": [
        "# 6047 : [기초-비트시프트연산] 2의 거듭제곱 배로 곱해 출력하기(설명)(py)\n",
        "정수 2개(a, b)를 입력받아 a를 2의 b 곱한 값으로 출력해보자."
      ],
      "metadata": {
        "id": "JyH4pm4q_Liy"
      }
    },
    {
      "cell_type": "code",
      "source": [
        "a, b = input().split()\n",
        "a, b = int(a), int(b)\n",
        "print(a<<b)"
      ],
      "metadata": {
        "colab": {
          "base_uri": "https://localhost:8080/"
        },
        "id": "tYnHc7K8_Hoh",
        "outputId": "b68281cc-cb22-4146-c8be-cfdae077a8f2"
      },
      "execution_count": 3,
      "outputs": [
        {
          "output_type": "stream",
          "name": "stdout",
          "text": [
            "1 3\n",
            "8\n"
          ]
        }
      ]
    },
    {
      "cell_type": "markdown",
      "source": [
        "# 6048 : [기초-비교연산] 정수 2개 입력받아 비교하기1(설명)(py)\n",
        "두 정수(a, b)를 입력받아\n",
        "a가 b보다 작으면 True 를, a가 b보다 크거나 같으면 False 를 출력하는 프로그램을 작성해보자."
      ],
      "metadata": {
        "id": "et_pHcjt_aqB"
      }
    },
    {
      "cell_type": "code",
      "source": [
        "a, b = input().split()\n",
        "print(int(a)<int(b))"
      ],
      "metadata": {
        "colab": {
          "base_uri": "https://localhost:8080/"
        },
        "id": "V1A-HVud_V9K",
        "outputId": "2d4a6459-d0b6-416d-8c7d-ebcd52a608e7"
      },
      "execution_count": 4,
      "outputs": [
        {
          "output_type": "stream",
          "name": "stdout",
          "text": [
            "1 9\n",
            "True\n"
          ]
        }
      ]
    },
    {
      "cell_type": "markdown",
      "source": [
        "# 6049 : [기초-비교연산] 정수 2개 입력받아 비교하기2(설명)(py)\n",
        "두 정수(a, b)를 입력받아\n",
        "a와 b의 값이 같으면 True 를, 같지 않으면 False 를 출력하는 프로그램을 작성해보자."
      ],
      "metadata": {
        "id": "i80QKiV4_knR"
      }
    },
    {
      "cell_type": "code",
      "source": [
        "a, b = input().split()\n",
        "print(int(a) == int(b))"
      ],
      "metadata": {
        "colab": {
          "base_uri": "https://localhost:8080/"
        },
        "id": "eTs2m38X_g91",
        "outputId": "8dbe812b-b1ed-496e-d7c2-75ded2c43ea2"
      },
      "execution_count": 6,
      "outputs": [
        {
          "output_type": "stream",
          "name": "stdout",
          "text": [
            "0 0\n",
            "True\n"
          ]
        }
      ]
    },
    {
      "cell_type": "markdown",
      "source": [
        "# 6050 : [기초-비교연산] 정수 2개 입력받아 비교하기3(설명)(py)\n",
        "두 정수(a, b)를 입력받아\n",
        "b의 값이 a의 값 보다 크거나 같으면 True 를, 같지 않으면 False 를 출력하는 프로그램을 작성해보자."
      ],
      "metadata": {
        "id": "Cxp6BAZb_rhr"
      }
    },
    {
      "cell_type": "code",
      "source": [
        "a, b = input().split()\n",
        "print(int(a) <= int(b))"
      ],
      "metadata": {
        "colab": {
          "base_uri": "https://localhost:8080/"
        },
        "id": "S3A9bSeB_ouU",
        "outputId": "e077addb-dd6d-445f-f78a-031e73ac5d35"
      },
      "execution_count": 7,
      "outputs": [
        {
          "output_type": "stream",
          "name": "stdout",
          "text": [
            "0 -1\n",
            "False\n"
          ]
        }
      ]
    }
  ]
}